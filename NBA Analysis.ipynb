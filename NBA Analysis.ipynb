{
 "cells": [
  {
   "cell_type": "code",
   "execution_count": 1,
   "id": "f48e36cb",
   "metadata": {},
   "outputs": [],
   "source": [
    "from nba_api.stats.endpoints import boxscoretraditionalv2 as boxscore, leagueleaders as ll, leaguegamelog, boxscorefourfactorsv2 as ff, playerdashptreb as rebounds\n",
    "from nba_api.stats.endpoints import playercareerstats as player_career, draftcombinestats as combine, leaguehustlestatsplayer as hustle, commonteamroster as roster\n",
    "from nba_api.stats.static import teams, players\n",
    "import pandas as pd\n",
    "from nba_api.stats.endpoints import commonplayerinfo, leaguedashplayershotlocations as shot_chart, leaguedashteamptshot as teamshot, leaguedashptdefend as defence\n",
    "from sklearn.linear_model import LinearRegression, LogisticRegression\n",
    "from sklearn.preprocessing import StandardScaler, MinMaxScaler\n",
    "from sklearn.pipeline import Pipeline\n",
    "from sklearn.model_selection import train_test_split, cross_val_score, GridSearchCV, StratifiedKFold\n",
    "import matplotlib.pyplot as plt\n",
    "import statsmodels.api as sm\n",
    "import numpy as np\n",
    "from sklearn.metrics import confusion_matrix, roc_curve, precision_recall_curve, auc, plot_roc_curve, accuracy_score, recall_score, precision_score, silhouette_samples, silhouette_score\n",
    "import requests\n",
    "from sklearn.decomposition import PCA\n",
    "from yellowbrick.cluster import KElbowVisualizer, SilhouetteVisualizer\n",
    "from sklearn.cluster import AgglomerativeClustering, KMeans\n",
    "import seaborn as sns\n",
    "import warnings\n",
    "import plotly.express as px\n",
    "import plotly.graph_objects as go\n",
    "import itertools\n"
   ]
  },
  {
   "cell_type": "code",
   "execution_count": null,
   "id": "c5ecc427",
   "metadata": {},
   "outputs": [],
   "source": []
  },
  {
   "cell_type": "code",
   "execution_count": null,
   "id": "6f732ddf",
   "metadata": {},
   "outputs": [],
   "source": []
  },
  {
   "cell_type": "markdown",
   "id": "7f31b3df",
   "metadata": {},
   "source": [
    "## Get Game Stats (Can be skipped if you use .csv files)"
   ]
  },
  {
   "cell_type": "code",
   "execution_count": 3,
   "id": "bd832dc8",
   "metadata": {},
   "outputs": [],
   "source": [
    "def format_data(data):\n",
    "    data['Oreb Diff'] = ''\n",
    "    data['3 Point Diff'] = ''\n",
    "    data['TOV Margin'] = ''\n",
    "    data['FGA Diff'] = ''\n",
    "    data ['Home Team'] = ''\n",
    "    data ['FTA Diff'] = ''\n",
    "\n",
    "    for i in range(0,len(data)):\n",
    "        if data['MATCHUP'][i][4] == '@':\n",
    "            home_team = data['MATCHUP'][i][6:9]\n",
    "        else:\n",
    "            home_team = data['MATCHUP'][i][0:3]\n",
    "        data.at[i, 'Home Team'] = home_team\n",
    "        \n",
    "        \n",
    "        if i % 2 == 0:\n",
    "            data.at[i,'Oreb Diff'] = data['OREB'][i] - data['OREB'][i+1]\n",
    "            data.at[i,'3 Point Diff'] = data['FG3M'][i] - data['FG3M'][i+1]\n",
    "            data.at[i,'TOV Margin'] = -1*(data['TOV'][i] - data['TOV'][i+1])\n",
    "            data.at[i, 'FGA Diff'] = data['FGA'][i] - data['FGA'][i+1]\n",
    "            data.at[i, 'FTA Diff'] = data['FTA'][i] - data['FTA'][i+1]\n",
    "            \n",
    "        if i % 2 !=0 :\n",
    "            data.at[i,'Oreb Diff'] = -1*data['Oreb Diff'][i-1]\n",
    "            data.at[i,'3 Point Diff'] = -1*data['3 Point Diff'][i-1] \n",
    "            data.at[i,'TOV Margin'] = -1*data['TOV Margin'][i-1] \n",
    "            data.at[i, 'FGA Diff'] = -1*data['FGA Diff'][i-1]\n",
    "            data.at[i, 'FTA Diff'] = -1*data['FTA Diff'][i-1]\n",
    "    \n",
    "    data['Home Team'] = (data['Home Team'] == data['TEAM_ABBREVIATION'])*1\n",
    "    return data\n"
   ]
  },
  {
   "cell_type": "code",
   "execution_count": 4,
   "id": "d97ce0d3",
   "metadata": {},
   "outputs": [],
   "source": [
    "def get_gamelogs(start_year, end_year, season_type = 'Regular Season'):\n",
    "    log = leaguegamelog.LeagueGameLog(season_type_all_star = season_type, season=start_year)\n",
    "    log_df = log.get_data_frames()[0][['SEASON_ID', 'TEAM_ID', 'TEAM_ABBREVIATION','GAME_ID',\n",
    "       'GAME_DATE','WL','OREB','FG3M','TOV', 'FGA','FTA','FG_PCT','PLUS_MINUS', 'MATCHUP']]\n",
    "    log_df = format_data(log_df)\n",
    "    for i in range(start_year+1,end_year +1):\n",
    "        szn = str(i)\n",
    "        print(szn)\n",
    "        temp_log = leaguegamelog.LeagueGameLog(season_type_all_star = season_type, season=szn)\n",
    "        temp_df = temp_log.get_data_frames()[0][['SEASON_ID', 'TEAM_ID', 'TEAM_ABBREVIATION','GAME_ID',\n",
    "           'GAME_DATE','WL','OREB','FG3M','TOV','FGA','FTA','FG_PCT', 'PLUS_MINUS', 'MATCHUP']]\n",
    "        temp_df = format_data(temp_df)\n",
    "        log_df = pd.concat([log_df,temp_df], axis=0, ignore_index=True)\n",
    "    return log_df\n",
    "    "
   ]
  },
  {
   "cell_type": "code",
   "execution_count": 5,
   "id": "82f47955",
   "metadata": {},
   "outputs": [
    {
     "name": "stdout",
     "output_type": "stream",
     "text": [
      "2018\n",
      "2019\n",
      "2020\n",
      "2021\n"
     ]
    },
    {
     "data": {
      "text/plain": [
       "11658"
      ]
     },
     "execution_count": 5,
     "metadata": {},
     "output_type": "execute_result"
    }
   ],
   "source": [
    "log_df = get_gamelogs(2017,2021)\n",
    "\n",
    "log_df = log_df.dropna()\n",
    "len(log_df)"
   ]
  },
  {
   "cell_type": "code",
   "execution_count": 6,
   "id": "6d8fb8aa",
   "metadata": {},
   "outputs": [],
   "source": [
    "log_df = log_df.sort_values('GAME_ID')"
   ]
  },
  {
   "cell_type": "code",
   "execution_count": 7,
   "id": "46780ea6",
   "metadata": {},
   "outputs": [],
   "source": [
    "def merge_data(new_data, old_data = None):\n",
    "    new_game_data =  pd.merge(left=log_df, right=new_data, how='inner', on = ['GAME_ID','TEAM_ABBREVIATION'])\n",
    "    if old_data is None:\n",
    "        updated_df = new_game_data\n",
    "    else:\n",
    "        updated_df =  pd.concat([old_data, new_game_data])\n",
    "    updated_df = updated_df.sort_values('GAME_ID')\n",
    "    updated_df.to_html('game_data.html', index=False)\n",
    "    return updated_df "
   ]
  },
  {
   "cell_type": "code",
   "execution_count": 8,
   "id": "78ab744e",
   "metadata": {},
   "outputs": [],
   "source": [
    "four_fact_df = pd.DataFrame(columns=['GAME_ID', 'TEAM_ID', 'TEAM_NAME', 'TEAM_ABBREVIATION', 'TEAM_CITY', 'MIN', 'EFG_PCT', 'FTA_RATE', 'TM_TOV_PCT', 'OREB_PCT', 'OPP_EFG_PCT', 'OPP_FTA_RATE', 'OPP_TOV_PCT', 'OPP_OREB_PCT'])\n",
    "def get_ff(data, id_list):\n",
    "    for i,j in enumerate(id_list):\n",
    "        try:\n",
    "            data = pd.concat([data,ff.BoxScoreFourFactorsV2(game_id=j).get_data_frames()[1]], ignore_index=True)\n",
    "        except (ConnectionResetError, ConnectionError):\n",
    "            print('ConnectionError')\n",
    "            print(len(data))\n",
    "            return data\n",
    "        except (requests.exceptions.ReadTimeout, requests.exceptions.ConnectionError) :\n",
    "            print('req error')\n",
    "            print(len(data))\n",
    "            return data\n",
    "             \n",
    "\n",
    "    return data"
   ]
  },
  {
   "cell_type": "code",
   "execution_count": 417,
   "id": "2ae2daad",
   "metadata": {},
   "outputs": [],
   "source": [
    "game_id = log_df.GAME_ID.values\n",
    "last_game_id = game_data.GAME_ID.values[-1]\n",
    "last_game_id \n",
    "last_idx = np.where(log_df.GAME_ID == last_game_id)\n",
    "remaining_ids = log_df['GAME_ID'].values[last_idx[0][0]:]\n",
    "four_fact_df = pd.DataFrame(columns=['GAME_ID', 'TEAM_ID', 'TEAM_NAME', 'TEAM_ABBREVIATION', 'TEAM_CITY', 'MIN', 'EFG_PCT', 'FTA_RATE', 'TM_TOV_PCT', 'OREB_PCT', 'OPP_EFG_PCT', 'OPP_FTA_RATE', 'OPP_TOV_PCT', 'OPP_OREB_PCT'])\n",
    "four_fact_df = get_ff(four_fact_df, remaining_ids)\n",
    "\n"
   ]
  },
  {
   "cell_type": "code",
   "execution_count": 418,
   "id": "21dbb20f",
   "metadata": {},
   "outputs": [],
   "source": [
    "game_data = merge_data(four_fact_df, game_data)\n"
   ]
  },
  {
   "cell_type": "code",
   "execution_count": 419,
   "id": "67b908fd",
   "metadata": {},
   "outputs": [
    {
     "data": {
      "text/html": [
       "<div>\n",
       "<style scoped>\n",
       "    .dataframe tbody tr th:only-of-type {\n",
       "        vertical-align: middle;\n",
       "    }\n",
       "\n",
       "    .dataframe tbody tr th {\n",
       "        vertical-align: top;\n",
       "    }\n",
       "\n",
       "    .dataframe thead th {\n",
       "        text-align: right;\n",
       "    }\n",
       "</style>\n",
       "<table border=\"1\" class=\"dataframe\">\n",
       "  <thead>\n",
       "    <tr style=\"text-align: right;\">\n",
       "      <th></th>\n",
       "      <th>GAME_ID</th>\n",
       "      <th>TEAM_ID</th>\n",
       "      <th>TEAM_NAME</th>\n",
       "      <th>TEAM_ABBREVIATION</th>\n",
       "      <th>TEAM_CITY</th>\n",
       "      <th>MIN</th>\n",
       "      <th>EFG_PCT</th>\n",
       "      <th>FTA_RATE</th>\n",
       "      <th>TM_TOV_PCT</th>\n",
       "      <th>OREB_PCT</th>\n",
       "      <th>...</th>\n",
       "      <th>FG_PCT</th>\n",
       "      <th>PLUS_MINUS</th>\n",
       "      <th>MATCHUP</th>\n",
       "      <th>Oreb Diff</th>\n",
       "      <th>3 Point Diff</th>\n",
       "      <th>TOV Margin</th>\n",
       "      <th>FGA Diff</th>\n",
       "      <th>Home Team</th>\n",
       "      <th>FTA Diff</th>\n",
       "      <th>TEAM_ID_y</th>\n",
       "    </tr>\n",
       "  </thead>\n",
       "  <tbody>\n",
       "    <tr>\n",
       "      <th>0</th>\n",
       "      <td>0021700001</td>\n",
       "      <td>1610612739</td>\n",
       "      <td>Cavaliers</td>\n",
       "      <td>CLE</td>\n",
       "      <td>Cleveland</td>\n",
       "      <td>240:00</td>\n",
       "      <td>0.488</td>\n",
       "      <td>0.301</td>\n",
       "      <td>0.167</td>\n",
       "      <td>0.188</td>\n",
       "      <td>...</td>\n",
       "      <td>NaN</td>\n",
       "      <td>NaN</td>\n",
       "      <td>NaN</td>\n",
       "      <td>NaN</td>\n",
       "      <td>NaN</td>\n",
       "      <td>NaN</td>\n",
       "      <td>NaN</td>\n",
       "      <td>NaN</td>\n",
       "      <td>NaN</td>\n",
       "      <td>NaN</td>\n",
       "    </tr>\n",
       "    <tr>\n",
       "      <th>1</th>\n",
       "      <td>0021700001</td>\n",
       "      <td>1610612738</td>\n",
       "      <td>Celtics</td>\n",
       "      <td>BOS</td>\n",
       "      <td>Boston</td>\n",
       "      <td>240:00</td>\n",
       "      <td>0.455</td>\n",
       "      <td>0.284</td>\n",
       "      <td>0.118</td>\n",
       "      <td>0.161</td>\n",
       "      <td>...</td>\n",
       "      <td>NaN</td>\n",
       "      <td>NaN</td>\n",
       "      <td>NaN</td>\n",
       "      <td>NaN</td>\n",
       "      <td>NaN</td>\n",
       "      <td>NaN</td>\n",
       "      <td>NaN</td>\n",
       "      <td>NaN</td>\n",
       "      <td>NaN</td>\n",
       "      <td>NaN</td>\n",
       "    </tr>\n",
       "    <tr>\n",
       "      <th>2</th>\n",
       "      <td>0021700001</td>\n",
       "      <td>1610612739</td>\n",
       "      <td>Cavaliers</td>\n",
       "      <td>CLE</td>\n",
       "      <td>Cleveland</td>\n",
       "      <td>240:00</td>\n",
       "      <td>0.488</td>\n",
       "      <td>0.301</td>\n",
       "      <td>0.167</td>\n",
       "      <td>0.188</td>\n",
       "      <td>...</td>\n",
       "      <td>NaN</td>\n",
       "      <td>NaN</td>\n",
       "      <td>NaN</td>\n",
       "      <td>NaN</td>\n",
       "      <td>NaN</td>\n",
       "      <td>NaN</td>\n",
       "      <td>NaN</td>\n",
       "      <td>NaN</td>\n",
       "      <td>NaN</td>\n",
       "      <td>NaN</td>\n",
       "    </tr>\n",
       "    <tr>\n",
       "      <th>3</th>\n",
       "      <td>0021700001</td>\n",
       "      <td>1610612738</td>\n",
       "      <td>Celtics</td>\n",
       "      <td>BOS</td>\n",
       "      <td>Boston</td>\n",
       "      <td>240:00</td>\n",
       "      <td>0.455</td>\n",
       "      <td>0.284</td>\n",
       "      <td>0.118</td>\n",
       "      <td>0.161</td>\n",
       "      <td>...</td>\n",
       "      <td>NaN</td>\n",
       "      <td>NaN</td>\n",
       "      <td>NaN</td>\n",
       "      <td>NaN</td>\n",
       "      <td>NaN</td>\n",
       "      <td>NaN</td>\n",
       "      <td>NaN</td>\n",
       "      <td>NaN</td>\n",
       "      <td>NaN</td>\n",
       "      <td>NaN</td>\n",
       "    </tr>\n",
       "    <tr>\n",
       "      <th>4</th>\n",
       "      <td>0021700002</td>\n",
       "      <td>1610612745</td>\n",
       "      <td>Rockets</td>\n",
       "      <td>HOU</td>\n",
       "      <td>Houston</td>\n",
       "      <td>240:00</td>\n",
       "      <td>0.562</td>\n",
       "      <td>0.196</td>\n",
       "      <td>0.120</td>\n",
       "      <td>0.185</td>\n",
       "      <td>...</td>\n",
       "      <td>NaN</td>\n",
       "      <td>NaN</td>\n",
       "      <td>NaN</td>\n",
       "      <td>NaN</td>\n",
       "      <td>NaN</td>\n",
       "      <td>NaN</td>\n",
       "      <td>NaN</td>\n",
       "      <td>NaN</td>\n",
       "      <td>NaN</td>\n",
       "      <td>NaN</td>\n",
       "    </tr>\n",
       "    <tr>\n",
       "      <th>...</th>\n",
       "      <td>...</td>\n",
       "      <td>...</td>\n",
       "      <td>...</td>\n",
       "      <td>...</td>\n",
       "      <td>...</td>\n",
       "      <td>...</td>\n",
       "      <td>...</td>\n",
       "      <td>...</td>\n",
       "      <td>...</td>\n",
       "      <td>...</td>\n",
       "      <td>...</td>\n",
       "      <td>...</td>\n",
       "      <td>...</td>\n",
       "      <td>...</td>\n",
       "      <td>...</td>\n",
       "      <td>...</td>\n",
       "      <td>...</td>\n",
       "      <td>...</td>\n",
       "      <td>...</td>\n",
       "      <td>...</td>\n",
       "      <td>...</td>\n",
       "    </tr>\n",
       "    <tr>\n",
       "      <th>11041</th>\n",
       "      <td>0022101229</td>\n",
       "      <td>NaN</td>\n",
       "      <td>Suns</td>\n",
       "      <td>PHX</td>\n",
       "      <td>Phoenix</td>\n",
       "      <td>240:00</td>\n",
       "      <td>0.476</td>\n",
       "      <td>0.146</td>\n",
       "      <td>0.107</td>\n",
       "      <td>0.286</td>\n",
       "      <td>...</td>\n",
       "      <td>0.408</td>\n",
       "      <td>-7.0</td>\n",
       "      <td>PHX vs. SAC</td>\n",
       "      <td>16</td>\n",
       "      <td>0</td>\n",
       "      <td>4</td>\n",
       "      <td>27</td>\n",
       "      <td>1.0</td>\n",
       "      <td>-15</td>\n",
       "      <td>1610612756</td>\n",
       "    </tr>\n",
       "    <tr>\n",
       "      <th>11045</th>\n",
       "      <td>0022101230</td>\n",
       "      <td>NaN</td>\n",
       "      <td>Trail Blazers</td>\n",
       "      <td>POR</td>\n",
       "      <td>Portland</td>\n",
       "      <td>240:00</td>\n",
       "      <td>0.428</td>\n",
       "      <td>0.145</td>\n",
       "      <td>0.161</td>\n",
       "      <td>0.094</td>\n",
       "      <td>...</td>\n",
       "      <td>0.373</td>\n",
       "      <td>-31.0</td>\n",
       "      <td>POR vs. UTA</td>\n",
       "      <td>-10</td>\n",
       "      <td>0</td>\n",
       "      <td>1</td>\n",
       "      <td>1</td>\n",
       "      <td>1.0</td>\n",
       "      <td>-26</td>\n",
       "      <td>1610612757</td>\n",
       "    </tr>\n",
       "    <tr>\n",
       "      <th>11046</th>\n",
       "      <td>0022101230</td>\n",
       "      <td>NaN</td>\n",
       "      <td>Jazz</td>\n",
       "      <td>UTA</td>\n",
       "      <td>Utah</td>\n",
       "      <td>240:00</td>\n",
       "      <td>0.506</td>\n",
       "      <td>0.463</td>\n",
       "      <td>0.169</td>\n",
       "      <td>0.300</td>\n",
       "      <td>...</td>\n",
       "      <td>0.451</td>\n",
       "      <td>31.0</td>\n",
       "      <td>UTA @ POR</td>\n",
       "      <td>10</td>\n",
       "      <td>0</td>\n",
       "      <td>-1</td>\n",
       "      <td>-1</td>\n",
       "      <td>0.0</td>\n",
       "      <td>26</td>\n",
       "      <td>1610612762</td>\n",
       "    </tr>\n",
       "    <tr>\n",
       "      <th>11044</th>\n",
       "      <td>0022101230</td>\n",
       "      <td>NaN</td>\n",
       "      <td>Trail Blazers</td>\n",
       "      <td>POR</td>\n",
       "      <td>Portland</td>\n",
       "      <td>240:00</td>\n",
       "      <td>0.428</td>\n",
       "      <td>0.145</td>\n",
       "      <td>0.161</td>\n",
       "      <td>0.094</td>\n",
       "      <td>...</td>\n",
       "      <td>0.373</td>\n",
       "      <td>-31.0</td>\n",
       "      <td>POR vs. UTA</td>\n",
       "      <td>-10</td>\n",
       "      <td>0</td>\n",
       "      <td>1</td>\n",
       "      <td>1</td>\n",
       "      <td>1.0</td>\n",
       "      <td>-26</td>\n",
       "      <td>1610612757</td>\n",
       "    </tr>\n",
       "    <tr>\n",
       "      <th>11047</th>\n",
       "      <td>0022101230</td>\n",
       "      <td>NaN</td>\n",
       "      <td>Jazz</td>\n",
       "      <td>UTA</td>\n",
       "      <td>Utah</td>\n",
       "      <td>240:00</td>\n",
       "      <td>0.506</td>\n",
       "      <td>0.463</td>\n",
       "      <td>0.169</td>\n",
       "      <td>0.300</td>\n",
       "      <td>...</td>\n",
       "      <td>0.451</td>\n",
       "      <td>31.0</td>\n",
       "      <td>UTA @ POR</td>\n",
       "      <td>10</td>\n",
       "      <td>0</td>\n",
       "      <td>-1</td>\n",
       "      <td>-1</td>\n",
       "      <td>0.0</td>\n",
       "      <td>26</td>\n",
       "      <td>1610612762</td>\n",
       "    </tr>\n",
       "  </tbody>\n",
       "</table>\n",
       "<p>23336 rows × 33 columns</p>\n",
       "</div>"
      ],
      "text/plain": [
       "          GAME_ID     TEAM_ID      TEAM_NAME TEAM_ABBREVIATION  TEAM_CITY  \\\n",
       "0      0021700001  1610612739      Cavaliers               CLE  Cleveland   \n",
       "1      0021700001  1610612738        Celtics               BOS     Boston   \n",
       "2      0021700001  1610612739      Cavaliers               CLE  Cleveland   \n",
       "3      0021700001  1610612738        Celtics               BOS     Boston   \n",
       "4      0021700002  1610612745        Rockets               HOU    Houston   \n",
       "...           ...         ...            ...               ...        ...   \n",
       "11041  0022101229         NaN           Suns               PHX    Phoenix   \n",
       "11045  0022101230         NaN  Trail Blazers               POR   Portland   \n",
       "11046  0022101230         NaN           Jazz               UTA       Utah   \n",
       "11044  0022101230         NaN  Trail Blazers               POR   Portland   \n",
       "11047  0022101230         NaN           Jazz               UTA       Utah   \n",
       "\n",
       "          MIN  EFG_PCT  FTA_RATE  TM_TOV_PCT  OREB_PCT  ...  FG_PCT  \\\n",
       "0      240:00    0.488     0.301       0.167     0.188  ...     NaN   \n",
       "1      240:00    0.455     0.284       0.118     0.161  ...     NaN   \n",
       "2      240:00    0.488     0.301       0.167     0.188  ...     NaN   \n",
       "3      240:00    0.455     0.284       0.118     0.161  ...     NaN   \n",
       "4      240:00    0.562     0.196       0.120     0.185  ...     NaN   \n",
       "...       ...      ...       ...         ...       ...  ...     ...   \n",
       "11041  240:00    0.476     0.146       0.107     0.286  ...   0.408   \n",
       "11045  240:00    0.428     0.145       0.161     0.094  ...   0.373   \n",
       "11046  240:00    0.506     0.463       0.169     0.300  ...   0.451   \n",
       "11044  240:00    0.428     0.145       0.161     0.094  ...   0.373   \n",
       "11047  240:00    0.506     0.463       0.169     0.300  ...   0.451   \n",
       "\n",
       "       PLUS_MINUS      MATCHUP  Oreb Diff 3 Point Diff  TOV Margin FGA Diff  \\\n",
       "0             NaN          NaN        NaN          NaN         NaN      NaN   \n",
       "1             NaN          NaN        NaN          NaN         NaN      NaN   \n",
       "2             NaN          NaN        NaN          NaN         NaN      NaN   \n",
       "3             NaN          NaN        NaN          NaN         NaN      NaN   \n",
       "4             NaN          NaN        NaN          NaN         NaN      NaN   \n",
       "...           ...          ...        ...          ...         ...      ...   \n",
       "11041        -7.0  PHX vs. SAC         16            0           4       27   \n",
       "11045       -31.0  POR vs. UTA        -10            0           1        1   \n",
       "11046        31.0    UTA @ POR         10            0          -1       -1   \n",
       "11044       -31.0  POR vs. UTA        -10            0           1        1   \n",
       "11047        31.0    UTA @ POR         10            0          -1       -1   \n",
       "\n",
       "      Home Team  FTA Diff   TEAM_ID_y  \n",
       "0           NaN       NaN         NaN  \n",
       "1           NaN       NaN         NaN  \n",
       "2           NaN       NaN         NaN  \n",
       "3           NaN       NaN         NaN  \n",
       "4           NaN       NaN         NaN  \n",
       "...         ...       ...         ...  \n",
       "11041       1.0       -15  1610612756  \n",
       "11045       1.0       -26  1610612757  \n",
       "11046       0.0        26  1610612762  \n",
       "11044       1.0       -26  1610612757  \n",
       "11047       0.0        26  1610612762  \n",
       "\n",
       "[23336 rows x 33 columns]"
      ]
     },
     "execution_count": 419,
     "metadata": {},
     "output_type": "execute_result"
    }
   ],
   "source": [
    "\n",
    "game_data"
   ]
  },
  {
   "cell_type": "code",
   "execution_count": 421,
   "id": "ae9b20d1",
   "metadata": {},
   "outputs": [
    {
     "data": {
      "text/html": [
       "<div>\n",
       "<style scoped>\n",
       "    .dataframe tbody tr th:only-of-type {\n",
       "        vertical-align: middle;\n",
       "    }\n",
       "\n",
       "    .dataframe tbody tr th {\n",
       "        vertical-align: top;\n",
       "    }\n",
       "\n",
       "    .dataframe thead th {\n",
       "        text-align: right;\n",
       "    }\n",
       "</style>\n",
       "<table border=\"1\" class=\"dataframe\">\n",
       "  <thead>\n",
       "    <tr style=\"text-align: right;\">\n",
       "      <th></th>\n",
       "      <th>GAME_ID</th>\n",
       "      <th>TEAM_ID</th>\n",
       "      <th>TEAM_NAME</th>\n",
       "      <th>TEAM_ABBREVIATION</th>\n",
       "      <th>TEAM_CITY</th>\n",
       "      <th>MIN</th>\n",
       "      <th>EFG_PCT</th>\n",
       "      <th>FTA_RATE</th>\n",
       "      <th>TM_TOV_PCT</th>\n",
       "      <th>OREB_PCT</th>\n",
       "      <th>...</th>\n",
       "      <th>FG_PCT</th>\n",
       "      <th>PLUS_MINUS</th>\n",
       "      <th>MATCHUP</th>\n",
       "      <th>Oreb Diff</th>\n",
       "      <th>3 Point Diff</th>\n",
       "      <th>TOV Margin</th>\n",
       "      <th>FGA Diff</th>\n",
       "      <th>Home Team</th>\n",
       "      <th>FTA Diff</th>\n",
       "      <th>TEAM_ID_y</th>\n",
       "    </tr>\n",
       "  </thead>\n",
       "  <tbody>\n",
       "    <tr>\n",
       "      <th>0</th>\n",
       "      <td>0021700001</td>\n",
       "      <td>1610612739</td>\n",
       "      <td>Cavaliers</td>\n",
       "      <td>CLE</td>\n",
       "      <td>Cleveland</td>\n",
       "      <td>240:00</td>\n",
       "      <td>0.488</td>\n",
       "      <td>0.301</td>\n",
       "      <td>0.167</td>\n",
       "      <td>0.188</td>\n",
       "      <td>...</td>\n",
       "      <td>NaN</td>\n",
       "      <td>NaN</td>\n",
       "      <td>NaN</td>\n",
       "      <td>NaN</td>\n",
       "      <td>NaN</td>\n",
       "      <td>NaN</td>\n",
       "      <td>NaN</td>\n",
       "      <td>NaN</td>\n",
       "      <td>NaN</td>\n",
       "      <td>NaN</td>\n",
       "    </tr>\n",
       "    <tr>\n",
       "      <th>1</th>\n",
       "      <td>0021700001</td>\n",
       "      <td>1610612738</td>\n",
       "      <td>Celtics</td>\n",
       "      <td>BOS</td>\n",
       "      <td>Boston</td>\n",
       "      <td>240:00</td>\n",
       "      <td>0.455</td>\n",
       "      <td>0.284</td>\n",
       "      <td>0.118</td>\n",
       "      <td>0.161</td>\n",
       "      <td>...</td>\n",
       "      <td>NaN</td>\n",
       "      <td>NaN</td>\n",
       "      <td>NaN</td>\n",
       "      <td>NaN</td>\n",
       "      <td>NaN</td>\n",
       "      <td>NaN</td>\n",
       "      <td>NaN</td>\n",
       "      <td>NaN</td>\n",
       "      <td>NaN</td>\n",
       "      <td>NaN</td>\n",
       "    </tr>\n",
       "    <tr>\n",
       "      <th>4</th>\n",
       "      <td>0021700002</td>\n",
       "      <td>1610612745</td>\n",
       "      <td>Rockets</td>\n",
       "      <td>HOU</td>\n",
       "      <td>Houston</td>\n",
       "      <td>240:00</td>\n",
       "      <td>0.562</td>\n",
       "      <td>0.196</td>\n",
       "      <td>0.120</td>\n",
       "      <td>0.185</td>\n",
       "      <td>...</td>\n",
       "      <td>NaN</td>\n",
       "      <td>NaN</td>\n",
       "      <td>NaN</td>\n",
       "      <td>NaN</td>\n",
       "      <td>NaN</td>\n",
       "      <td>NaN</td>\n",
       "      <td>NaN</td>\n",
       "      <td>NaN</td>\n",
       "      <td>NaN</td>\n",
       "      <td>NaN</td>\n",
       "    </tr>\n",
       "    <tr>\n",
       "      <th>5</th>\n",
       "      <td>0021700002</td>\n",
       "      <td>1610612744</td>\n",
       "      <td>Warriors</td>\n",
       "      <td>GSW</td>\n",
       "      <td>Golden State</td>\n",
       "      <td>240:00</td>\n",
       "      <td>0.638</td>\n",
       "      <td>0.263</td>\n",
       "      <td>0.170</td>\n",
       "      <td>0.154</td>\n",
       "      <td>...</td>\n",
       "      <td>NaN</td>\n",
       "      <td>NaN</td>\n",
       "      <td>NaN</td>\n",
       "      <td>NaN</td>\n",
       "      <td>NaN</td>\n",
       "      <td>NaN</td>\n",
       "      <td>NaN</td>\n",
       "      <td>NaN</td>\n",
       "      <td>NaN</td>\n",
       "      <td>NaN</td>\n",
       "    </tr>\n",
       "    <tr>\n",
       "      <th>11</th>\n",
       "      <td>0021700003</td>\n",
       "      <td>1610612766</td>\n",
       "      <td>Hornets</td>\n",
       "      <td>CHA</td>\n",
       "      <td>Charlotte</td>\n",
       "      <td>240:00</td>\n",
       "      <td>0.459</td>\n",
       "      <td>0.397</td>\n",
       "      <td>0.170</td>\n",
       "      <td>0.065</td>\n",
       "      <td>...</td>\n",
       "      <td>NaN</td>\n",
       "      <td>NaN</td>\n",
       "      <td>NaN</td>\n",
       "      <td>NaN</td>\n",
       "      <td>NaN</td>\n",
       "      <td>NaN</td>\n",
       "      <td>NaN</td>\n",
       "      <td>NaN</td>\n",
       "      <td>NaN</td>\n",
       "      <td>NaN</td>\n",
       "    </tr>\n",
       "    <tr>\n",
       "      <th>...</th>\n",
       "      <td>...</td>\n",
       "      <td>...</td>\n",
       "      <td>...</td>\n",
       "      <td>...</td>\n",
       "      <td>...</td>\n",
       "      <td>...</td>\n",
       "      <td>...</td>\n",
       "      <td>...</td>\n",
       "      <td>...</td>\n",
       "      <td>...</td>\n",
       "      <td>...</td>\n",
       "      <td>...</td>\n",
       "      <td>...</td>\n",
       "      <td>...</td>\n",
       "      <td>...</td>\n",
       "      <td>...</td>\n",
       "      <td>...</td>\n",
       "      <td>...</td>\n",
       "      <td>...</td>\n",
       "      <td>...</td>\n",
       "      <td>...</td>\n",
       "    </tr>\n",
       "    <tr>\n",
       "      <th>11036</th>\n",
       "      <td>0022101228</td>\n",
       "      <td>NaN</td>\n",
       "      <td>76ers</td>\n",
       "      <td>PHI</td>\n",
       "      <td>Philadelphia</td>\n",
       "      <td>240:00</td>\n",
       "      <td>0.551</td>\n",
       "      <td>0.261</td>\n",
       "      <td>0.111</td>\n",
       "      <td>0.233</td>\n",
       "      <td>...</td>\n",
       "      <td>0.523</td>\n",
       "      <td>12.0</td>\n",
       "      <td>PHI vs. DET</td>\n",
       "      <td>-5</td>\n",
       "      <td>-6</td>\n",
       "      <td>9</td>\n",
       "      <td>5</td>\n",
       "      <td>1.0</td>\n",
       "      <td>-6</td>\n",
       "      <td>1610612755</td>\n",
       "    </tr>\n",
       "    <tr>\n",
       "      <th>11042</th>\n",
       "      <td>0022101229</td>\n",
       "      <td>NaN</td>\n",
       "      <td>Kings</td>\n",
       "      <td>SAC</td>\n",
       "      <td>Sacramento</td>\n",
       "      <td>240:00</td>\n",
       "      <td>0.618</td>\n",
       "      <td>0.395</td>\n",
       "      <td>0.147</td>\n",
       "      <td>0.051</td>\n",
       "      <td>...</td>\n",
       "      <td>0.526</td>\n",
       "      <td>7.0</td>\n",
       "      <td>SAC @ PHX</td>\n",
       "      <td>-16</td>\n",
       "      <td>0</td>\n",
       "      <td>-4</td>\n",
       "      <td>-27</td>\n",
       "      <td>0.0</td>\n",
       "      <td>15</td>\n",
       "      <td>1610612758</td>\n",
       "    </tr>\n",
       "    <tr>\n",
       "      <th>11040</th>\n",
       "      <td>0022101229</td>\n",
       "      <td>NaN</td>\n",
       "      <td>Suns</td>\n",
       "      <td>PHX</td>\n",
       "      <td>Phoenix</td>\n",
       "      <td>240:00</td>\n",
       "      <td>0.476</td>\n",
       "      <td>0.146</td>\n",
       "      <td>0.107</td>\n",
       "      <td>0.286</td>\n",
       "      <td>...</td>\n",
       "      <td>0.408</td>\n",
       "      <td>-7.0</td>\n",
       "      <td>PHX vs. SAC</td>\n",
       "      <td>16</td>\n",
       "      <td>0</td>\n",
       "      <td>4</td>\n",
       "      <td>27</td>\n",
       "      <td>1.0</td>\n",
       "      <td>-15</td>\n",
       "      <td>1610612756</td>\n",
       "    </tr>\n",
       "    <tr>\n",
       "      <th>11045</th>\n",
       "      <td>0022101230</td>\n",
       "      <td>NaN</td>\n",
       "      <td>Trail Blazers</td>\n",
       "      <td>POR</td>\n",
       "      <td>Portland</td>\n",
       "      <td>240:00</td>\n",
       "      <td>0.428</td>\n",
       "      <td>0.145</td>\n",
       "      <td>0.161</td>\n",
       "      <td>0.094</td>\n",
       "      <td>...</td>\n",
       "      <td>0.373</td>\n",
       "      <td>-31.0</td>\n",
       "      <td>POR vs. UTA</td>\n",
       "      <td>-10</td>\n",
       "      <td>0</td>\n",
       "      <td>1</td>\n",
       "      <td>1</td>\n",
       "      <td>1.0</td>\n",
       "      <td>-26</td>\n",
       "      <td>1610612757</td>\n",
       "    </tr>\n",
       "    <tr>\n",
       "      <th>11046</th>\n",
       "      <td>0022101230</td>\n",
       "      <td>NaN</td>\n",
       "      <td>Jazz</td>\n",
       "      <td>UTA</td>\n",
       "      <td>Utah</td>\n",
       "      <td>240:00</td>\n",
       "      <td>0.506</td>\n",
       "      <td>0.463</td>\n",
       "      <td>0.169</td>\n",
       "      <td>0.300</td>\n",
       "      <td>...</td>\n",
       "      <td>0.451</td>\n",
       "      <td>31.0</td>\n",
       "      <td>UTA @ POR</td>\n",
       "      <td>10</td>\n",
       "      <td>0</td>\n",
       "      <td>-1</td>\n",
       "      <td>-1</td>\n",
       "      <td>0.0</td>\n",
       "      <td>26</td>\n",
       "      <td>1610612762</td>\n",
       "    </tr>\n",
       "  </tbody>\n",
       "</table>\n",
       "<p>11658 rows × 33 columns</p>\n",
       "</div>"
      ],
      "text/plain": [
       "          GAME_ID     TEAM_ID      TEAM_NAME TEAM_ABBREVIATION     TEAM_CITY  \\\n",
       "0      0021700001  1610612739      Cavaliers               CLE     Cleveland   \n",
       "1      0021700001  1610612738        Celtics               BOS        Boston   \n",
       "4      0021700002  1610612745        Rockets               HOU       Houston   \n",
       "5      0021700002  1610612744       Warriors               GSW  Golden State   \n",
       "11     0021700003  1610612766        Hornets               CHA     Charlotte   \n",
       "...           ...         ...            ...               ...           ...   \n",
       "11036  0022101228         NaN          76ers               PHI  Philadelphia   \n",
       "11042  0022101229         NaN          Kings               SAC    Sacramento   \n",
       "11040  0022101229         NaN           Suns               PHX       Phoenix   \n",
       "11045  0022101230         NaN  Trail Blazers               POR      Portland   \n",
       "11046  0022101230         NaN           Jazz               UTA          Utah   \n",
       "\n",
       "          MIN  EFG_PCT  FTA_RATE  TM_TOV_PCT  OREB_PCT  ...  FG_PCT  \\\n",
       "0      240:00    0.488     0.301       0.167     0.188  ...     NaN   \n",
       "1      240:00    0.455     0.284       0.118     0.161  ...     NaN   \n",
       "4      240:00    0.562     0.196       0.120     0.185  ...     NaN   \n",
       "5      240:00    0.638     0.263       0.170     0.154  ...     NaN   \n",
       "11     240:00    0.459     0.397       0.170     0.065  ...     NaN   \n",
       "...       ...      ...       ...         ...       ...  ...     ...   \n",
       "11036  240:00    0.551     0.261       0.111     0.233  ...   0.523   \n",
       "11042  240:00    0.618     0.395       0.147     0.051  ...   0.526   \n",
       "11040  240:00    0.476     0.146       0.107     0.286  ...   0.408   \n",
       "11045  240:00    0.428     0.145       0.161     0.094  ...   0.373   \n",
       "11046  240:00    0.506     0.463       0.169     0.300  ...   0.451   \n",
       "\n",
       "       PLUS_MINUS      MATCHUP  Oreb Diff 3 Point Diff  TOV Margin FGA Diff  \\\n",
       "0             NaN          NaN        NaN          NaN         NaN      NaN   \n",
       "1             NaN          NaN        NaN          NaN         NaN      NaN   \n",
       "4             NaN          NaN        NaN          NaN         NaN      NaN   \n",
       "5             NaN          NaN        NaN          NaN         NaN      NaN   \n",
       "11            NaN          NaN        NaN          NaN         NaN      NaN   \n",
       "...           ...          ...        ...          ...         ...      ...   \n",
       "11036        12.0  PHI vs. DET         -5           -6           9        5   \n",
       "11042         7.0    SAC @ PHX        -16            0          -4      -27   \n",
       "11040        -7.0  PHX vs. SAC         16            0           4       27   \n",
       "11045       -31.0  POR vs. UTA        -10            0           1        1   \n",
       "11046        31.0    UTA @ POR         10            0          -1       -1   \n",
       "\n",
       "      Home Team  FTA Diff   TEAM_ID_y  \n",
       "0           NaN       NaN         NaN  \n",
       "1           NaN       NaN         NaN  \n",
       "4           NaN       NaN         NaN  \n",
       "5           NaN       NaN         NaN  \n",
       "11          NaN       NaN         NaN  \n",
       "...         ...       ...         ...  \n",
       "11036       1.0        -6  1610612755  \n",
       "11042       0.0        15  1610612758  \n",
       "11040       1.0       -15  1610612756  \n",
       "11045       1.0       -26  1610612757  \n",
       "11046       0.0        26  1610612762  \n",
       "\n",
       "[11658 rows x 33 columns]"
      ]
     },
     "execution_count": 421,
     "metadata": {},
     "output_type": "execute_result"
    }
   ],
   "source": [
    "game_data = game_data.drop_duplicates(subset=['GAME_ID', 'TEAM_ABBREVIATION'])\n",
    "game_data"
   ]
  },
  {
   "cell_type": "markdown",
   "id": "a16ef9d3",
   "metadata": {},
   "source": [
    "## Create Features"
   ]
  },
  {
   "cell_type": "markdown",
   "id": "596208cf",
   "metadata": {},
   "source": [
    "We are going to make some predictors from the data we got:\n",
    "1. EFG Difference: The Difference in EFG for the teams in the game\n",
    "\n",
    "2. Turnover Percent Difference: The difference in % turnovers for one team vs. their opponent\n",
    "\n",
    "3. Offensive Rebound Percent Difference: The difference in OREB % for a team and their opponent\n",
    "\n",
    "4. FT Rate Difference: Difference in free throw rates for the team and their opponent\n",
    "\n"
   ]
  },
  {
   "cell_type": "code",
   "execution_count": 3,
   "id": "9dc663ee",
   "metadata": {},
   "outputs": [],
   "source": [
    "game_data = pd.read_csv('game_data.csv', converters={'GAME_ID': str})[0]\n",
    "\n",
    "\n",
    "\n",
    "game_data = game_data.drop_duplicates(subset=['GAME_ID', 'TEAM_ABBREVIATION'])\n"
   ]
  },
  {
   "cell_type": "code",
   "execution_count": null,
   "id": "451eae8c",
   "metadata": {},
   "outputs": [],
   "source": []
  },
  {
   "cell_type": "code",
   "execution_count": 10,
   "id": "929e79a1",
   "metadata": {},
   "outputs": [],
   "source": [
    "game_data = game_data.drop(['TEAM_ID'], axis=1)"
   ]
  },
  {
   "cell_type": "code",
   "execution_count": 11,
   "id": "c5840891",
   "metadata": {},
   "outputs": [],
   "source": [
    "game_data['EFG_Diff'] = game_data.EFG_PCT - game_data.OPP_EFG_PCT\n",
    "game_data['TOV_PCT_Diff'] = -1*(game_data.TM_TOV_PCT - game_data.OPP_TOV_PCT)\n",
    "game_data['OREB_PCT_Diff'] = game_data.OREB_PCT - game_data.OPP_OREB_PCT\n",
    "game_data['FT_RATE_Diff'] = game_data.FTA_RATE - game_data.OPP_FTA_RATE\n",
    "game_data['OREB_TOV'] = game_data.OREB_PCT_Diff + game_data.TOV_PCT_Diff\n"
   ]
  },
  {
   "cell_type": "code",
   "execution_count": null,
   "id": "fbd35768",
   "metadata": {},
   "outputs": [],
   "source": []
  },
  {
   "cell_type": "code",
   "execution_count": 12,
   "id": "44ab5655",
   "metadata": {},
   "outputs": [],
   "source": [
    "teams_list = log_df['TEAM_ABBREVIATION'].unique()"
   ]
  },
  {
   "cell_type": "code",
   "execution_count": 13,
   "id": "08827b00",
   "metadata": {},
   "outputs": [],
   "source": [
    "df_no_2021 = game_data[game_data['SEASON_ID']!=22021]\n",
    "df_2021 = game_data[game_data['SEASON_ID']==22021]\n",
    "\n",
    "\n",
    "log_df_raps_2021 = df_2021[(df_2021['TEAM_ABBREVIATION']=='TOR')].copy().reset_index()\n",
    "\n"
   ]
  },
  {
   "cell_type": "markdown",
   "id": "db5395d2",
   "metadata": {},
   "source": [
    "## Model Fitting"
   ]
  },
  {
   "cell_type": "markdown",
   "id": "74b160bf",
   "metadata": {},
   "source": [
    "Let's make some models! The model framework, in general, is as follows:\n",
    "\n",
    "1. Define a population from which we will collect our sample data\n",
    "   \n",
    "    * Here, our population is all of the NBA Games and we sample the games from 2017-18 to 2020-2021\n",
    "\n",
    "2. Define the set of inputs you want the model to consider when making a prediction:\n",
    "    \n",
    "    * We will use the 4 feautres we created above as our inputs to the model. These inputs will give the model the information it needs to make a prediction. We will consider multiple models that use different combinations of these 4 inputs and compare the results.\n",
    "\n",
    "3. Define a response variable. What is the thing we want the model to predict?\n",
    "\n",
    "    * We will use the game outcome, win or loss, to be our response variable, denoted as 'W' for win, and 'L' for loss. The model itself will give a probability of a win, that will be between 0 and 1 (i.e., a probability of 1 would be a 100% chance of victory, a probability of 0.5 reflects a 50% chance of victory and so on...). We will define a win as a probability of victory of 0.5 (50% chance) or higher.\n",
    "\n",
    "\n"
   ]
  },
  {
   "cell_type": "code",
   "execution_count": 14,
   "id": "5d89d115",
   "metadata": {},
   "outputs": [],
   "source": [
    "def log_reg_games(model, test_data, features):\n",
    "    df = pd.DataFrame(columns = ['Team', 'Accuracy', 'Correct Predictions', 'Missed W\\'s', 'Missed L\\'s'])\n",
    "    df_stats_w = pd.DataFrame(columns = ['Team', 'Oreb Diff Avg.', 'EFG Diff Avg.', 'TOV Margin Avg.', 'FTR Diff Avg.', 'OREB_TOV AVG.','Sample Size'])\n",
    "    df_stats_l = pd.DataFrame(columns = ['Team', 'Oreb Diff Avg.', 'EFG Diff Avg.', 'TOV Margin Avg.', 'FTR Diff Avg.', 'OREB_TOV AVG.','Sample Size'])\n",
    "    \n",
    "    np.seterr(all=\"ignore\")\n",
    "    warnings.filterwarnings('ignore')\n",
    "    for i,j in enumerate(teams_list): \n",
    "        \n",
    "        test = test_data[test_data['TEAM_ABBREVIATION'] == j].copy()\n",
    "        \n",
    "        ytest = (test['WL']=='W')*1\n",
    "        \n",
    "        xtest = test[features]\n",
    "        \n",
    "\n",
    "    \n",
    "        pred = model.predict(xtest)\n",
    "        \n",
    "        test['Prediction Acc'] = (ytest == pred)\n",
    "        test['Win Prob'] = model.predict_proba(xtest)[:,1]\n",
    "        acc = accuracy_score(ytest, pred)\n",
    "       \n",
    "\n",
    "\n",
    "        false_w=test[(test['Prediction Acc']==False)& (test['WL']=='W')]\n",
    "        oreb_avg = false_w['OREB_PCT_Diff'].values.mean()*100\n",
    "        three_avg = false_w['EFG_Diff'].values.mean()*100\n",
    "        tov_avg = false_w['TOV_PCT_Diff'].values.mean()*100\n",
    "        ftr_avg = false_w['FT_RATE_Diff'].values.mean()*100\n",
    "        oreb_tov = false_w['OREB_TOV'].values.mean()*100\n",
    "        n = len(false_w)\n",
    "        \n",
    "\n",
    "        df.loc[i] = [j, acc, int(acc*82), n, 82- int(acc*82)-n]\n",
    "        df_stats_w.loc[i] = [j, oreb_avg, three_avg, tov_avg, ftr_avg, oreb_tov,n]\n",
    "\n",
    "        false_l=test[(test['Prediction Acc']==False)& (test['WL']=='W')]\n",
    "        oreb_avg = false_l['OREB_PCT_Diff'].values.mean()*100\n",
    "        three_avg = false_l['EFG_Diff'].values.mean()*100\n",
    "        tov_avg = false_l['TOV_PCT_Diff'].values.mean()*100\n",
    "        ftr_avg = false_l['FT_RATE_Diff'].values.mean()*100\n",
    "        oreb_tov = false_l['OREB_TOV'].values.mean()*100\n",
    "        n = len(false_l)\n",
    "        \n",
    "\n",
    "        df_stats_l.loc[i] = [j, oreb_avg, three_avg, tov_avg, ftr_avg, oreb_tov,n]\n",
    "    df = df.sort_values('Accuracy', ascending=False).reset_index(drop=True)   \n",
    "    df_stats_w = df_stats_w[df_stats_w['Sample Size'] > 5]\n",
    "    return (df, df_stats_w, df_stats_l)"
   ]
  },
  {
   "cell_type": "markdown",
   "id": "9e771fd6",
   "metadata": {},
   "source": [
    "### Model 1 : Use EFG Difference, TOV Percent Difference, and Free Throw Rate Difference as our inputs\n",
    "\n",
    "* We will train this model by using the above data from the games in the  2017-2018 season to the 2020-2021 season"
   ]
  },
  {
   "cell_type": "code",
   "execution_count": 15,
   "id": "aaab64c8",
   "metadata": {},
   "outputs": [
    {
     "name": "stdout",
     "output_type": "stream",
     "text": [
      "Optimization terminated successfully    (Exit mode 0)\n",
      "            Current function value: 0.41493398509643886\n",
      "            Iterations: 53\n",
      "            Function evaluations: 54\n",
      "            Gradient evaluations: 53\n",
      "                           Logit Regression Results                           \n",
      "==============================================================================\n",
      "Dep. Variable:                     WL   No. Observations:                11658\n",
      "Model:                          Logit   Df Residuals:                    11655\n",
      "Method:                           MLE   Df Model:                            2\n",
      "Date:                Tue, 02 Aug 2022   Pseudo R-squ.:                  0.4042\n",
      "Time:                        16:28:21   Log-Likelihood:                -4807.2\n",
      "converged:                       True   LL-Null:                       -8068.2\n",
      "Covariance Type:            nonrobust   LLR p-value:                     0.000\n",
      "================================================================================\n",
      "                   coef    std err          z      P>|z|      [0.025      0.975]\n",
      "--------------------------------------------------------------------------------\n",
      "const           -0.1723      0.025     -6.778      0.000      -0.222      -0.122\n",
      "EFG_Diff        25.3339      0.470     53.919      0.000      24.413      26.255\n",
      "FT_RATE_Diff     4.5653      0.223     20.499      0.000       4.129       5.002\n",
      "================================================================================\n"
     ]
    },
    {
     "data": {
      "text/plain": [
       "array([[25.331214  ,  4.56502391]])"
      ]
     },
     "execution_count": 15,
     "metadata": {},
     "output_type": "execute_result"
    }
   ],
   "source": [
    "ytrain = (game_data['WL']=='W')*1\n",
    "xtrain = game_data[[ 'EFG_Diff','FT_RATE_Diff']]\n",
    "log_reg = sm.Logit(ytrain,sm.add_constant(xtrain).astype(float))\n",
    "result = log_reg.fit_regularized(method='l1', alpha=1)\n",
    "print(result.summary())\n",
    "lr = LogisticRegression(penalty='l1', solver='saga')\n",
    "lr.fit(xtrain, ytrain)\n",
    "lr.coef_\n"
   ]
  },
  {
   "cell_type": "markdown",
   "id": "2472f492",
   "metadata": {},
   "source": [
    "We can get a general idea of the model's ability to make prediction by measuring its accuracy. Accuracy is the number of correct predictions divided by the total number of predictions:\n",
    "\n",
    "$Accuracy = \\frac{ Number Of Correct Predictions}{Total Number Of Predictions}$\n",
    "\n",
    "\n",
    "We can use a technique called Cross-validation to see the average accuracy rate of this model over the set of data we gave the model to learn. Essentially, we partition the data into equal and distinct segments, train the model over all of these segments except for one, which we use to predict on and calculate accuracy. Each segment gets a turn to be the segment on which we  make a prediction. Then, we take the average of all of the accuracies."
   ]
  },
  {
   "cell_type": "code",
   "execution_count": null,
   "id": "9a56dece",
   "metadata": {},
   "outputs": [],
   "source": []
  },
  {
   "cell_type": "code",
   "execution_count": 16,
   "id": "46d29835",
   "metadata": {},
   "outputs": [
    {
     "name": "stdout",
     "output_type": "stream",
     "text": [
      "The average accuracy over the training data is 0.8170410559559478\n"
     ]
    }
   ],
   "source": [
    "skf = StratifiedKFold(10)\n",
    "cv = cross_val_score(lr,xtrain, ytrain, cv=skf, scoring='accuracy').mean()\n",
    "print(f'The average accuracy over the training data is {cv}')"
   ]
  },
  {
   "cell_type": "markdown",
   "id": "bf622f65",
   "metadata": {},
   "source": [
    "So, the model is performing quite well (as expected) over the training data (2017-2021). Now, let's train the model over the entire training dataset without leaving out any segments for cross-validation. Then, we will test this model by predicting every game, from every team, in the 2021-2022 season."
   ]
  },
  {
   "cell_type": "code",
   "execution_count": 17,
   "id": "562d6d16",
   "metadata": {},
   "outputs": [],
   "source": [
    "team_pred_df = log_reg_games(lr, df_2021, ['EFG_Diff',  'FT_RATE_Diff'])\n"
   ]
  },
  {
   "cell_type": "markdown",
   "id": "26e200e3",
   "metadata": {},
   "source": [
    "### Model Performance:"
   ]
  },
  {
   "cell_type": "code",
   "execution_count": 18,
   "id": "f212cada",
   "metadata": {},
   "outputs": [
    {
     "data": {
      "text/html": [
       "<div>\n",
       "<style scoped>\n",
       "    .dataframe tbody tr th:only-of-type {\n",
       "        vertical-align: middle;\n",
       "    }\n",
       "\n",
       "    .dataframe tbody tr th {\n",
       "        vertical-align: top;\n",
       "    }\n",
       "\n",
       "    .dataframe thead th {\n",
       "        text-align: right;\n",
       "    }\n",
       "</style>\n",
       "<table border=\"1\" class=\"dataframe\">\n",
       "  <thead>\n",
       "    <tr style=\"text-align: right;\">\n",
       "      <th></th>\n",
       "      <th>Team</th>\n",
       "      <th>Accuracy</th>\n",
       "      <th>Correct Predictions</th>\n",
       "      <th>Missed W's</th>\n",
       "      <th>Missed L's</th>\n",
       "    </tr>\n",
       "  </thead>\n",
       "  <tbody>\n",
       "    <tr>\n",
       "      <th>0</th>\n",
       "      <td>DAL</td>\n",
       "      <td>0.926829</td>\n",
       "      <td>76</td>\n",
       "      <td>5</td>\n",
       "      <td>1</td>\n",
       "    </tr>\n",
       "    <tr>\n",
       "      <th>1</th>\n",
       "      <td>MIN</td>\n",
       "      <td>0.926829</td>\n",
       "      <td>76</td>\n",
       "      <td>6</td>\n",
       "      <td>0</td>\n",
       "    </tr>\n",
       "    <tr>\n",
       "      <th>2</th>\n",
       "      <td>CHA</td>\n",
       "      <td>0.926829</td>\n",
       "      <td>76</td>\n",
       "      <td>4</td>\n",
       "      <td>2</td>\n",
       "    </tr>\n",
       "    <tr>\n",
       "      <th>3</th>\n",
       "      <td>POR</td>\n",
       "      <td>0.914634</td>\n",
       "      <td>75</td>\n",
       "      <td>4</td>\n",
       "      <td>3</td>\n",
       "    </tr>\n",
       "    <tr>\n",
       "      <th>4</th>\n",
       "      <td>OKC</td>\n",
       "      <td>0.902439</td>\n",
       "      <td>74</td>\n",
       "      <td>4</td>\n",
       "      <td>4</td>\n",
       "    </tr>\n",
       "    <tr>\n",
       "      <th>5</th>\n",
       "      <td>SAC</td>\n",
       "      <td>0.890244</td>\n",
       "      <td>73</td>\n",
       "      <td>4</td>\n",
       "      <td>5</td>\n",
       "    </tr>\n",
       "    <tr>\n",
       "      <th>6</th>\n",
       "      <td>ATL</td>\n",
       "      <td>0.890244</td>\n",
       "      <td>73</td>\n",
       "      <td>5</td>\n",
       "      <td>4</td>\n",
       "    </tr>\n",
       "    <tr>\n",
       "      <th>7</th>\n",
       "      <td>MIA</td>\n",
       "      <td>0.890244</td>\n",
       "      <td>73</td>\n",
       "      <td>7</td>\n",
       "      <td>2</td>\n",
       "    </tr>\n",
       "    <tr>\n",
       "      <th>8</th>\n",
       "      <td>BOS</td>\n",
       "      <td>0.878049</td>\n",
       "      <td>72</td>\n",
       "      <td>4</td>\n",
       "      <td>6</td>\n",
       "    </tr>\n",
       "    <tr>\n",
       "      <th>9</th>\n",
       "      <td>BKN</td>\n",
       "      <td>0.865854</td>\n",
       "      <td>71</td>\n",
       "      <td>5</td>\n",
       "      <td>6</td>\n",
       "    </tr>\n",
       "    <tr>\n",
       "      <th>10</th>\n",
       "      <td>ORL</td>\n",
       "      <td>0.865854</td>\n",
       "      <td>71</td>\n",
       "      <td>6</td>\n",
       "      <td>5</td>\n",
       "    </tr>\n",
       "    <tr>\n",
       "      <th>11</th>\n",
       "      <td>WAS</td>\n",
       "      <td>0.865854</td>\n",
       "      <td>71</td>\n",
       "      <td>4</td>\n",
       "      <td>7</td>\n",
       "    </tr>\n",
       "    <tr>\n",
       "      <th>12</th>\n",
       "      <td>MIL</td>\n",
       "      <td>0.865854</td>\n",
       "      <td>71</td>\n",
       "      <td>8</td>\n",
       "      <td>3</td>\n",
       "    </tr>\n",
       "    <tr>\n",
       "      <th>13</th>\n",
       "      <td>UTA</td>\n",
       "      <td>0.841463</td>\n",
       "      <td>69</td>\n",
       "      <td>5</td>\n",
       "      <td>8</td>\n",
       "    </tr>\n",
       "    <tr>\n",
       "      <th>14</th>\n",
       "      <td>CHI</td>\n",
       "      <td>0.841463</td>\n",
       "      <td>69</td>\n",
       "      <td>8</td>\n",
       "      <td>5</td>\n",
       "    </tr>\n",
       "    <tr>\n",
       "      <th>15</th>\n",
       "      <td>PHX</td>\n",
       "      <td>0.841463</td>\n",
       "      <td>69</td>\n",
       "      <td>10</td>\n",
       "      <td>3</td>\n",
       "    </tr>\n",
       "    <tr>\n",
       "      <th>16</th>\n",
       "      <td>LAL</td>\n",
       "      <td>0.841463</td>\n",
       "      <td>69</td>\n",
       "      <td>5</td>\n",
       "      <td>8</td>\n",
       "    </tr>\n",
       "    <tr>\n",
       "      <th>17</th>\n",
       "      <td>LAC</td>\n",
       "      <td>0.841463</td>\n",
       "      <td>69</td>\n",
       "      <td>4</td>\n",
       "      <td>9</td>\n",
       "    </tr>\n",
       "    <tr>\n",
       "      <th>18</th>\n",
       "      <td>GSW</td>\n",
       "      <td>0.841463</td>\n",
       "      <td>69</td>\n",
       "      <td>7</td>\n",
       "      <td>6</td>\n",
       "    </tr>\n",
       "    <tr>\n",
       "      <th>19</th>\n",
       "      <td>NOP</td>\n",
       "      <td>0.829268</td>\n",
       "      <td>68</td>\n",
       "      <td>11</td>\n",
       "      <td>3</td>\n",
       "    </tr>\n",
       "    <tr>\n",
       "      <th>20</th>\n",
       "      <td>SAS</td>\n",
       "      <td>0.829268</td>\n",
       "      <td>68</td>\n",
       "      <td>7</td>\n",
       "      <td>7</td>\n",
       "    </tr>\n",
       "    <tr>\n",
       "      <th>21</th>\n",
       "      <td>PHI</td>\n",
       "      <td>0.829268</td>\n",
       "      <td>68</td>\n",
       "      <td>8</td>\n",
       "      <td>6</td>\n",
       "    </tr>\n",
       "    <tr>\n",
       "      <th>22</th>\n",
       "      <td>IND</td>\n",
       "      <td>0.829268</td>\n",
       "      <td>68</td>\n",
       "      <td>4</td>\n",
       "      <td>10</td>\n",
       "    </tr>\n",
       "    <tr>\n",
       "      <th>23</th>\n",
       "      <td>DEN</td>\n",
       "      <td>0.817073</td>\n",
       "      <td>67</td>\n",
       "      <td>10</td>\n",
       "      <td>5</td>\n",
       "    </tr>\n",
       "    <tr>\n",
       "      <th>24</th>\n",
       "      <td>MEM</td>\n",
       "      <td>0.817073</td>\n",
       "      <td>67</td>\n",
       "      <td>15</td>\n",
       "      <td>0</td>\n",
       "    </tr>\n",
       "    <tr>\n",
       "      <th>25</th>\n",
       "      <td>CLE</td>\n",
       "      <td>0.817073</td>\n",
       "      <td>67</td>\n",
       "      <td>6</td>\n",
       "      <td>9</td>\n",
       "    </tr>\n",
       "    <tr>\n",
       "      <th>26</th>\n",
       "      <td>DET</td>\n",
       "      <td>0.792683</td>\n",
       "      <td>65</td>\n",
       "      <td>10</td>\n",
       "      <td>7</td>\n",
       "    </tr>\n",
       "    <tr>\n",
       "      <th>27</th>\n",
       "      <td>NYK</td>\n",
       "      <td>0.792683</td>\n",
       "      <td>65</td>\n",
       "      <td>10</td>\n",
       "      <td>7</td>\n",
       "    </tr>\n",
       "    <tr>\n",
       "      <th>28</th>\n",
       "      <td>HOU</td>\n",
       "      <td>0.792683</td>\n",
       "      <td>65</td>\n",
       "      <td>3</td>\n",
       "      <td>14</td>\n",
       "    </tr>\n",
       "    <tr>\n",
       "      <th>29</th>\n",
       "      <td>TOR</td>\n",
       "      <td>0.695122</td>\n",
       "      <td>56</td>\n",
       "      <td>24</td>\n",
       "      <td>2</td>\n",
       "    </tr>\n",
       "  </tbody>\n",
       "</table>\n",
       "</div>"
      ],
      "text/plain": [
       "   Team  Accuracy  Correct Predictions  Missed W's  Missed L's\n",
       "0   DAL  0.926829                   76           5           1\n",
       "1   MIN  0.926829                   76           6           0\n",
       "2   CHA  0.926829                   76           4           2\n",
       "3   POR  0.914634                   75           4           3\n",
       "4   OKC  0.902439                   74           4           4\n",
       "5   SAC  0.890244                   73           4           5\n",
       "6   ATL  0.890244                   73           5           4\n",
       "7   MIA  0.890244                   73           7           2\n",
       "8   BOS  0.878049                   72           4           6\n",
       "9   BKN  0.865854                   71           5           6\n",
       "10  ORL  0.865854                   71           6           5\n",
       "11  WAS  0.865854                   71           4           7\n",
       "12  MIL  0.865854                   71           8           3\n",
       "13  UTA  0.841463                   69           5           8\n",
       "14  CHI  0.841463                   69           8           5\n",
       "15  PHX  0.841463                   69          10           3\n",
       "16  LAL  0.841463                   69           5           8\n",
       "17  LAC  0.841463                   69           4           9\n",
       "18  GSW  0.841463                   69           7           6\n",
       "19  NOP  0.829268                   68          11           3\n",
       "20  SAS  0.829268                   68           7           7\n",
       "21  PHI  0.829268                   68           8           6\n",
       "22  IND  0.829268                   68           4          10\n",
       "23  DEN  0.817073                   67          10           5\n",
       "24  MEM  0.817073                   67          15           0\n",
       "25  CLE  0.817073                   67           6           9\n",
       "26  DET  0.792683                   65          10           7\n",
       "27  NYK  0.792683                   65          10           7\n",
       "28  HOU  0.792683                   65           3          14\n",
       "29  TOR  0.695122                   56          24           2"
      ]
     },
     "execution_count": 18,
     "metadata": {},
     "output_type": "execute_result"
    }
   ],
   "source": [
    "team_pred_df[0]"
   ]
  },
  {
   "cell_type": "code",
   "execution_count": 19,
   "id": "f4491304",
   "metadata": {},
   "outputs": [
    {
     "name": "stdout",
     "output_type": "stream",
     "text": [
      "Connected successfully to https://datapane.com as rpandeya29@gmail.com\n"
     ]
    }
   ],
   "source": [
    "import plotly.graph_objects as go\n",
    "import pandas as pd\n",
    "import datapane as dp\n",
    "!datapane login --token=3ef0fb283073ac0369b8ab4b222796f69253b2d7\n",
    "\n",
    "\n"
   ]
  },
  {
   "cell_type": "code",
   "execution_count": 20,
   "id": "b81b8990",
   "metadata": {},
   "outputs": [
    {
     "data": {
      "application/vnd.plotly.v1+json": {
       "config": {
        "plotlyServerURL": "https://plot.ly"
       },
       "data": [
        {
         "cells": {
          "align": "left",
          "fill": {
           "color": "lavender"
          },
          "values": [
           [
            "DAL",
            "MIN",
            "CHA",
            "POR",
            "OKC",
            "SAC",
            "ATL",
            "MIA",
            "BOS",
            "BKN",
            "ORL",
            "WAS",
            "MIL",
            "UTA",
            "CHI",
            "PHX",
            "LAL",
            "LAC",
            "GSW",
            "NOP",
            "SAS",
            "PHI",
            "IND",
            "DEN",
            "MEM",
            "CLE",
            "DET",
            "NYK",
            "HOU",
            "TOR"
           ],
           [
            0.926829268292683,
            0.926829268292683,
            0.926829268292683,
            0.9146341463414634,
            0.9024390243902439,
            0.8902439024390244,
            0.8902439024390244,
            0.8902439024390244,
            0.8780487804878049,
            0.8658536585365854,
            0.8658536585365854,
            0.8658536585365854,
            0.8658536585365854,
            0.8414634146341463,
            0.8414634146341463,
            0.8414634146341463,
            0.8414634146341463,
            0.8414634146341463,
            0.8414634146341463,
            0.8292682926829268,
            0.8292682926829268,
            0.8292682926829268,
            0.8292682926829268,
            0.8170731707317073,
            0.8170731707317073,
            0.8170731707317073,
            0.7926829268292683,
            0.7926829268292683,
            0.7926829268292683,
            0.6951219512195121
           ],
           [
            76,
            76,
            76,
            75,
            74,
            73,
            73,
            73,
            72,
            71,
            71,
            71,
            71,
            69,
            69,
            69,
            69,
            69,
            69,
            68,
            68,
            68,
            68,
            67,
            67,
            67,
            65,
            65,
            65,
            56
           ],
           [
            5,
            6,
            4,
            4,
            4,
            4,
            5,
            7,
            4,
            5,
            6,
            4,
            8,
            5,
            8,
            10,
            5,
            4,
            7,
            11,
            7,
            8,
            4,
            10,
            15,
            6,
            10,
            10,
            3,
            24
           ],
           [
            1,
            0,
            2,
            3,
            4,
            5,
            4,
            2,
            6,
            6,
            5,
            7,
            3,
            8,
            5,
            3,
            8,
            9,
            6,
            3,
            7,
            6,
            10,
            5,
            0,
            9,
            7,
            7,
            14,
            2
           ]
          ]
         },
         "header": {
          "align": "left",
          "fill": {
           "color": "paleturquoise"
          },
          "values": [
           "Team",
           "Accuracy",
           "Correct Predictions",
           "Missed W's",
           "Missed L's"
          ]
         },
         "type": "table"
        }
       ],
       "layout": {
        "template": {
         "data": {
          "bar": [
           {
            "error_x": {
             "color": "#2a3f5f"
            },
            "error_y": {
             "color": "#2a3f5f"
            },
            "marker": {
             "line": {
              "color": "#E5ECF6",
              "width": 0.5
             },
             "pattern": {
              "fillmode": "overlay",
              "size": 10,
              "solidity": 0.2
             }
            },
            "type": "bar"
           }
          ],
          "barpolar": [
           {
            "marker": {
             "line": {
              "color": "#E5ECF6",
              "width": 0.5
             },
             "pattern": {
              "fillmode": "overlay",
              "size": 10,
              "solidity": 0.2
             }
            },
            "type": "barpolar"
           }
          ],
          "carpet": [
           {
            "aaxis": {
             "endlinecolor": "#2a3f5f",
             "gridcolor": "white",
             "linecolor": "white",
             "minorgridcolor": "white",
             "startlinecolor": "#2a3f5f"
            },
            "baxis": {
             "endlinecolor": "#2a3f5f",
             "gridcolor": "white",
             "linecolor": "white",
             "minorgridcolor": "white",
             "startlinecolor": "#2a3f5f"
            },
            "type": "carpet"
           }
          ],
          "choropleth": [
           {
            "colorbar": {
             "outlinewidth": 0,
             "ticks": ""
            },
            "type": "choropleth"
           }
          ],
          "contour": [
           {
            "colorbar": {
             "outlinewidth": 0,
             "ticks": ""
            },
            "colorscale": [
             [
              0,
              "#0d0887"
             ],
             [
              0.1111111111111111,
              "#46039f"
             ],
             [
              0.2222222222222222,
              "#7201a8"
             ],
             [
              0.3333333333333333,
              "#9c179e"
             ],
             [
              0.4444444444444444,
              "#bd3786"
             ],
             [
              0.5555555555555556,
              "#d8576b"
             ],
             [
              0.6666666666666666,
              "#ed7953"
             ],
             [
              0.7777777777777778,
              "#fb9f3a"
             ],
             [
              0.8888888888888888,
              "#fdca26"
             ],
             [
              1,
              "#f0f921"
             ]
            ],
            "type": "contour"
           }
          ],
          "contourcarpet": [
           {
            "colorbar": {
             "outlinewidth": 0,
             "ticks": ""
            },
            "type": "contourcarpet"
           }
          ],
          "heatmap": [
           {
            "colorbar": {
             "outlinewidth": 0,
             "ticks": ""
            },
            "colorscale": [
             [
              0,
              "#0d0887"
             ],
             [
              0.1111111111111111,
              "#46039f"
             ],
             [
              0.2222222222222222,
              "#7201a8"
             ],
             [
              0.3333333333333333,
              "#9c179e"
             ],
             [
              0.4444444444444444,
              "#bd3786"
             ],
             [
              0.5555555555555556,
              "#d8576b"
             ],
             [
              0.6666666666666666,
              "#ed7953"
             ],
             [
              0.7777777777777778,
              "#fb9f3a"
             ],
             [
              0.8888888888888888,
              "#fdca26"
             ],
             [
              1,
              "#f0f921"
             ]
            ],
            "type": "heatmap"
           }
          ],
          "heatmapgl": [
           {
            "colorbar": {
             "outlinewidth": 0,
             "ticks": ""
            },
            "colorscale": [
             [
              0,
              "#0d0887"
             ],
             [
              0.1111111111111111,
              "#46039f"
             ],
             [
              0.2222222222222222,
              "#7201a8"
             ],
             [
              0.3333333333333333,
              "#9c179e"
             ],
             [
              0.4444444444444444,
              "#bd3786"
             ],
             [
              0.5555555555555556,
              "#d8576b"
             ],
             [
              0.6666666666666666,
              "#ed7953"
             ],
             [
              0.7777777777777778,
              "#fb9f3a"
             ],
             [
              0.8888888888888888,
              "#fdca26"
             ],
             [
              1,
              "#f0f921"
             ]
            ],
            "type": "heatmapgl"
           }
          ],
          "histogram": [
           {
            "marker": {
             "pattern": {
              "fillmode": "overlay",
              "size": 10,
              "solidity": 0.2
             }
            },
            "type": "histogram"
           }
          ],
          "histogram2d": [
           {
            "colorbar": {
             "outlinewidth": 0,
             "ticks": ""
            },
            "colorscale": [
             [
              0,
              "#0d0887"
             ],
             [
              0.1111111111111111,
              "#46039f"
             ],
             [
              0.2222222222222222,
              "#7201a8"
             ],
             [
              0.3333333333333333,
              "#9c179e"
             ],
             [
              0.4444444444444444,
              "#bd3786"
             ],
             [
              0.5555555555555556,
              "#d8576b"
             ],
             [
              0.6666666666666666,
              "#ed7953"
             ],
             [
              0.7777777777777778,
              "#fb9f3a"
             ],
             [
              0.8888888888888888,
              "#fdca26"
             ],
             [
              1,
              "#f0f921"
             ]
            ],
            "type": "histogram2d"
           }
          ],
          "histogram2dcontour": [
           {
            "colorbar": {
             "outlinewidth": 0,
             "ticks": ""
            },
            "colorscale": [
             [
              0,
              "#0d0887"
             ],
             [
              0.1111111111111111,
              "#46039f"
             ],
             [
              0.2222222222222222,
              "#7201a8"
             ],
             [
              0.3333333333333333,
              "#9c179e"
             ],
             [
              0.4444444444444444,
              "#bd3786"
             ],
             [
              0.5555555555555556,
              "#d8576b"
             ],
             [
              0.6666666666666666,
              "#ed7953"
             ],
             [
              0.7777777777777778,
              "#fb9f3a"
             ],
             [
              0.8888888888888888,
              "#fdca26"
             ],
             [
              1,
              "#f0f921"
             ]
            ],
            "type": "histogram2dcontour"
           }
          ],
          "mesh3d": [
           {
            "colorbar": {
             "outlinewidth": 0,
             "ticks": ""
            },
            "type": "mesh3d"
           }
          ],
          "parcoords": [
           {
            "line": {
             "colorbar": {
              "outlinewidth": 0,
              "ticks": ""
             }
            },
            "type": "parcoords"
           }
          ],
          "pie": [
           {
            "automargin": true,
            "type": "pie"
           }
          ],
          "scatter": [
           {
            "fillpattern": {
             "fillmode": "overlay",
             "size": 10,
             "solidity": 0.2
            },
            "type": "scatter"
           }
          ],
          "scatter3d": [
           {
            "line": {
             "colorbar": {
              "outlinewidth": 0,
              "ticks": ""
             }
            },
            "marker": {
             "colorbar": {
              "outlinewidth": 0,
              "ticks": ""
             }
            },
            "type": "scatter3d"
           }
          ],
          "scattercarpet": [
           {
            "marker": {
             "colorbar": {
              "outlinewidth": 0,
              "ticks": ""
             }
            },
            "type": "scattercarpet"
           }
          ],
          "scattergeo": [
           {
            "marker": {
             "colorbar": {
              "outlinewidth": 0,
              "ticks": ""
             }
            },
            "type": "scattergeo"
           }
          ],
          "scattergl": [
           {
            "marker": {
             "colorbar": {
              "outlinewidth": 0,
              "ticks": ""
             }
            },
            "type": "scattergl"
           }
          ],
          "scattermapbox": [
           {
            "marker": {
             "colorbar": {
              "outlinewidth": 0,
              "ticks": ""
             }
            },
            "type": "scattermapbox"
           }
          ],
          "scatterpolar": [
           {
            "marker": {
             "colorbar": {
              "outlinewidth": 0,
              "ticks": ""
             }
            },
            "type": "scatterpolar"
           }
          ],
          "scatterpolargl": [
           {
            "marker": {
             "colorbar": {
              "outlinewidth": 0,
              "ticks": ""
             }
            },
            "type": "scatterpolargl"
           }
          ],
          "scatterternary": [
           {
            "marker": {
             "colorbar": {
              "outlinewidth": 0,
              "ticks": ""
             }
            },
            "type": "scatterternary"
           }
          ],
          "surface": [
           {
            "colorbar": {
             "outlinewidth": 0,
             "ticks": ""
            },
            "colorscale": [
             [
              0,
              "#0d0887"
             ],
             [
              0.1111111111111111,
              "#46039f"
             ],
             [
              0.2222222222222222,
              "#7201a8"
             ],
             [
              0.3333333333333333,
              "#9c179e"
             ],
             [
              0.4444444444444444,
              "#bd3786"
             ],
             [
              0.5555555555555556,
              "#d8576b"
             ],
             [
              0.6666666666666666,
              "#ed7953"
             ],
             [
              0.7777777777777778,
              "#fb9f3a"
             ],
             [
              0.8888888888888888,
              "#fdca26"
             ],
             [
              1,
              "#f0f921"
             ]
            ],
            "type": "surface"
           }
          ],
          "table": [
           {
            "cells": {
             "fill": {
              "color": "#EBF0F8"
             },
             "line": {
              "color": "white"
             }
            },
            "header": {
             "fill": {
              "color": "#C8D4E3"
             },
             "line": {
              "color": "white"
             }
            },
            "type": "table"
           }
          ]
         },
         "layout": {
          "annotationdefaults": {
           "arrowcolor": "#2a3f5f",
           "arrowhead": 0,
           "arrowwidth": 1
          },
          "autotypenumbers": "strict",
          "coloraxis": {
           "colorbar": {
            "outlinewidth": 0,
            "ticks": ""
           }
          },
          "colorscale": {
           "diverging": [
            [
             0,
             "#8e0152"
            ],
            [
             0.1,
             "#c51b7d"
            ],
            [
             0.2,
             "#de77ae"
            ],
            [
             0.3,
             "#f1b6da"
            ],
            [
             0.4,
             "#fde0ef"
            ],
            [
             0.5,
             "#f7f7f7"
            ],
            [
             0.6,
             "#e6f5d0"
            ],
            [
             0.7,
             "#b8e186"
            ],
            [
             0.8,
             "#7fbc41"
            ],
            [
             0.9,
             "#4d9221"
            ],
            [
             1,
             "#276419"
            ]
           ],
           "sequential": [
            [
             0,
             "#0d0887"
            ],
            [
             0.1111111111111111,
             "#46039f"
            ],
            [
             0.2222222222222222,
             "#7201a8"
            ],
            [
             0.3333333333333333,
             "#9c179e"
            ],
            [
             0.4444444444444444,
             "#bd3786"
            ],
            [
             0.5555555555555556,
             "#d8576b"
            ],
            [
             0.6666666666666666,
             "#ed7953"
            ],
            [
             0.7777777777777778,
             "#fb9f3a"
            ],
            [
             0.8888888888888888,
             "#fdca26"
            ],
            [
             1,
             "#f0f921"
            ]
           ],
           "sequentialminus": [
            [
             0,
             "#0d0887"
            ],
            [
             0.1111111111111111,
             "#46039f"
            ],
            [
             0.2222222222222222,
             "#7201a8"
            ],
            [
             0.3333333333333333,
             "#9c179e"
            ],
            [
             0.4444444444444444,
             "#bd3786"
            ],
            [
             0.5555555555555556,
             "#d8576b"
            ],
            [
             0.6666666666666666,
             "#ed7953"
            ],
            [
             0.7777777777777778,
             "#fb9f3a"
            ],
            [
             0.8888888888888888,
             "#fdca26"
            ],
            [
             1,
             "#f0f921"
            ]
           ]
          },
          "colorway": [
           "#636efa",
           "#EF553B",
           "#00cc96",
           "#ab63fa",
           "#FFA15A",
           "#19d3f3",
           "#FF6692",
           "#B6E880",
           "#FF97FF",
           "#FECB52"
          ],
          "font": {
           "color": "#2a3f5f"
          },
          "geo": {
           "bgcolor": "white",
           "lakecolor": "white",
           "landcolor": "#E5ECF6",
           "showlakes": true,
           "showland": true,
           "subunitcolor": "white"
          },
          "hoverlabel": {
           "align": "left"
          },
          "hovermode": "closest",
          "mapbox": {
           "style": "light"
          },
          "paper_bgcolor": "white",
          "plot_bgcolor": "#E5ECF6",
          "polar": {
           "angularaxis": {
            "gridcolor": "white",
            "linecolor": "white",
            "ticks": ""
           },
           "bgcolor": "#E5ECF6",
           "radialaxis": {
            "gridcolor": "white",
            "linecolor": "white",
            "ticks": ""
           }
          },
          "scene": {
           "xaxis": {
            "backgroundcolor": "#E5ECF6",
            "gridcolor": "white",
            "gridwidth": 2,
            "linecolor": "white",
            "showbackground": true,
            "ticks": "",
            "zerolinecolor": "white"
           },
           "yaxis": {
            "backgroundcolor": "#E5ECF6",
            "gridcolor": "white",
            "gridwidth": 2,
            "linecolor": "white",
            "showbackground": true,
            "ticks": "",
            "zerolinecolor": "white"
           },
           "zaxis": {
            "backgroundcolor": "#E5ECF6",
            "gridcolor": "white",
            "gridwidth": 2,
            "linecolor": "white",
            "showbackground": true,
            "ticks": "",
            "zerolinecolor": "white"
           }
          },
          "shapedefaults": {
           "line": {
            "color": "#2a3f5f"
           }
          },
          "ternary": {
           "aaxis": {
            "gridcolor": "white",
            "linecolor": "white",
            "ticks": ""
           },
           "baxis": {
            "gridcolor": "white",
            "linecolor": "white",
            "ticks": ""
           },
           "bgcolor": "#E5ECF6",
           "caxis": {
            "gridcolor": "white",
            "linecolor": "white",
            "ticks": ""
           }
          },
          "title": {
           "x": 0.05
          },
          "xaxis": {
           "automargin": true,
           "gridcolor": "white",
           "linecolor": "white",
           "ticks": "",
           "title": {
            "standoff": 15
           },
           "zerolinecolor": "white",
           "zerolinewidth": 2
          },
          "yaxis": {
           "automargin": true,
           "gridcolor": "white",
           "linecolor": "white",
           "ticks": "",
           "title": {
            "standoff": 15
           },
           "zerolinecolor": "white",
           "zerolinewidth": 2
          }
         }
        },
        "title": {
         "text": "Model Performance for Each Team's 2021-2022 Season"
        }
       }
      }
     },
     "metadata": {},
     "output_type": "display_data"
    },
    {
     "data": {
      "text/markdown": [
       "Uploading report and associated data - *please wait...*"
      ],
      "text/plain": [
       "<IPython.core.display.Markdown object>"
      ]
     },
     "metadata": {},
     "output_type": "display_data"
    },
    {
     "data": {
      "text/markdown": [
       "Your report only contains a single element - did you know you can include additional plots, tables and text in a single report? More info <a href='https://docs.datapane.com/reports/blocks/layout-pages-and-selects' target='_blank'>here</a>"
      ],
      "text/plain": [
       "<IPython.core.display.Markdown object>"
      ]
     },
     "metadata": {},
     "output_type": "display_data"
    },
    {
     "data": {
      "text/markdown": [
       "Report successfully uploaded. View and share your report <a href='https://datapane.com/reports/8AV6LaA/model-performance-table/' target='_blank'>here</a>, or edit your report <a href='https://datapane.com/reports/8AV6LaA/model-performance-table/edit/' target='_blank'>here</a>."
      ],
      "text/plain": [
       "<IPython.core.display.Markdown object>"
      ]
     },
     "metadata": {},
     "output_type": "display_data"
    }
   ],
   "source": [
    "from msilib.schema import PublishComponent\n",
    "\n",
    "\n",
    "fig = go.Figure(data=[go.Table(\n",
    "    header=dict(values=list(team_pred_df[0].columns),\n",
    "                fill_color='paleturquoise',\n",
    "                align='left'),\n",
    "    cells=dict(values=[team_pred_df[0].Team, team_pred_df[0].Accuracy, team_pred_df[0]['Correct Predictions'], team_pred_df[0]['Missed W\\'s'], team_pred_df[0]['Missed L\\'s']],\n",
    "               fill_color='lavender',\n",
    "               align='left'))\n",
    "])\n",
    "\n",
    "fig.update_layout(title_text = \"Model Performance for Each Team's 2021-2022 Season\")\n",
    "fig.show()\n",
    "dp.Report(\n",
    "    dp.Plot(fig)).upload(name='Model Performance Table', publicly_visible=True)"
   ]
  },
  {
   "cell_type": "markdown",
   "id": "5ef9c3db",
   "metadata": {},
   "source": [
    "Some teams had their season's predicted nearly perfectly, like the Mavericks, Hornets, Trail Blazers, and Timberwolves. For others, like the Bulls and Knicks, the model had below average performances. The model performed worst of all on the Raptors, with a 70% accuracy. This is still fairly good in absolute terms, but relative to the average from the cross validation of 82% and the prediction of the other teams' games in 2021-22, it is subpar. Let's look at why that is:\n",
    "\n",
    "* The model primarily failed to detect wins from the Raptors. The model misclassified 19 games from the Raptors' season, and 15 of those games were wins.\n",
    "\n",
    "* Let's take a look at some numbers from the misclassified wins that the model made for every team:"
   ]
  },
  {
   "cell_type": "code",
   "execution_count": 21,
   "id": "303b173a",
   "metadata": {},
   "outputs": [],
   "source": [
    "def get_team_rank(data, categories, asc ):\n",
    "    \n",
    "    rank_df = pd.DataFrame(columns=['Team'])\n",
    "    team_list = data.Team.unique().tolist()\n",
    "  \n",
    "    for i in range(len(categories)):\n",
    "        df_cat = data.sort_values(categories[i], ascending = asc[i]).reset_index()\n",
    "       \n",
    "       \n",
    "        rank_df[categories[i] + 'Rank'] = ''\n",
    "        \n",
    "        \n",
    "\n",
    "        for count, team in enumerate(team_list):\n",
    "           rank_df.loc[count, 'Team'] = team\n",
    "           rank =  df_cat.index[df_cat['Team']==team][0] +1\n",
    "           \n",
    "           team_idx = rank_df.index[rank_df['Team']==team]\n",
    "           rank_df.loc[team_idx, categories[i] + 'Rank'] = rank\n",
    "\n",
    "\n",
    "    rank_df['Avg. Rank'] = rank_df.iloc[:,1:].sum(axis=1)/len(categories)\n",
    "    return rank_df.sort_values('Avg. Rank')\n",
    "           \n",
    "\n",
    "\n",
    "        "
   ]
  },
  {
   "cell_type": "markdown",
   "id": "fb16fb23",
   "metadata": {},
   "source": [
    "### Sort by Average OREB % Difference"
   ]
  },
  {
   "cell_type": "code",
   "execution_count": 22,
   "id": "01be95c9",
   "metadata": {},
   "outputs": [
    {
     "data": {
      "text/html": [
       "<div>\n",
       "<style scoped>\n",
       "    .dataframe tbody tr th:only-of-type {\n",
       "        vertical-align: middle;\n",
       "    }\n",
       "\n",
       "    .dataframe tbody tr th {\n",
       "        vertical-align: top;\n",
       "    }\n",
       "\n",
       "    .dataframe thead th {\n",
       "        text-align: right;\n",
       "    }\n",
       "</style>\n",
       "<table border=\"1\" class=\"dataframe\">\n",
       "  <thead>\n",
       "    <tr style=\"text-align: right;\">\n",
       "      <th></th>\n",
       "      <th>Team</th>\n",
       "      <th>Oreb Diff Avg.</th>\n",
       "      <th>EFG Diff Avg.</th>\n",
       "      <th>TOV Margin Avg.</th>\n",
       "      <th>FTR Diff Avg.</th>\n",
       "      <th>OREB_TOV AVG.</th>\n",
       "      <th>Sample Size</th>\n",
       "    </tr>\n",
       "  </thead>\n",
       "  <tbody>\n",
       "    <tr>\n",
       "      <th>0</th>\n",
       "      <td>NYK</td>\n",
       "      <td>8.840000</td>\n",
       "      <td>-3.200000</td>\n",
       "      <td>1.410000</td>\n",
       "      <td>2.160000</td>\n",
       "      <td>10.250000</td>\n",
       "      <td>10</td>\n",
       "    </tr>\n",
       "    <tr>\n",
       "      <th>1</th>\n",
       "      <td>NOP</td>\n",
       "      <td>8.100000</td>\n",
       "      <td>-3.963636</td>\n",
       "      <td>5.618182</td>\n",
       "      <td>5.718182</td>\n",
       "      <td>13.718182</td>\n",
       "      <td>11</td>\n",
       "    </tr>\n",
       "    <tr>\n",
       "      <th>2</th>\n",
       "      <td>MEM</td>\n",
       "      <td>3.500000</td>\n",
       "      <td>-1.840000</td>\n",
       "      <td>3.386667</td>\n",
       "      <td>-2.653333</td>\n",
       "      <td>6.886667</td>\n",
       "      <td>15</td>\n",
       "    </tr>\n",
       "    <tr>\n",
       "      <th>3</th>\n",
       "      <td>CHI</td>\n",
       "      <td>3.487500</td>\n",
       "      <td>-3.012500</td>\n",
       "      <td>3.525000</td>\n",
       "      <td>-2.875000</td>\n",
       "      <td>7.012500</td>\n",
       "      <td>8</td>\n",
       "    </tr>\n",
       "    <tr>\n",
       "      <th>4</th>\n",
       "      <td>TOR</td>\n",
       "      <td>1.966667</td>\n",
       "      <td>-3.708333</td>\n",
       "      <td>5.325000</td>\n",
       "      <td>-2.708333</td>\n",
       "      <td>7.291667</td>\n",
       "      <td>24</td>\n",
       "    </tr>\n",
       "    <tr>\n",
       "      <th>5</th>\n",
       "      <td>MIL</td>\n",
       "      <td>1.725000</td>\n",
       "      <td>-1.900000</td>\n",
       "      <td>2.212500</td>\n",
       "      <td>2.112500</td>\n",
       "      <td>3.937500</td>\n",
       "      <td>8</td>\n",
       "    </tr>\n",
       "    <tr>\n",
       "      <th>6</th>\n",
       "      <td>DEN</td>\n",
       "      <td>-0.190000</td>\n",
       "      <td>-3.150000</td>\n",
       "      <td>0.690000</td>\n",
       "      <td>-0.440000</td>\n",
       "      <td>0.500000</td>\n",
       "      <td>10</td>\n",
       "    </tr>\n",
       "    <tr>\n",
       "      <th>7</th>\n",
       "      <td>GSW</td>\n",
       "      <td>-0.257143</td>\n",
       "      <td>-3.385714</td>\n",
       "      <td>3.085714</td>\n",
       "      <td>-1.871429</td>\n",
       "      <td>2.828571</td>\n",
       "      <td>7</td>\n",
       "    </tr>\n",
       "    <tr>\n",
       "      <th>8</th>\n",
       "      <td>MIA</td>\n",
       "      <td>-0.757143</td>\n",
       "      <td>-2.514286</td>\n",
       "      <td>6.742857</td>\n",
       "      <td>1.842857</td>\n",
       "      <td>5.985714</td>\n",
       "      <td>7</td>\n",
       "    </tr>\n",
       "    <tr>\n",
       "      <th>9</th>\n",
       "      <td>DET</td>\n",
       "      <td>-0.890000</td>\n",
       "      <td>-2.690000</td>\n",
       "      <td>2.100000</td>\n",
       "      <td>-8.380000</td>\n",
       "      <td>1.210000</td>\n",
       "      <td>10</td>\n",
       "    </tr>\n",
       "    <tr>\n",
       "      <th>10</th>\n",
       "      <td>PHI</td>\n",
       "      <td>-1.175000</td>\n",
       "      <td>-2.262500</td>\n",
       "      <td>2.812500</td>\n",
       "      <td>1.537500</td>\n",
       "      <td>1.637500</td>\n",
       "      <td>8</td>\n",
       "    </tr>\n",
       "    <tr>\n",
       "      <th>11</th>\n",
       "      <td>ORL</td>\n",
       "      <td>-2.283333</td>\n",
       "      <td>-2.400000</td>\n",
       "      <td>3.233333</td>\n",
       "      <td>-1.933333</td>\n",
       "      <td>0.950000</td>\n",
       "      <td>6</td>\n",
       "    </tr>\n",
       "    <tr>\n",
       "      <th>12</th>\n",
       "      <td>MIN</td>\n",
       "      <td>-2.450000</td>\n",
       "      <td>-1.233333</td>\n",
       "      <td>3.916667</td>\n",
       "      <td>-8.400000</td>\n",
       "      <td>1.466667</td>\n",
       "      <td>6</td>\n",
       "    </tr>\n",
       "    <tr>\n",
       "      <th>13</th>\n",
       "      <td>SAS</td>\n",
       "      <td>-4.171429</td>\n",
       "      <td>-3.057143</td>\n",
       "      <td>3.500000</td>\n",
       "      <td>1.000000</td>\n",
       "      <td>-0.671429</td>\n",
       "      <td>7</td>\n",
       "    </tr>\n",
       "    <tr>\n",
       "      <th>14</th>\n",
       "      <td>CLE</td>\n",
       "      <td>-4.733333</td>\n",
       "      <td>-4.450000</td>\n",
       "      <td>5.950000</td>\n",
       "      <td>11.466667</td>\n",
       "      <td>1.216667</td>\n",
       "      <td>6</td>\n",
       "    </tr>\n",
       "    <tr>\n",
       "      <th>15</th>\n",
       "      <td>PHX</td>\n",
       "      <td>-6.020000</td>\n",
       "      <td>-0.650000</td>\n",
       "      <td>5.490000</td>\n",
       "      <td>-6.220000</td>\n",
       "      <td>-0.530000</td>\n",
       "      <td>10</td>\n",
       "    </tr>\n",
       "  </tbody>\n",
       "</table>\n",
       "</div>"
      ],
      "text/plain": [
       "   Team  Oreb Diff Avg.  EFG Diff Avg.  TOV Margin Avg.  FTR Diff Avg.  \\\n",
       "0   NYK        8.840000      -3.200000         1.410000       2.160000   \n",
       "1   NOP        8.100000      -3.963636         5.618182       5.718182   \n",
       "2   MEM        3.500000      -1.840000         3.386667      -2.653333   \n",
       "3   CHI        3.487500      -3.012500         3.525000      -2.875000   \n",
       "4   TOR        1.966667      -3.708333         5.325000      -2.708333   \n",
       "5   MIL        1.725000      -1.900000         2.212500       2.112500   \n",
       "6   DEN       -0.190000      -3.150000         0.690000      -0.440000   \n",
       "7   GSW       -0.257143      -3.385714         3.085714      -1.871429   \n",
       "8   MIA       -0.757143      -2.514286         6.742857       1.842857   \n",
       "9   DET       -0.890000      -2.690000         2.100000      -8.380000   \n",
       "10  PHI       -1.175000      -2.262500         2.812500       1.537500   \n",
       "11  ORL       -2.283333      -2.400000         3.233333      -1.933333   \n",
       "12  MIN       -2.450000      -1.233333         3.916667      -8.400000   \n",
       "13  SAS       -4.171429      -3.057143         3.500000       1.000000   \n",
       "14  CLE       -4.733333      -4.450000         5.950000      11.466667   \n",
       "15  PHX       -6.020000      -0.650000         5.490000      -6.220000   \n",
       "\n",
       "    OREB_TOV AVG.  Sample Size  \n",
       "0       10.250000           10  \n",
       "1       13.718182           11  \n",
       "2        6.886667           15  \n",
       "3        7.012500            8  \n",
       "4        7.291667           24  \n",
       "5        3.937500            8  \n",
       "6        0.500000           10  \n",
       "7        2.828571            7  \n",
       "8        5.985714            7  \n",
       "9        1.210000           10  \n",
       "10       1.637500            8  \n",
       "11       0.950000            6  \n",
       "12       1.466667            6  \n",
       "13      -0.671429            7  \n",
       "14       1.216667            6  \n",
       "15      -0.530000           10  "
      ]
     },
     "execution_count": 22,
     "metadata": {},
     "output_type": "execute_result"
    }
   ],
   "source": [
    "team_pred_df[1].sort_values('Oreb Diff Avg.', ascending = False).reset_index(drop = True)"
   ]
  },
  {
   "cell_type": "markdown",
   "id": "adfac700",
   "metadata": {},
   "source": [
    "The raptors were second in average difference in their OREB% and their Opponent's OREB% in the games that the model incorrectly classified as losses throughout the league. "
   ]
  },
  {
   "cell_type": "markdown",
   "id": "20708fba",
   "metadata": {},
   "source": [
    "### Sort by Average Turnover % Difference:"
   ]
  },
  {
   "cell_type": "code",
   "execution_count": 23,
   "id": "394d31c0",
   "metadata": {},
   "outputs": [
    {
     "data": {
      "text/html": [
       "<div>\n",
       "<style scoped>\n",
       "    .dataframe tbody tr th:only-of-type {\n",
       "        vertical-align: middle;\n",
       "    }\n",
       "\n",
       "    .dataframe tbody tr th {\n",
       "        vertical-align: top;\n",
       "    }\n",
       "\n",
       "    .dataframe thead th {\n",
       "        text-align: right;\n",
       "    }\n",
       "</style>\n",
       "<table border=\"1\" class=\"dataframe\">\n",
       "  <thead>\n",
       "    <tr style=\"text-align: right;\">\n",
       "      <th></th>\n",
       "      <th>Team</th>\n",
       "      <th>Oreb Diff Avg.</th>\n",
       "      <th>EFG Diff Avg.</th>\n",
       "      <th>TOV Margin Avg.</th>\n",
       "      <th>FTR Diff Avg.</th>\n",
       "      <th>OREB_TOV AVG.</th>\n",
       "      <th>Sample Size</th>\n",
       "    </tr>\n",
       "  </thead>\n",
       "  <tbody>\n",
       "    <tr>\n",
       "      <th>0</th>\n",
       "      <td>MIA</td>\n",
       "      <td>-0.757143</td>\n",
       "      <td>-2.514286</td>\n",
       "      <td>6.742857</td>\n",
       "      <td>1.842857</td>\n",
       "      <td>5.985714</td>\n",
       "      <td>7</td>\n",
       "    </tr>\n",
       "    <tr>\n",
       "      <th>1</th>\n",
       "      <td>CLE</td>\n",
       "      <td>-4.733333</td>\n",
       "      <td>-4.450000</td>\n",
       "      <td>5.950000</td>\n",
       "      <td>11.466667</td>\n",
       "      <td>1.216667</td>\n",
       "      <td>6</td>\n",
       "    </tr>\n",
       "    <tr>\n",
       "      <th>2</th>\n",
       "      <td>NOP</td>\n",
       "      <td>8.100000</td>\n",
       "      <td>-3.963636</td>\n",
       "      <td>5.618182</td>\n",
       "      <td>5.718182</td>\n",
       "      <td>13.718182</td>\n",
       "      <td>11</td>\n",
       "    </tr>\n",
       "    <tr>\n",
       "      <th>3</th>\n",
       "      <td>PHX</td>\n",
       "      <td>-6.020000</td>\n",
       "      <td>-0.650000</td>\n",
       "      <td>5.490000</td>\n",
       "      <td>-6.220000</td>\n",
       "      <td>-0.530000</td>\n",
       "      <td>10</td>\n",
       "    </tr>\n",
       "    <tr>\n",
       "      <th>4</th>\n",
       "      <td>TOR</td>\n",
       "      <td>1.966667</td>\n",
       "      <td>-3.708333</td>\n",
       "      <td>5.325000</td>\n",
       "      <td>-2.708333</td>\n",
       "      <td>7.291667</td>\n",
       "      <td>24</td>\n",
       "    </tr>\n",
       "    <tr>\n",
       "      <th>5</th>\n",
       "      <td>MIN</td>\n",
       "      <td>-2.450000</td>\n",
       "      <td>-1.233333</td>\n",
       "      <td>3.916667</td>\n",
       "      <td>-8.400000</td>\n",
       "      <td>1.466667</td>\n",
       "      <td>6</td>\n",
       "    </tr>\n",
       "    <tr>\n",
       "      <th>6</th>\n",
       "      <td>CHI</td>\n",
       "      <td>3.487500</td>\n",
       "      <td>-3.012500</td>\n",
       "      <td>3.525000</td>\n",
       "      <td>-2.875000</td>\n",
       "      <td>7.012500</td>\n",
       "      <td>8</td>\n",
       "    </tr>\n",
       "    <tr>\n",
       "      <th>7</th>\n",
       "      <td>SAS</td>\n",
       "      <td>-4.171429</td>\n",
       "      <td>-3.057143</td>\n",
       "      <td>3.500000</td>\n",
       "      <td>1.000000</td>\n",
       "      <td>-0.671429</td>\n",
       "      <td>7</td>\n",
       "    </tr>\n",
       "    <tr>\n",
       "      <th>8</th>\n",
       "      <td>MEM</td>\n",
       "      <td>3.500000</td>\n",
       "      <td>-1.840000</td>\n",
       "      <td>3.386667</td>\n",
       "      <td>-2.653333</td>\n",
       "      <td>6.886667</td>\n",
       "      <td>15</td>\n",
       "    </tr>\n",
       "    <tr>\n",
       "      <th>9</th>\n",
       "      <td>ORL</td>\n",
       "      <td>-2.283333</td>\n",
       "      <td>-2.400000</td>\n",
       "      <td>3.233333</td>\n",
       "      <td>-1.933333</td>\n",
       "      <td>0.950000</td>\n",
       "      <td>6</td>\n",
       "    </tr>\n",
       "    <tr>\n",
       "      <th>10</th>\n",
       "      <td>GSW</td>\n",
       "      <td>-0.257143</td>\n",
       "      <td>-3.385714</td>\n",
       "      <td>3.085714</td>\n",
       "      <td>-1.871429</td>\n",
       "      <td>2.828571</td>\n",
       "      <td>7</td>\n",
       "    </tr>\n",
       "    <tr>\n",
       "      <th>11</th>\n",
       "      <td>PHI</td>\n",
       "      <td>-1.175000</td>\n",
       "      <td>-2.262500</td>\n",
       "      <td>2.812500</td>\n",
       "      <td>1.537500</td>\n",
       "      <td>1.637500</td>\n",
       "      <td>8</td>\n",
       "    </tr>\n",
       "    <tr>\n",
       "      <th>12</th>\n",
       "      <td>MIL</td>\n",
       "      <td>1.725000</td>\n",
       "      <td>-1.900000</td>\n",
       "      <td>2.212500</td>\n",
       "      <td>2.112500</td>\n",
       "      <td>3.937500</td>\n",
       "      <td>8</td>\n",
       "    </tr>\n",
       "    <tr>\n",
       "      <th>13</th>\n",
       "      <td>DET</td>\n",
       "      <td>-0.890000</td>\n",
       "      <td>-2.690000</td>\n",
       "      <td>2.100000</td>\n",
       "      <td>-8.380000</td>\n",
       "      <td>1.210000</td>\n",
       "      <td>10</td>\n",
       "    </tr>\n",
       "    <tr>\n",
       "      <th>14</th>\n",
       "      <td>NYK</td>\n",
       "      <td>8.840000</td>\n",
       "      <td>-3.200000</td>\n",
       "      <td>1.410000</td>\n",
       "      <td>2.160000</td>\n",
       "      <td>10.250000</td>\n",
       "      <td>10</td>\n",
       "    </tr>\n",
       "    <tr>\n",
       "      <th>15</th>\n",
       "      <td>DEN</td>\n",
       "      <td>-0.190000</td>\n",
       "      <td>-3.150000</td>\n",
       "      <td>0.690000</td>\n",
       "      <td>-0.440000</td>\n",
       "      <td>0.500000</td>\n",
       "      <td>10</td>\n",
       "    </tr>\n",
       "  </tbody>\n",
       "</table>\n",
       "</div>"
      ],
      "text/plain": [
       "   Team  Oreb Diff Avg.  EFG Diff Avg.  TOV Margin Avg.  FTR Diff Avg.  \\\n",
       "0   MIA       -0.757143      -2.514286         6.742857       1.842857   \n",
       "1   CLE       -4.733333      -4.450000         5.950000      11.466667   \n",
       "2   NOP        8.100000      -3.963636         5.618182       5.718182   \n",
       "3   PHX       -6.020000      -0.650000         5.490000      -6.220000   \n",
       "4   TOR        1.966667      -3.708333         5.325000      -2.708333   \n",
       "5   MIN       -2.450000      -1.233333         3.916667      -8.400000   \n",
       "6   CHI        3.487500      -3.012500         3.525000      -2.875000   \n",
       "7   SAS       -4.171429      -3.057143         3.500000       1.000000   \n",
       "8   MEM        3.500000      -1.840000         3.386667      -2.653333   \n",
       "9   ORL       -2.283333      -2.400000         3.233333      -1.933333   \n",
       "10  GSW       -0.257143      -3.385714         3.085714      -1.871429   \n",
       "11  PHI       -1.175000      -2.262500         2.812500       1.537500   \n",
       "12  MIL        1.725000      -1.900000         2.212500       2.112500   \n",
       "13  DET       -0.890000      -2.690000         2.100000      -8.380000   \n",
       "14  NYK        8.840000      -3.200000         1.410000       2.160000   \n",
       "15  DEN       -0.190000      -3.150000         0.690000      -0.440000   \n",
       "\n",
       "    OREB_TOV AVG.  Sample Size  \n",
       "0        5.985714            7  \n",
       "1        1.216667            6  \n",
       "2       13.718182           11  \n",
       "3       -0.530000           10  \n",
       "4        7.291667           24  \n",
       "5        1.466667            6  \n",
       "6        7.012500            8  \n",
       "7       -0.671429            7  \n",
       "8        6.886667           15  \n",
       "9        0.950000            6  \n",
       "10       2.828571            7  \n",
       "11       1.637500            8  \n",
       "12       3.937500            8  \n",
       "13       1.210000           10  \n",
       "14      10.250000           10  \n",
       "15       0.500000           10  "
      ]
     },
     "execution_count": 23,
     "metadata": {},
     "output_type": "execute_result"
    }
   ],
   "source": [
    "team_pred_df[1].sort_values('TOV Margin Avg.', ascending = False).reset_index(drop = True)"
   ]
  },
  {
   "cell_type": "markdown",
   "id": "cc321d82",
   "metadata": {},
   "source": [
    "The raptors were third in average difference in their opponent's TOV% and their TOV% in the games that the model incorrectly classified as losses throughout the league. "
   ]
  },
  {
   "cell_type": "markdown",
   "id": "589a6f36",
   "metadata": {},
   "source": [
    "### Lets Look at the Average EFG Difference:"
   ]
  },
  {
   "cell_type": "code",
   "execution_count": 24,
   "id": "1279a79c",
   "metadata": {},
   "outputs": [
    {
     "data": {
      "text/html": [
       "<div>\n",
       "<style scoped>\n",
       "    .dataframe tbody tr th:only-of-type {\n",
       "        vertical-align: middle;\n",
       "    }\n",
       "\n",
       "    .dataframe tbody tr th {\n",
       "        vertical-align: top;\n",
       "    }\n",
       "\n",
       "    .dataframe thead th {\n",
       "        text-align: right;\n",
       "    }\n",
       "</style>\n",
       "<table border=\"1\" class=\"dataframe\">\n",
       "  <thead>\n",
       "    <tr style=\"text-align: right;\">\n",
       "      <th></th>\n",
       "      <th>Team</th>\n",
       "      <th>Oreb Diff Avg.</th>\n",
       "      <th>EFG Diff Avg.</th>\n",
       "      <th>TOV Margin Avg.</th>\n",
       "      <th>FTR Diff Avg.</th>\n",
       "      <th>OREB_TOV AVG.</th>\n",
       "      <th>Sample Size</th>\n",
       "    </tr>\n",
       "  </thead>\n",
       "  <tbody>\n",
       "    <tr>\n",
       "      <th>0</th>\n",
       "      <td>CLE</td>\n",
       "      <td>-4.733333</td>\n",
       "      <td>-4.450000</td>\n",
       "      <td>5.950000</td>\n",
       "      <td>11.466667</td>\n",
       "      <td>1.216667</td>\n",
       "      <td>6</td>\n",
       "    </tr>\n",
       "    <tr>\n",
       "      <th>1</th>\n",
       "      <td>NOP</td>\n",
       "      <td>8.100000</td>\n",
       "      <td>-3.963636</td>\n",
       "      <td>5.618182</td>\n",
       "      <td>5.718182</td>\n",
       "      <td>13.718182</td>\n",
       "      <td>11</td>\n",
       "    </tr>\n",
       "    <tr>\n",
       "      <th>2</th>\n",
       "      <td>TOR</td>\n",
       "      <td>1.966667</td>\n",
       "      <td>-3.708333</td>\n",
       "      <td>5.325000</td>\n",
       "      <td>-2.708333</td>\n",
       "      <td>7.291667</td>\n",
       "      <td>24</td>\n",
       "    </tr>\n",
       "    <tr>\n",
       "      <th>3</th>\n",
       "      <td>GSW</td>\n",
       "      <td>-0.257143</td>\n",
       "      <td>-3.385714</td>\n",
       "      <td>3.085714</td>\n",
       "      <td>-1.871429</td>\n",
       "      <td>2.828571</td>\n",
       "      <td>7</td>\n",
       "    </tr>\n",
       "    <tr>\n",
       "      <th>4</th>\n",
       "      <td>NYK</td>\n",
       "      <td>8.840000</td>\n",
       "      <td>-3.200000</td>\n",
       "      <td>1.410000</td>\n",
       "      <td>2.160000</td>\n",
       "      <td>10.250000</td>\n",
       "      <td>10</td>\n",
       "    </tr>\n",
       "    <tr>\n",
       "      <th>5</th>\n",
       "      <td>DEN</td>\n",
       "      <td>-0.190000</td>\n",
       "      <td>-3.150000</td>\n",
       "      <td>0.690000</td>\n",
       "      <td>-0.440000</td>\n",
       "      <td>0.500000</td>\n",
       "      <td>10</td>\n",
       "    </tr>\n",
       "    <tr>\n",
       "      <th>6</th>\n",
       "      <td>SAS</td>\n",
       "      <td>-4.171429</td>\n",
       "      <td>-3.057143</td>\n",
       "      <td>3.500000</td>\n",
       "      <td>1.000000</td>\n",
       "      <td>-0.671429</td>\n",
       "      <td>7</td>\n",
       "    </tr>\n",
       "    <tr>\n",
       "      <th>7</th>\n",
       "      <td>CHI</td>\n",
       "      <td>3.487500</td>\n",
       "      <td>-3.012500</td>\n",
       "      <td>3.525000</td>\n",
       "      <td>-2.875000</td>\n",
       "      <td>7.012500</td>\n",
       "      <td>8</td>\n",
       "    </tr>\n",
       "    <tr>\n",
       "      <th>8</th>\n",
       "      <td>DET</td>\n",
       "      <td>-0.890000</td>\n",
       "      <td>-2.690000</td>\n",
       "      <td>2.100000</td>\n",
       "      <td>-8.380000</td>\n",
       "      <td>1.210000</td>\n",
       "      <td>10</td>\n",
       "    </tr>\n",
       "    <tr>\n",
       "      <th>9</th>\n",
       "      <td>MIA</td>\n",
       "      <td>-0.757143</td>\n",
       "      <td>-2.514286</td>\n",
       "      <td>6.742857</td>\n",
       "      <td>1.842857</td>\n",
       "      <td>5.985714</td>\n",
       "      <td>7</td>\n",
       "    </tr>\n",
       "    <tr>\n",
       "      <th>10</th>\n",
       "      <td>ORL</td>\n",
       "      <td>-2.283333</td>\n",
       "      <td>-2.400000</td>\n",
       "      <td>3.233333</td>\n",
       "      <td>-1.933333</td>\n",
       "      <td>0.950000</td>\n",
       "      <td>6</td>\n",
       "    </tr>\n",
       "    <tr>\n",
       "      <th>11</th>\n",
       "      <td>PHI</td>\n",
       "      <td>-1.175000</td>\n",
       "      <td>-2.262500</td>\n",
       "      <td>2.812500</td>\n",
       "      <td>1.537500</td>\n",
       "      <td>1.637500</td>\n",
       "      <td>8</td>\n",
       "    </tr>\n",
       "    <tr>\n",
       "      <th>12</th>\n",
       "      <td>MIL</td>\n",
       "      <td>1.725000</td>\n",
       "      <td>-1.900000</td>\n",
       "      <td>2.212500</td>\n",
       "      <td>2.112500</td>\n",
       "      <td>3.937500</td>\n",
       "      <td>8</td>\n",
       "    </tr>\n",
       "    <tr>\n",
       "      <th>13</th>\n",
       "      <td>MEM</td>\n",
       "      <td>3.500000</td>\n",
       "      <td>-1.840000</td>\n",
       "      <td>3.386667</td>\n",
       "      <td>-2.653333</td>\n",
       "      <td>6.886667</td>\n",
       "      <td>15</td>\n",
       "    </tr>\n",
       "    <tr>\n",
       "      <th>14</th>\n",
       "      <td>MIN</td>\n",
       "      <td>-2.450000</td>\n",
       "      <td>-1.233333</td>\n",
       "      <td>3.916667</td>\n",
       "      <td>-8.400000</td>\n",
       "      <td>1.466667</td>\n",
       "      <td>6</td>\n",
       "    </tr>\n",
       "    <tr>\n",
       "      <th>15</th>\n",
       "      <td>PHX</td>\n",
       "      <td>-6.020000</td>\n",
       "      <td>-0.650000</td>\n",
       "      <td>5.490000</td>\n",
       "      <td>-6.220000</td>\n",
       "      <td>-0.530000</td>\n",
       "      <td>10</td>\n",
       "    </tr>\n",
       "  </tbody>\n",
       "</table>\n",
       "</div>"
      ],
      "text/plain": [
       "   Team  Oreb Diff Avg.  EFG Diff Avg.  TOV Margin Avg.  FTR Diff Avg.  \\\n",
       "0   CLE       -4.733333      -4.450000         5.950000      11.466667   \n",
       "1   NOP        8.100000      -3.963636         5.618182       5.718182   \n",
       "2   TOR        1.966667      -3.708333         5.325000      -2.708333   \n",
       "3   GSW       -0.257143      -3.385714         3.085714      -1.871429   \n",
       "4   NYK        8.840000      -3.200000         1.410000       2.160000   \n",
       "5   DEN       -0.190000      -3.150000         0.690000      -0.440000   \n",
       "6   SAS       -4.171429      -3.057143         3.500000       1.000000   \n",
       "7   CHI        3.487500      -3.012500         3.525000      -2.875000   \n",
       "8   DET       -0.890000      -2.690000         2.100000      -8.380000   \n",
       "9   MIA       -0.757143      -2.514286         6.742857       1.842857   \n",
       "10  ORL       -2.283333      -2.400000         3.233333      -1.933333   \n",
       "11  PHI       -1.175000      -2.262500         2.812500       1.537500   \n",
       "12  MIL        1.725000      -1.900000         2.212500       2.112500   \n",
       "13  MEM        3.500000      -1.840000         3.386667      -2.653333   \n",
       "14  MIN       -2.450000      -1.233333         3.916667      -8.400000   \n",
       "15  PHX       -6.020000      -0.650000         5.490000      -6.220000   \n",
       "\n",
       "    OREB_TOV AVG.  Sample Size  \n",
       "0        1.216667            6  \n",
       "1       13.718182           11  \n",
       "2        7.291667           24  \n",
       "3        2.828571            7  \n",
       "4       10.250000           10  \n",
       "5        0.500000           10  \n",
       "6       -0.671429            7  \n",
       "7        7.012500            8  \n",
       "8        1.210000           10  \n",
       "9        5.985714            7  \n",
       "10       0.950000            6  \n",
       "11       1.637500            8  \n",
       "12       3.937500            8  \n",
       "13       6.886667           15  \n",
       "14       1.466667            6  \n",
       "15      -0.530000           10  "
      ]
     },
     "execution_count": 24,
     "metadata": {},
     "output_type": "execute_result"
    }
   ],
   "source": [
    "team_pred_df[1].sort_values('EFG Diff Avg.', ascending = True).reset_index(drop = True)"
   ]
  },
  {
   "cell_type": "markdown",
   "id": "1e81ce71",
   "metadata": {},
   "source": [
    "The Raptors were outshot by the widest margin, on average, in games that the model incorrectly classified as losses."
   ]
  },
  {
   "cell_type": "markdown",
   "id": "462de3c9",
   "metadata": {},
   "source": [
    "### Let's Look at the Average Free Throw Rate Difference:"
   ]
  },
  {
   "cell_type": "markdown",
   "id": "bfa7aec3",
   "metadata": {},
   "source": [
    "Let's extend this to also look at the average turnover percent difference and the average EFG difference. Here, Turnover Percent Difference rank will be high (i.e, 1 is the highest) when teams force more turnovers on average than they surrender. EFG Rank will be high in this case if the team shoots worse than their opponent on average. "
   ]
  },
  {
   "cell_type": "code",
   "execution_count": 25,
   "id": "39f32009",
   "metadata": {},
   "outputs": [
    {
     "data": {
      "text/html": [
       "<div>\n",
       "<style scoped>\n",
       "    .dataframe tbody tr th:only-of-type {\n",
       "        vertical-align: middle;\n",
       "    }\n",
       "\n",
       "    .dataframe tbody tr th {\n",
       "        vertical-align: top;\n",
       "    }\n",
       "\n",
       "    .dataframe thead th {\n",
       "        text-align: right;\n",
       "    }\n",
       "</style>\n",
       "<table border=\"1\" class=\"dataframe\">\n",
       "  <thead>\n",
       "    <tr style=\"text-align: right;\">\n",
       "      <th></th>\n",
       "      <th>Team</th>\n",
       "      <th>Oreb Diff Avg.</th>\n",
       "      <th>EFG Diff Avg.</th>\n",
       "      <th>TOV Margin Avg.</th>\n",
       "      <th>FTR Diff Avg.</th>\n",
       "      <th>OREB_TOV AVG.</th>\n",
       "      <th>Sample Size</th>\n",
       "    </tr>\n",
       "  </thead>\n",
       "  <tbody>\n",
       "    <tr>\n",
       "      <th>0</th>\n",
       "      <td>MIN</td>\n",
       "      <td>-2.450000</td>\n",
       "      <td>-1.233333</td>\n",
       "      <td>3.916667</td>\n",
       "      <td>-8.400000</td>\n",
       "      <td>1.466667</td>\n",
       "      <td>6</td>\n",
       "    </tr>\n",
       "    <tr>\n",
       "      <th>1</th>\n",
       "      <td>DET</td>\n",
       "      <td>-0.890000</td>\n",
       "      <td>-2.690000</td>\n",
       "      <td>2.100000</td>\n",
       "      <td>-8.380000</td>\n",
       "      <td>1.210000</td>\n",
       "      <td>10</td>\n",
       "    </tr>\n",
       "    <tr>\n",
       "      <th>2</th>\n",
       "      <td>PHX</td>\n",
       "      <td>-6.020000</td>\n",
       "      <td>-0.650000</td>\n",
       "      <td>5.490000</td>\n",
       "      <td>-6.220000</td>\n",
       "      <td>-0.530000</td>\n",
       "      <td>10</td>\n",
       "    </tr>\n",
       "    <tr>\n",
       "      <th>3</th>\n",
       "      <td>CHI</td>\n",
       "      <td>3.487500</td>\n",
       "      <td>-3.012500</td>\n",
       "      <td>3.525000</td>\n",
       "      <td>-2.875000</td>\n",
       "      <td>7.012500</td>\n",
       "      <td>8</td>\n",
       "    </tr>\n",
       "    <tr>\n",
       "      <th>4</th>\n",
       "      <td>TOR</td>\n",
       "      <td>1.966667</td>\n",
       "      <td>-3.708333</td>\n",
       "      <td>5.325000</td>\n",
       "      <td>-2.708333</td>\n",
       "      <td>7.291667</td>\n",
       "      <td>24</td>\n",
       "    </tr>\n",
       "    <tr>\n",
       "      <th>5</th>\n",
       "      <td>MEM</td>\n",
       "      <td>3.500000</td>\n",
       "      <td>-1.840000</td>\n",
       "      <td>3.386667</td>\n",
       "      <td>-2.653333</td>\n",
       "      <td>6.886667</td>\n",
       "      <td>15</td>\n",
       "    </tr>\n",
       "    <tr>\n",
       "      <th>6</th>\n",
       "      <td>ORL</td>\n",
       "      <td>-2.283333</td>\n",
       "      <td>-2.400000</td>\n",
       "      <td>3.233333</td>\n",
       "      <td>-1.933333</td>\n",
       "      <td>0.950000</td>\n",
       "      <td>6</td>\n",
       "    </tr>\n",
       "    <tr>\n",
       "      <th>7</th>\n",
       "      <td>GSW</td>\n",
       "      <td>-0.257143</td>\n",
       "      <td>-3.385714</td>\n",
       "      <td>3.085714</td>\n",
       "      <td>-1.871429</td>\n",
       "      <td>2.828571</td>\n",
       "      <td>7</td>\n",
       "    </tr>\n",
       "    <tr>\n",
       "      <th>8</th>\n",
       "      <td>DEN</td>\n",
       "      <td>-0.190000</td>\n",
       "      <td>-3.150000</td>\n",
       "      <td>0.690000</td>\n",
       "      <td>-0.440000</td>\n",
       "      <td>0.500000</td>\n",
       "      <td>10</td>\n",
       "    </tr>\n",
       "    <tr>\n",
       "      <th>9</th>\n",
       "      <td>SAS</td>\n",
       "      <td>-4.171429</td>\n",
       "      <td>-3.057143</td>\n",
       "      <td>3.500000</td>\n",
       "      <td>1.000000</td>\n",
       "      <td>-0.671429</td>\n",
       "      <td>7</td>\n",
       "    </tr>\n",
       "    <tr>\n",
       "      <th>10</th>\n",
       "      <td>PHI</td>\n",
       "      <td>-1.175000</td>\n",
       "      <td>-2.262500</td>\n",
       "      <td>2.812500</td>\n",
       "      <td>1.537500</td>\n",
       "      <td>1.637500</td>\n",
       "      <td>8</td>\n",
       "    </tr>\n",
       "    <tr>\n",
       "      <th>11</th>\n",
       "      <td>MIA</td>\n",
       "      <td>-0.757143</td>\n",
       "      <td>-2.514286</td>\n",
       "      <td>6.742857</td>\n",
       "      <td>1.842857</td>\n",
       "      <td>5.985714</td>\n",
       "      <td>7</td>\n",
       "    </tr>\n",
       "    <tr>\n",
       "      <th>12</th>\n",
       "      <td>MIL</td>\n",
       "      <td>1.725000</td>\n",
       "      <td>-1.900000</td>\n",
       "      <td>2.212500</td>\n",
       "      <td>2.112500</td>\n",
       "      <td>3.937500</td>\n",
       "      <td>8</td>\n",
       "    </tr>\n",
       "    <tr>\n",
       "      <th>13</th>\n",
       "      <td>NYK</td>\n",
       "      <td>8.840000</td>\n",
       "      <td>-3.200000</td>\n",
       "      <td>1.410000</td>\n",
       "      <td>2.160000</td>\n",
       "      <td>10.250000</td>\n",
       "      <td>10</td>\n",
       "    </tr>\n",
       "    <tr>\n",
       "      <th>14</th>\n",
       "      <td>NOP</td>\n",
       "      <td>8.100000</td>\n",
       "      <td>-3.963636</td>\n",
       "      <td>5.618182</td>\n",
       "      <td>5.718182</td>\n",
       "      <td>13.718182</td>\n",
       "      <td>11</td>\n",
       "    </tr>\n",
       "    <tr>\n",
       "      <th>15</th>\n",
       "      <td>CLE</td>\n",
       "      <td>-4.733333</td>\n",
       "      <td>-4.450000</td>\n",
       "      <td>5.950000</td>\n",
       "      <td>11.466667</td>\n",
       "      <td>1.216667</td>\n",
       "      <td>6</td>\n",
       "    </tr>\n",
       "  </tbody>\n",
       "</table>\n",
       "</div>"
      ],
      "text/plain": [
       "   Team  Oreb Diff Avg.  EFG Diff Avg.  TOV Margin Avg.  FTR Diff Avg.  \\\n",
       "0   MIN       -2.450000      -1.233333         3.916667      -8.400000   \n",
       "1   DET       -0.890000      -2.690000         2.100000      -8.380000   \n",
       "2   PHX       -6.020000      -0.650000         5.490000      -6.220000   \n",
       "3   CHI        3.487500      -3.012500         3.525000      -2.875000   \n",
       "4   TOR        1.966667      -3.708333         5.325000      -2.708333   \n",
       "5   MEM        3.500000      -1.840000         3.386667      -2.653333   \n",
       "6   ORL       -2.283333      -2.400000         3.233333      -1.933333   \n",
       "7   GSW       -0.257143      -3.385714         3.085714      -1.871429   \n",
       "8   DEN       -0.190000      -3.150000         0.690000      -0.440000   \n",
       "9   SAS       -4.171429      -3.057143         3.500000       1.000000   \n",
       "10  PHI       -1.175000      -2.262500         2.812500       1.537500   \n",
       "11  MIA       -0.757143      -2.514286         6.742857       1.842857   \n",
       "12  MIL        1.725000      -1.900000         2.212500       2.112500   \n",
       "13  NYK        8.840000      -3.200000         1.410000       2.160000   \n",
       "14  NOP        8.100000      -3.963636         5.618182       5.718182   \n",
       "15  CLE       -4.733333      -4.450000         5.950000      11.466667   \n",
       "\n",
       "    OREB_TOV AVG.  Sample Size  \n",
       "0        1.466667            6  \n",
       "1        1.210000           10  \n",
       "2       -0.530000           10  \n",
       "3        7.012500            8  \n",
       "4        7.291667           24  \n",
       "5        6.886667           15  \n",
       "6        0.950000            6  \n",
       "7        2.828571            7  \n",
       "8        0.500000           10  \n",
       "9       -0.671429            7  \n",
       "10       1.637500            8  \n",
       "11       5.985714            7  \n",
       "12       3.937500            8  \n",
       "13      10.250000           10  \n",
       "14      13.718182           11  \n",
       "15       1.216667            6  "
      ]
     },
     "execution_count": 25,
     "metadata": {},
     "output_type": "execute_result"
    }
   ],
   "source": [
    "team_pred_df[1].sort_values('FTR Diff Avg.', ascending = True).reset_index(drop = True)"
   ]
  },
  {
   "cell_type": "markdown",
   "id": "e9c80982",
   "metadata": {},
   "source": [
    "The Raptors, on average, had the 4th worst free throw rate disparity in games that the model incorrectly predicted as losses"
   ]
  },
  {
   "cell_type": "markdown",
   "id": "d8b794f0",
   "metadata": {},
   "source": [
    "### Let's Summaraize this\n",
    "\n",
    "We can take these rankings and calculate an average ranking of the 4 categories."
   ]
  },
  {
   "cell_type": "code",
   "execution_count": 26,
   "id": "e73c351d",
   "metadata": {},
   "outputs": [
    {
     "data": {
      "text/html": [
       "<div>\n",
       "<style scoped>\n",
       "    .dataframe tbody tr th:only-of-type {\n",
       "        vertical-align: middle;\n",
       "    }\n",
       "\n",
       "    .dataframe tbody tr th {\n",
       "        vertical-align: top;\n",
       "    }\n",
       "\n",
       "    .dataframe thead th {\n",
       "        text-align: right;\n",
       "    }\n",
       "</style>\n",
       "<table border=\"1\" class=\"dataframe\">\n",
       "  <thead>\n",
       "    <tr style=\"text-align: right;\">\n",
       "      <th></th>\n",
       "      <th>Team</th>\n",
       "      <th>Oreb Diff Avg.Rank</th>\n",
       "      <th>TOV Margin Avg.Rank</th>\n",
       "      <th>EFG Diff Avg.Rank</th>\n",
       "      <th>FTR Diff Avg.Rank</th>\n",
       "      <th>Avg. Rank</th>\n",
       "    </tr>\n",
       "  </thead>\n",
       "  <tbody>\n",
       "    <tr>\n",
       "      <th>13</th>\n",
       "      <td>TOR</td>\n",
       "      <td>5</td>\n",
       "      <td>5</td>\n",
       "      <td>3</td>\n",
       "      <td>5</td>\n",
       "      <td>4.50</td>\n",
       "    </tr>\n",
       "    <tr>\n",
       "      <th>8</th>\n",
       "      <td>NOP</td>\n",
       "      <td>2</td>\n",
       "      <td>3</td>\n",
       "      <td>2</td>\n",
       "      <td>15</td>\n",
       "      <td>5.50</td>\n",
       "    </tr>\n",
       "    <tr>\n",
       "      <th>14</th>\n",
       "      <td>CHI</td>\n",
       "      <td>4</td>\n",
       "      <td>7</td>\n",
       "      <td>8</td>\n",
       "      <td>4</td>\n",
       "      <td>5.75</td>\n",
       "    </tr>\n",
       "    <tr>\n",
       "      <th>1</th>\n",
       "      <td>GSW</td>\n",
       "      <td>8</td>\n",
       "      <td>11</td>\n",
       "      <td>4</td>\n",
       "      <td>8</td>\n",
       "      <td>7.75</td>\n",
       "    </tr>\n",
       "    <tr>\n",
       "      <th>3</th>\n",
       "      <td>MIA</td>\n",
       "      <td>9</td>\n",
       "      <td>1</td>\n",
       "      <td>10</td>\n",
       "      <td>12</td>\n",
       "      <td>8.00</td>\n",
       "    </tr>\n",
       "    <tr>\n",
       "      <th>7</th>\n",
       "      <td>MEM</td>\n",
       "      <td>3</td>\n",
       "      <td>9</td>\n",
       "      <td>14</td>\n",
       "      <td>6</td>\n",
       "      <td>8.00</td>\n",
       "    </tr>\n",
       "    <tr>\n",
       "      <th>0</th>\n",
       "      <td>CLE</td>\n",
       "      <td>15</td>\n",
       "      <td>2</td>\n",
       "      <td>1</td>\n",
       "      <td>16</td>\n",
       "      <td>8.50</td>\n",
       "    </tr>\n",
       "    <tr>\n",
       "      <th>2</th>\n",
       "      <td>DET</td>\n",
       "      <td>10</td>\n",
       "      <td>14</td>\n",
       "      <td>9</td>\n",
       "      <td>2</td>\n",
       "      <td>8.75</td>\n",
       "    </tr>\n",
       "    <tr>\n",
       "      <th>10</th>\n",
       "      <td>MIN</td>\n",
       "      <td>13</td>\n",
       "      <td>6</td>\n",
       "      <td>15</td>\n",
       "      <td>1</td>\n",
       "      <td>8.75</td>\n",
       "    </tr>\n",
       "    <tr>\n",
       "      <th>15</th>\n",
       "      <td>NYK</td>\n",
       "      <td>1</td>\n",
       "      <td>15</td>\n",
       "      <td>5</td>\n",
       "      <td>14</td>\n",
       "      <td>8.75</td>\n",
       "    </tr>\n",
       "    <tr>\n",
       "      <th>9</th>\n",
       "      <td>DEN</td>\n",
       "      <td>7</td>\n",
       "      <td>16</td>\n",
       "      <td>6</td>\n",
       "      <td>9</td>\n",
       "      <td>9.50</td>\n",
       "    </tr>\n",
       "    <tr>\n",
       "      <th>11</th>\n",
       "      <td>SAS</td>\n",
       "      <td>14</td>\n",
       "      <td>8</td>\n",
       "      <td>7</td>\n",
       "      <td>10</td>\n",
       "      <td>9.75</td>\n",
       "    </tr>\n",
       "    <tr>\n",
       "      <th>12</th>\n",
       "      <td>PHX</td>\n",
       "      <td>16</td>\n",
       "      <td>4</td>\n",
       "      <td>16</td>\n",
       "      <td>3</td>\n",
       "      <td>9.75</td>\n",
       "    </tr>\n",
       "    <tr>\n",
       "      <th>4</th>\n",
       "      <td>ORL</td>\n",
       "      <td>12</td>\n",
       "      <td>10</td>\n",
       "      <td>11</td>\n",
       "      <td>7</td>\n",
       "      <td>10.00</td>\n",
       "    </tr>\n",
       "    <tr>\n",
       "      <th>6</th>\n",
       "      <td>MIL</td>\n",
       "      <td>6</td>\n",
       "      <td>13</td>\n",
       "      <td>13</td>\n",
       "      <td>13</td>\n",
       "      <td>11.25</td>\n",
       "    </tr>\n",
       "    <tr>\n",
       "      <th>5</th>\n",
       "      <td>PHI</td>\n",
       "      <td>11</td>\n",
       "      <td>12</td>\n",
       "      <td>12</td>\n",
       "      <td>11</td>\n",
       "      <td>11.50</td>\n",
       "    </tr>\n",
       "  </tbody>\n",
       "</table>\n",
       "</div>"
      ],
      "text/plain": [
       "   Team Oreb Diff Avg.Rank TOV Margin Avg.Rank EFG Diff Avg.Rank  \\\n",
       "13  TOR                  5                   5                 3   \n",
       "8   NOP                  2                   3                 2   \n",
       "14  CHI                  4                   7                 8   \n",
       "1   GSW                  8                  11                 4   \n",
       "3   MIA                  9                   1                10   \n",
       "7   MEM                  3                   9                14   \n",
       "0   CLE                 15                   2                 1   \n",
       "2   DET                 10                  14                 9   \n",
       "10  MIN                 13                   6                15   \n",
       "15  NYK                  1                  15                 5   \n",
       "9   DEN                  7                  16                 6   \n",
       "11  SAS                 14                   8                 7   \n",
       "12  PHX                 16                   4                16   \n",
       "4   ORL                 12                  10                11   \n",
       "6   MIL                  6                  13                13   \n",
       "5   PHI                 11                  12                12   \n",
       "\n",
       "   FTR Diff Avg.Rank  Avg. Rank  \n",
       "13                 5       4.50  \n",
       "8                 15       5.50  \n",
       "14                 4       5.75  \n",
       "1                  8       7.75  \n",
       "3                 12       8.00  \n",
       "7                  6       8.00  \n",
       "0                 16       8.50  \n",
       "2                  2       8.75  \n",
       "10                 1       8.75  \n",
       "15                14       8.75  \n",
       "9                  9       9.50  \n",
       "11                10       9.75  \n",
       "12                 3       9.75  \n",
       "4                  7      10.00  \n",
       "6                 13      11.25  \n",
       "5                 11      11.50  "
      ]
     },
     "execution_count": 26,
     "metadata": {},
     "output_type": "execute_result"
    }
   ],
   "source": [
    "rank_df = get_team_rank(team_pred_df[1], ['Oreb Diff Avg.','TOV Margin Avg.', 'EFG Diff Avg.', 'FTR Diff Avg.'], [False,  False, True, True])\n",
    "rank_df"
   ]
  },
  {
   "cell_type": "code",
   "execution_count": 27,
   "id": "b8f0ba58",
   "metadata": {},
   "outputs": [
    {
     "data": {
      "application/vnd.plotly.v1+json": {
       "config": {
        "plotlyServerURL": "https://plot.ly"
       },
       "data": [
        {
         "cells": {
          "align": "left",
          "fill": {
           "color": "lavender"
          },
          "values": [
           [
            "TOR",
            "NOP",
            "CHI",
            "GSW",
            "MIA",
            "MEM",
            "CLE",
            "DET",
            "MIN",
            "NYK",
            "DEN",
            "SAS",
            "PHX",
            "ORL",
            "MIL",
            "PHI"
           ],
           [
            5,
            2,
            4,
            8,
            9,
            3,
            15,
            10,
            13,
            1,
            7,
            14,
            16,
            12,
            6,
            11
           ],
           [
            5,
            3,
            7,
            11,
            1,
            9,
            2,
            14,
            6,
            15,
            16,
            8,
            4,
            10,
            13,
            12
           ],
           [
            3,
            2,
            8,
            4,
            10,
            14,
            1,
            9,
            15,
            5,
            6,
            7,
            16,
            11,
            13,
            12
           ],
           [
            5,
            15,
            4,
            8,
            12,
            6,
            16,
            2,
            1,
            14,
            9,
            10,
            3,
            7,
            13,
            11
           ],
           [
            4.5,
            5.5,
            5.75,
            7.75,
            8,
            8,
            8.5,
            8.75,
            8.75,
            8.75,
            9.5,
            9.75,
            9.75,
            10,
            11.25,
            11.5
           ]
          ]
         },
         "header": {
          "align": "left",
          "fill": {
           "color": "paleturquoise"
          },
          "values": [
           "Team",
           "Oreb Diff Avg.Rank",
           "TOV Margin Avg.Rank",
           "EFG Diff Avg.Rank",
           "FTR Diff Avg.Rank",
           "Avg. Rank"
          ]
         },
         "type": "table"
        }
       ],
       "layout": {
        "template": {
         "data": {
          "bar": [
           {
            "error_x": {
             "color": "#2a3f5f"
            },
            "error_y": {
             "color": "#2a3f5f"
            },
            "marker": {
             "line": {
              "color": "#E5ECF6",
              "width": 0.5
             },
             "pattern": {
              "fillmode": "overlay",
              "size": 10,
              "solidity": 0.2
             }
            },
            "type": "bar"
           }
          ],
          "barpolar": [
           {
            "marker": {
             "line": {
              "color": "#E5ECF6",
              "width": 0.5
             },
             "pattern": {
              "fillmode": "overlay",
              "size": 10,
              "solidity": 0.2
             }
            },
            "type": "barpolar"
           }
          ],
          "carpet": [
           {
            "aaxis": {
             "endlinecolor": "#2a3f5f",
             "gridcolor": "white",
             "linecolor": "white",
             "minorgridcolor": "white",
             "startlinecolor": "#2a3f5f"
            },
            "baxis": {
             "endlinecolor": "#2a3f5f",
             "gridcolor": "white",
             "linecolor": "white",
             "minorgridcolor": "white",
             "startlinecolor": "#2a3f5f"
            },
            "type": "carpet"
           }
          ],
          "choropleth": [
           {
            "colorbar": {
             "outlinewidth": 0,
             "ticks": ""
            },
            "type": "choropleth"
           }
          ],
          "contour": [
           {
            "colorbar": {
             "outlinewidth": 0,
             "ticks": ""
            },
            "colorscale": [
             [
              0,
              "#0d0887"
             ],
             [
              0.1111111111111111,
              "#46039f"
             ],
             [
              0.2222222222222222,
              "#7201a8"
             ],
             [
              0.3333333333333333,
              "#9c179e"
             ],
             [
              0.4444444444444444,
              "#bd3786"
             ],
             [
              0.5555555555555556,
              "#d8576b"
             ],
             [
              0.6666666666666666,
              "#ed7953"
             ],
             [
              0.7777777777777778,
              "#fb9f3a"
             ],
             [
              0.8888888888888888,
              "#fdca26"
             ],
             [
              1,
              "#f0f921"
             ]
            ],
            "type": "contour"
           }
          ],
          "contourcarpet": [
           {
            "colorbar": {
             "outlinewidth": 0,
             "ticks": ""
            },
            "type": "contourcarpet"
           }
          ],
          "heatmap": [
           {
            "colorbar": {
             "outlinewidth": 0,
             "ticks": ""
            },
            "colorscale": [
             [
              0,
              "#0d0887"
             ],
             [
              0.1111111111111111,
              "#46039f"
             ],
             [
              0.2222222222222222,
              "#7201a8"
             ],
             [
              0.3333333333333333,
              "#9c179e"
             ],
             [
              0.4444444444444444,
              "#bd3786"
             ],
             [
              0.5555555555555556,
              "#d8576b"
             ],
             [
              0.6666666666666666,
              "#ed7953"
             ],
             [
              0.7777777777777778,
              "#fb9f3a"
             ],
             [
              0.8888888888888888,
              "#fdca26"
             ],
             [
              1,
              "#f0f921"
             ]
            ],
            "type": "heatmap"
           }
          ],
          "heatmapgl": [
           {
            "colorbar": {
             "outlinewidth": 0,
             "ticks": ""
            },
            "colorscale": [
             [
              0,
              "#0d0887"
             ],
             [
              0.1111111111111111,
              "#46039f"
             ],
             [
              0.2222222222222222,
              "#7201a8"
             ],
             [
              0.3333333333333333,
              "#9c179e"
             ],
             [
              0.4444444444444444,
              "#bd3786"
             ],
             [
              0.5555555555555556,
              "#d8576b"
             ],
             [
              0.6666666666666666,
              "#ed7953"
             ],
             [
              0.7777777777777778,
              "#fb9f3a"
             ],
             [
              0.8888888888888888,
              "#fdca26"
             ],
             [
              1,
              "#f0f921"
             ]
            ],
            "type": "heatmapgl"
           }
          ],
          "histogram": [
           {
            "marker": {
             "pattern": {
              "fillmode": "overlay",
              "size": 10,
              "solidity": 0.2
             }
            },
            "type": "histogram"
           }
          ],
          "histogram2d": [
           {
            "colorbar": {
             "outlinewidth": 0,
             "ticks": ""
            },
            "colorscale": [
             [
              0,
              "#0d0887"
             ],
             [
              0.1111111111111111,
              "#46039f"
             ],
             [
              0.2222222222222222,
              "#7201a8"
             ],
             [
              0.3333333333333333,
              "#9c179e"
             ],
             [
              0.4444444444444444,
              "#bd3786"
             ],
             [
              0.5555555555555556,
              "#d8576b"
             ],
             [
              0.6666666666666666,
              "#ed7953"
             ],
             [
              0.7777777777777778,
              "#fb9f3a"
             ],
             [
              0.8888888888888888,
              "#fdca26"
             ],
             [
              1,
              "#f0f921"
             ]
            ],
            "type": "histogram2d"
           }
          ],
          "histogram2dcontour": [
           {
            "colorbar": {
             "outlinewidth": 0,
             "ticks": ""
            },
            "colorscale": [
             [
              0,
              "#0d0887"
             ],
             [
              0.1111111111111111,
              "#46039f"
             ],
             [
              0.2222222222222222,
              "#7201a8"
             ],
             [
              0.3333333333333333,
              "#9c179e"
             ],
             [
              0.4444444444444444,
              "#bd3786"
             ],
             [
              0.5555555555555556,
              "#d8576b"
             ],
             [
              0.6666666666666666,
              "#ed7953"
             ],
             [
              0.7777777777777778,
              "#fb9f3a"
             ],
             [
              0.8888888888888888,
              "#fdca26"
             ],
             [
              1,
              "#f0f921"
             ]
            ],
            "type": "histogram2dcontour"
           }
          ],
          "mesh3d": [
           {
            "colorbar": {
             "outlinewidth": 0,
             "ticks": ""
            },
            "type": "mesh3d"
           }
          ],
          "parcoords": [
           {
            "line": {
             "colorbar": {
              "outlinewidth": 0,
              "ticks": ""
             }
            },
            "type": "parcoords"
           }
          ],
          "pie": [
           {
            "automargin": true,
            "type": "pie"
           }
          ],
          "scatter": [
           {
            "fillpattern": {
             "fillmode": "overlay",
             "size": 10,
             "solidity": 0.2
            },
            "type": "scatter"
           }
          ],
          "scatter3d": [
           {
            "line": {
             "colorbar": {
              "outlinewidth": 0,
              "ticks": ""
             }
            },
            "marker": {
             "colorbar": {
              "outlinewidth": 0,
              "ticks": ""
             }
            },
            "type": "scatter3d"
           }
          ],
          "scattercarpet": [
           {
            "marker": {
             "colorbar": {
              "outlinewidth": 0,
              "ticks": ""
             }
            },
            "type": "scattercarpet"
           }
          ],
          "scattergeo": [
           {
            "marker": {
             "colorbar": {
              "outlinewidth": 0,
              "ticks": ""
             }
            },
            "type": "scattergeo"
           }
          ],
          "scattergl": [
           {
            "marker": {
             "colorbar": {
              "outlinewidth": 0,
              "ticks": ""
             }
            },
            "type": "scattergl"
           }
          ],
          "scattermapbox": [
           {
            "marker": {
             "colorbar": {
              "outlinewidth": 0,
              "ticks": ""
             }
            },
            "type": "scattermapbox"
           }
          ],
          "scatterpolar": [
           {
            "marker": {
             "colorbar": {
              "outlinewidth": 0,
              "ticks": ""
             }
            },
            "type": "scatterpolar"
           }
          ],
          "scatterpolargl": [
           {
            "marker": {
             "colorbar": {
              "outlinewidth": 0,
              "ticks": ""
             }
            },
            "type": "scatterpolargl"
           }
          ],
          "scatterternary": [
           {
            "marker": {
             "colorbar": {
              "outlinewidth": 0,
              "ticks": ""
             }
            },
            "type": "scatterternary"
           }
          ],
          "surface": [
           {
            "colorbar": {
             "outlinewidth": 0,
             "ticks": ""
            },
            "colorscale": [
             [
              0,
              "#0d0887"
             ],
             [
              0.1111111111111111,
              "#46039f"
             ],
             [
              0.2222222222222222,
              "#7201a8"
             ],
             [
              0.3333333333333333,
              "#9c179e"
             ],
             [
              0.4444444444444444,
              "#bd3786"
             ],
             [
              0.5555555555555556,
              "#d8576b"
             ],
             [
              0.6666666666666666,
              "#ed7953"
             ],
             [
              0.7777777777777778,
              "#fb9f3a"
             ],
             [
              0.8888888888888888,
              "#fdca26"
             ],
             [
              1,
              "#f0f921"
             ]
            ],
            "type": "surface"
           }
          ],
          "table": [
           {
            "cells": {
             "fill": {
              "color": "#EBF0F8"
             },
             "line": {
              "color": "white"
             }
            },
            "header": {
             "fill": {
              "color": "#C8D4E3"
             },
             "line": {
              "color": "white"
             }
            },
            "type": "table"
           }
          ]
         },
         "layout": {
          "annotationdefaults": {
           "arrowcolor": "#2a3f5f",
           "arrowhead": 0,
           "arrowwidth": 1
          },
          "autotypenumbers": "strict",
          "coloraxis": {
           "colorbar": {
            "outlinewidth": 0,
            "ticks": ""
           }
          },
          "colorscale": {
           "diverging": [
            [
             0,
             "#8e0152"
            ],
            [
             0.1,
             "#c51b7d"
            ],
            [
             0.2,
             "#de77ae"
            ],
            [
             0.3,
             "#f1b6da"
            ],
            [
             0.4,
             "#fde0ef"
            ],
            [
             0.5,
             "#f7f7f7"
            ],
            [
             0.6,
             "#e6f5d0"
            ],
            [
             0.7,
             "#b8e186"
            ],
            [
             0.8,
             "#7fbc41"
            ],
            [
             0.9,
             "#4d9221"
            ],
            [
             1,
             "#276419"
            ]
           ],
           "sequential": [
            [
             0,
             "#0d0887"
            ],
            [
             0.1111111111111111,
             "#46039f"
            ],
            [
             0.2222222222222222,
             "#7201a8"
            ],
            [
             0.3333333333333333,
             "#9c179e"
            ],
            [
             0.4444444444444444,
             "#bd3786"
            ],
            [
             0.5555555555555556,
             "#d8576b"
            ],
            [
             0.6666666666666666,
             "#ed7953"
            ],
            [
             0.7777777777777778,
             "#fb9f3a"
            ],
            [
             0.8888888888888888,
             "#fdca26"
            ],
            [
             1,
             "#f0f921"
            ]
           ],
           "sequentialminus": [
            [
             0,
             "#0d0887"
            ],
            [
             0.1111111111111111,
             "#46039f"
            ],
            [
             0.2222222222222222,
             "#7201a8"
            ],
            [
             0.3333333333333333,
             "#9c179e"
            ],
            [
             0.4444444444444444,
             "#bd3786"
            ],
            [
             0.5555555555555556,
             "#d8576b"
            ],
            [
             0.6666666666666666,
             "#ed7953"
            ],
            [
             0.7777777777777778,
             "#fb9f3a"
            ],
            [
             0.8888888888888888,
             "#fdca26"
            ],
            [
             1,
             "#f0f921"
            ]
           ]
          },
          "colorway": [
           "#636efa",
           "#EF553B",
           "#00cc96",
           "#ab63fa",
           "#FFA15A",
           "#19d3f3",
           "#FF6692",
           "#B6E880",
           "#FF97FF",
           "#FECB52"
          ],
          "font": {
           "color": "#2a3f5f"
          },
          "geo": {
           "bgcolor": "white",
           "lakecolor": "white",
           "landcolor": "#E5ECF6",
           "showlakes": true,
           "showland": true,
           "subunitcolor": "white"
          },
          "hoverlabel": {
           "align": "left"
          },
          "hovermode": "closest",
          "mapbox": {
           "style": "light"
          },
          "paper_bgcolor": "white",
          "plot_bgcolor": "#E5ECF6",
          "polar": {
           "angularaxis": {
            "gridcolor": "white",
            "linecolor": "white",
            "ticks": ""
           },
           "bgcolor": "#E5ECF6",
           "radialaxis": {
            "gridcolor": "white",
            "linecolor": "white",
            "ticks": ""
           }
          },
          "scene": {
           "xaxis": {
            "backgroundcolor": "#E5ECF6",
            "gridcolor": "white",
            "gridwidth": 2,
            "linecolor": "white",
            "showbackground": true,
            "ticks": "",
            "zerolinecolor": "white"
           },
           "yaxis": {
            "backgroundcolor": "#E5ECF6",
            "gridcolor": "white",
            "gridwidth": 2,
            "linecolor": "white",
            "showbackground": true,
            "ticks": "",
            "zerolinecolor": "white"
           },
           "zaxis": {
            "backgroundcolor": "#E5ECF6",
            "gridcolor": "white",
            "gridwidth": 2,
            "linecolor": "white",
            "showbackground": true,
            "ticks": "",
            "zerolinecolor": "white"
           }
          },
          "shapedefaults": {
           "line": {
            "color": "#2a3f5f"
           }
          },
          "ternary": {
           "aaxis": {
            "gridcolor": "white",
            "linecolor": "white",
            "ticks": ""
           },
           "baxis": {
            "gridcolor": "white",
            "linecolor": "white",
            "ticks": ""
           },
           "bgcolor": "#E5ECF6",
           "caxis": {
            "gridcolor": "white",
            "linecolor": "white",
            "ticks": ""
           }
          },
          "title": {
           "x": 0.05
          },
          "xaxis": {
           "automargin": true,
           "gridcolor": "white",
           "linecolor": "white",
           "ticks": "",
           "title": {
            "standoff": 15
           },
           "zerolinecolor": "white",
           "zerolinewidth": 2
          },
          "yaxis": {
           "automargin": true,
           "gridcolor": "white",
           "linecolor": "white",
           "ticks": "",
           "title": {
            "standoff": 15
           },
           "zerolinecolor": "white",
           "zerolinewidth": 2
          }
         }
        },
        "title": {
         "text": "Team Rankings in 4 Factor Categories in Missed Wins"
        }
       }
      }
     },
     "metadata": {},
     "output_type": "display_data"
    },
    {
     "data": {
      "text/markdown": [
       "Uploading report and associated data - *please wait...*"
      ],
      "text/plain": [
       "<IPython.core.display.Markdown object>"
      ]
     },
     "metadata": {},
     "output_type": "display_data"
    },
    {
     "data": {
      "text/markdown": [
       "Your report only contains a single element - did you know you can include additional plots, tables and text in a single report? More info <a href='https://docs.datapane.com/reports/blocks/layout-pages-and-selects' target='_blank'>here</a>"
      ],
      "text/plain": [
       "<IPython.core.display.Markdown object>"
      ]
     },
     "metadata": {},
     "output_type": "display_data"
    },
    {
     "data": {
      "text/markdown": [
       "Report successfully uploaded. View and share your report <a href='https://datapane.com/reports/n3RV513/missed-wins-ranks/' target='_blank'>here</a>, or edit your report <a href='https://datapane.com/reports/n3RV513/missed-wins-ranks/edit/' target='_blank'>here</a>."
      ],
      "text/plain": [
       "<IPython.core.display.Markdown object>"
      ]
     },
     "metadata": {},
     "output_type": "display_data"
    }
   ],
   "source": [
    "fig_rank = go.Figure(data=[go.Table(\n",
    "    header=dict(values=list(rank_df.columns),\n",
    "                fill_color='paleturquoise',\n",
    "                align='left'),\n",
    "    cells=dict(values=[rank_df['Team'], rank_df['Oreb Diff Avg.Rank'], rank_df['TOV Margin Avg.Rank'], rank_df['EFG Diff Avg.Rank'], rank_df['FTR Diff Avg.Rank'], rank_df['Avg. Rank']],\n",
    "               fill_color='lavender',\n",
    "               align='left'))\n",
    "])\n",
    "\n",
    "fig_rank.update_layout(title_text = \"Team Rankings in 4 Factor Categories in Missed Wins\")\n",
    "fig_rank.show()\n",
    "dp.Report(\n",
    "    dp.Plot(fig_rank)).upload(name='Missed Wins Ranks', publicly_visible=True)"
   ]
  },
  {
   "cell_type": "markdown",
   "id": "059ecd93",
   "metadata": {},
   "source": [
    " This leads to the Raptors highest total rank, which is an average of the four ranked categories."
   ]
  },
  {
   "cell_type": "markdown",
   "id": "946d12cb",
   "metadata": {},
   "source": [
    "### Let's Summaraize What we Know So Far"
   ]
  },
  {
   "cell_type": "markdown",
   "id": "f419c23d",
   "metadata": {},
   "source": [
    "* This model with EFG Difference, Turnover % Difference, and Free Throw Rate Difference is generally very good at explaining who would win a basketball game\n",
    "\n",
    "* While the model's performance on the Raptors' 2021-2022 season has a solid prediction accuracy of 76%, this is generally underwhelming in comparison to the model's performance on other teams' seasons across the league.\n",
    "\n",
    "* We saw that the model failed mostly in predicting wins from the Raptors, with 15 of the 19 incorrect predictions being games that the Raptors won.\n",
    "\n",
    "\n",
    "* In these games, the Raptors were outshot and out free-throwed, while forcing more turnovers and offensive rebounds than the rest of the league on average."
   ]
  },
  {
   "cell_type": "markdown",
   "id": "fdb11d14",
   "metadata": {},
   "source": [
    "## Examining the Missed Wins in Depth"
   ]
  },
  {
   "cell_type": "code",
   "execution_count": 28,
   "id": "310f1969",
   "metadata": {},
   "outputs": [],
   "source": [
    "xtst = log_df_raps_2021[['EFG_Diff',   'FT_RATE_Diff']]\n",
    "ytst = (log_df_raps_2021.WL == 'W')*1\n",
    "ypred = lr.predict(xtst)\n",
    "yproba = lr.predict_proba(xtst)\n",
    "log_df_raps_2021['Win Probability'] = yproba[:,1]\n",
    "pred_acc = ytst == ypred\n",
    "log_df_raps_2021['Prediction Accuracy'] = pred_acc\n",
    "wrong_pred  = log_df_raps_2021[log_df_raps_2021['Prediction Accuracy']== False]\n",
    "\n",
    "wrong_predicted_w = wrong_pred[wrong_pred[\"WL\"] == 'W']\n",
    "\n",
    "\n",
    "wins_df = wrong_predicted_w[['GAME_ID','GAME_DATE','MATCHUP','PLUS_MINUS','EFG_PCT','OPP_EFG_PCT', 'EFG_Diff', 'TOV_PCT_Diff','TOV Margin', 'OREB_PCT_Diff','Oreb Diff','FT_RATE_Diff', 'Win Probability']].sort_values('FT_RATE_Diff')\n"
   ]
  },
  {
   "cell_type": "code",
   "execution_count": 29,
   "id": "01ea7cbf",
   "metadata": {},
   "outputs": [
    {
     "data": {
      "text/plain": [
       "24"
      ]
     },
     "execution_count": 29,
     "metadata": {},
     "output_type": "execute_result"
    }
   ],
   "source": [
    "len(wins_df)"
   ]
  },
  {
   "cell_type": "code",
   "execution_count": 30,
   "id": "00d41b5e",
   "metadata": {},
   "outputs": [],
   "source": [
    "games_no_shot = log_df_raps_2021[(log_df_raps_2021['WL']=='W')& (log_df_raps_2021['EFG_Diff']<0)& (log_df_raps_2021['FT_RATE_Diff']<=0)]['GAME_ID']"
   ]
  },
  {
   "cell_type": "code",
   "execution_count": 31,
   "id": "f8600e52",
   "metadata": {},
   "outputs": [
    {
     "data": {
      "text/plain": [
       "1.0"
      ]
     },
     "execution_count": 31,
     "metadata": {},
     "output_type": "execute_result"
    }
   ],
   "source": [
    "games_no_shot.isin(wins_df.GAME_ID).sum()/len(games_no_shot)"
   ]
  },
  {
   "cell_type": "code",
   "execution_count": 109,
   "id": "fc2ff834",
   "metadata": {},
   "outputs": [],
   "source": [
    "not_efg = wins_df[(wins_df['EFG_Diff']<=0)]\n",
    "\n",
    "\n"
   ]
  },
  {
   "cell_type": "code",
   "execution_count": 93,
   "id": "6b7ecccc",
   "metadata": {},
   "outputs": [],
   "source": [
    "not_efg_report = not_efg[['GAME_DATE','MATCHUP','EFG_Diff','TOV_PCT_Diff','OREB_PCT_Diff','FT_RATE_Diff', 'Win Probability'  ]].reset_index(drop=True)\n",
    "not_efg_report = not_efg_report.rename({'GAME_DATE': 'Date','MATCHUP': 'Matchup','EFG_Diff': 'EFG% Diff','TOV_PCT_Diff': 'TOV% Diff','OREB_PCT_Diff': 'OREB% Diff','FT_RATE_Diff': 'FTR% Diff', 'Win Probability': 'Probability' }, axis='columns')"
   ]
  },
  {
   "cell_type": "code",
   "execution_count": 116,
   "id": "04611352",
   "metadata": {},
   "outputs": [
    {
     "data": {
      "text/markdown": [
       "Uploading report and associated data - *please wait...*"
      ],
      "text/plain": [
       "<IPython.core.display.Markdown object>"
      ]
     },
     "metadata": {},
     "output_type": "display_data"
    },
    {
     "data": {
      "text/markdown": [
       "Your report only contains a single element - did you know you can include additional plots, tables and text in a single report? More info <a href='https://docs.datapane.com/reports/blocks/layout-pages-and-selects' target='_blank'>here</a>"
      ],
      "text/plain": [
       "<IPython.core.display.Markdown object>"
      ]
     },
     "metadata": {},
     "output_type": "display_data"
    },
    {
     "data": {
      "text/markdown": [
       "Report successfully uploaded. View and share your report <a href='https://datapane.com/reports/vAqvwM3/raptors-averages/' target='_blank'>here</a>, or edit your report <a href='https://datapane.com/reports/vAqvwM3/raptors-averages/edit/' target='_blank'>here</a>."
      ],
      "text/plain": [
       "<IPython.core.display.Markdown object>"
      ]
     },
     "metadata": {},
     "output_type": "display_data"
    }
   ],
   "source": [
    "raps_avg = pd.DataFrame(np.round(not_efg_report.mean(axis=0),3)*100, columns = ['Mean Value  (%)'])\n",
    "\n",
    "report = dp.Report(\n",
    "    dp.Text('# Raptors Average Stats for Missed Wins with Lost EFG and FTR Differentials'),\n",
    "    \n",
    "    dp.Table(raps_avg)\n",
    "    )\n",
    "\n",
    "\n",
    "\n",
    "report.upload(formatting = dp.ReportFormatting( text_alignment=dp.TextAlignment.LEFT),name='Raptors Averages', publicly_visible=True)"
   ]
  },
  {
   "cell_type": "code",
   "execution_count": 100,
   "id": "3a49239c",
   "metadata": {},
   "outputs": [
    {
     "data": {
      "text/markdown": [
       "Uploading report and associated data - *please wait...*"
      ],
      "text/plain": [
       "<IPython.core.display.Markdown object>"
      ]
     },
     "metadata": {},
     "output_type": "display_data"
    },
    {
     "data": {
      "text/markdown": [
       "Report successfully uploaded. View and share your report <a href='https://datapane.com/reports/dA6R8MA/raptors-poor-shooting-wins-stats/' target='_blank'>here</a>, or edit your report <a href='https://datapane.com/reports/dA6R8MA/raptors-poor-shooting-wins-stats/edit/' target='_blank'>here</a>."
      ],
      "text/plain": [
       "<IPython.core.display.Markdown object>"
      ]
     },
     "metadata": {},
     "output_type": "display_data"
    }
   ],
   "source": [
    "\n",
    "report = dp.Report(\n",
    "    dp.Text('# Missed Wins Where the Raptors Lost the EFG Differential'),\n",
    "    dp.Text('Game Statistics'),\n",
    "    dp.Table(not_efg_report[['Date', 'Matchup','EFG% Diff', 'TOV% Diff', 'OREB% Diff', 'FTR% Diff']]),\n",
    "    dp.Text('Win Probabilities') ,\n",
    "    dp.Table(not_efg_report[['Date', 'Matchup', 'Probability']])\n",
    "    )\n",
    "\n",
    "\n",
    "\n",
    "report.upload(formatting = dp.ReportFormatting( text_alignment=dp.TextAlignment.LEFT),name='Raptors Poor shooting Wins Stats', publicly_visible=True)"
   ]
  },
  {
   "cell_type": "code",
   "execution_count": null,
   "id": "259da3a4",
   "metadata": {},
   "outputs": [],
   "source": []
  },
  {
   "cell_type": "code",
   "execution_count": 70,
   "id": "c4736394",
   "metadata": {},
   "outputs": [
    {
     "data": {
      "application/vnd.plotly.v1+json": {
       "config": {
        "plotlyServerURL": "https://plot.ly"
       },
       "data": [
        {
         "cells": {
          "align": "left",
          "fill": {
           "color": "lavender"
          },
          "values": [
           [
            "2021-11-01",
            "2022-03-20",
            "2022-04-07",
            "2022-02-03",
            "2022-01-09",
            "2021-10-30",
            "2022-03-12",
            "2022-04-08",
            "2021-11-11",
            "2021-12-10",
            "2021-10-27",
            "2022-01-31",
            "2022-01-07",
            "2022-03-11",
            "2022-03-01",
            "2022-03-14",
            "2022-03-16",
            "2022-01-21",
            "2021-10-29",
            "2021-12-31",
            "2022-04-05"
           ],
           [
            "TOR @ NYK",
            "TOR @ PHI",
            "TOR vs. PHI",
            "TOR vs. CHI",
            "TOR vs. NOP",
            "TOR @ IND",
            "TOR @ DEN",
            "TOR vs. HOU",
            "TOR @ PHI",
            "TOR vs. NYK",
            "TOR vs. IND",
            "TOR @ ATL",
            "TOR vs. UTA",
            "TOR @ PHX",
            "TOR vs. BKN",
            "TOR @ LAL",
            "TOR @ LAC",
            "TOR @ WAS",
            "TOR vs. ORL",
            "TOR vs. LAC",
            "TOR vs. ATL"
           ],
           [
            -0.061,
            -0.045,
            -0.043,
            -0.057,
            -0.027,
            -0.028,
            -0.093,
            -0.098,
            -0.007,
            0,
            -0.014,
            -0.003,
            -0.076,
            -0.042,
            -0.066,
            -0.008,
            -0.034,
            -0.043,
            -0.011,
            -0.109,
            -0.052
           ],
           [
            0.087,
            0.013,
            0.063,
            0.05,
            -0.001,
            0.026,
            0.111,
            0.086,
            0,
            0.076,
            0.114,
            0.072,
            0.115,
            -0.007,
            -0.011,
            0.002,
            0.036,
            0.102,
            0.088,
            0.065,
            -0.005
           ],
           [
            0.032,
            0.176,
            0.02,
            0.068,
            0.062,
            -0.022,
            0.086,
            0.025,
            0.025,
            -0.124,
            -0.081,
            -0.045,
            0.055,
            0.035,
            0.111,
            0.131,
            0.021,
            -0.121,
            -0.151,
            0.183,
            0.124
           ],
           [
            -0.175,
            -0.137,
            -0.135,
            -0.099,
            -0.098,
            -0.068,
            -0.063,
            -0.056,
            -0.039,
            -0.032,
            -0.025,
            -0.007,
            0.028,
            0.03,
            0.03,
            0.042,
            0.061,
            0.071,
            0.072,
            0.1,
            0.179
           ],
           [
            0.0754,
            0.127,
            0.1338,
            0.1132,
            0.2153,
            0.2347,
            0.057,
            0.0521,
            0.3734,
            0.4235,
            0.3473,
            0.4329,
            0.1235,
            0.2518,
            0.1548,
            0.4568,
            0.3219,
            0.2835,
            0.472,
            0.0782,
            0.3402
           ]
          ]
         },
         "header": {
          "align": "left",
          "fill": {
           "color": "paleturquoise"
          },
          "values": [
           "Date",
           "Game",
           "EFG% Diff",
           "TOV% Diff",
           "OREB% Diff",
           "FTR Diff",
           "Probability"
          ]
         },
         "type": "table"
        }
       ],
       "layout": {
        "template": {
         "data": {
          "bar": [
           {
            "error_x": {
             "color": "#2a3f5f"
            },
            "error_y": {
             "color": "#2a3f5f"
            },
            "marker": {
             "line": {
              "color": "#E5ECF6",
              "width": 0.5
             },
             "pattern": {
              "fillmode": "overlay",
              "size": 10,
              "solidity": 0.2
             }
            },
            "type": "bar"
           }
          ],
          "barpolar": [
           {
            "marker": {
             "line": {
              "color": "#E5ECF6",
              "width": 0.5
             },
             "pattern": {
              "fillmode": "overlay",
              "size": 10,
              "solidity": 0.2
             }
            },
            "type": "barpolar"
           }
          ],
          "carpet": [
           {
            "aaxis": {
             "endlinecolor": "#2a3f5f",
             "gridcolor": "white",
             "linecolor": "white",
             "minorgridcolor": "white",
             "startlinecolor": "#2a3f5f"
            },
            "baxis": {
             "endlinecolor": "#2a3f5f",
             "gridcolor": "white",
             "linecolor": "white",
             "minorgridcolor": "white",
             "startlinecolor": "#2a3f5f"
            },
            "type": "carpet"
           }
          ],
          "choropleth": [
           {
            "colorbar": {
             "outlinewidth": 0,
             "ticks": ""
            },
            "type": "choropleth"
           }
          ],
          "contour": [
           {
            "colorbar": {
             "outlinewidth": 0,
             "ticks": ""
            },
            "colorscale": [
             [
              0,
              "#0d0887"
             ],
             [
              0.1111111111111111,
              "#46039f"
             ],
             [
              0.2222222222222222,
              "#7201a8"
             ],
             [
              0.3333333333333333,
              "#9c179e"
             ],
             [
              0.4444444444444444,
              "#bd3786"
             ],
             [
              0.5555555555555556,
              "#d8576b"
             ],
             [
              0.6666666666666666,
              "#ed7953"
             ],
             [
              0.7777777777777778,
              "#fb9f3a"
             ],
             [
              0.8888888888888888,
              "#fdca26"
             ],
             [
              1,
              "#f0f921"
             ]
            ],
            "type": "contour"
           }
          ],
          "contourcarpet": [
           {
            "colorbar": {
             "outlinewidth": 0,
             "ticks": ""
            },
            "type": "contourcarpet"
           }
          ],
          "heatmap": [
           {
            "colorbar": {
             "outlinewidth": 0,
             "ticks": ""
            },
            "colorscale": [
             [
              0,
              "#0d0887"
             ],
             [
              0.1111111111111111,
              "#46039f"
             ],
             [
              0.2222222222222222,
              "#7201a8"
             ],
             [
              0.3333333333333333,
              "#9c179e"
             ],
             [
              0.4444444444444444,
              "#bd3786"
             ],
             [
              0.5555555555555556,
              "#d8576b"
             ],
             [
              0.6666666666666666,
              "#ed7953"
             ],
             [
              0.7777777777777778,
              "#fb9f3a"
             ],
             [
              0.8888888888888888,
              "#fdca26"
             ],
             [
              1,
              "#f0f921"
             ]
            ],
            "type": "heatmap"
           }
          ],
          "heatmapgl": [
           {
            "colorbar": {
             "outlinewidth": 0,
             "ticks": ""
            },
            "colorscale": [
             [
              0,
              "#0d0887"
             ],
             [
              0.1111111111111111,
              "#46039f"
             ],
             [
              0.2222222222222222,
              "#7201a8"
             ],
             [
              0.3333333333333333,
              "#9c179e"
             ],
             [
              0.4444444444444444,
              "#bd3786"
             ],
             [
              0.5555555555555556,
              "#d8576b"
             ],
             [
              0.6666666666666666,
              "#ed7953"
             ],
             [
              0.7777777777777778,
              "#fb9f3a"
             ],
             [
              0.8888888888888888,
              "#fdca26"
             ],
             [
              1,
              "#f0f921"
             ]
            ],
            "type": "heatmapgl"
           }
          ],
          "histogram": [
           {
            "marker": {
             "pattern": {
              "fillmode": "overlay",
              "size": 10,
              "solidity": 0.2
             }
            },
            "type": "histogram"
           }
          ],
          "histogram2d": [
           {
            "colorbar": {
             "outlinewidth": 0,
             "ticks": ""
            },
            "colorscale": [
             [
              0,
              "#0d0887"
             ],
             [
              0.1111111111111111,
              "#46039f"
             ],
             [
              0.2222222222222222,
              "#7201a8"
             ],
             [
              0.3333333333333333,
              "#9c179e"
             ],
             [
              0.4444444444444444,
              "#bd3786"
             ],
             [
              0.5555555555555556,
              "#d8576b"
             ],
             [
              0.6666666666666666,
              "#ed7953"
             ],
             [
              0.7777777777777778,
              "#fb9f3a"
             ],
             [
              0.8888888888888888,
              "#fdca26"
             ],
             [
              1,
              "#f0f921"
             ]
            ],
            "type": "histogram2d"
           }
          ],
          "histogram2dcontour": [
           {
            "colorbar": {
             "outlinewidth": 0,
             "ticks": ""
            },
            "colorscale": [
             [
              0,
              "#0d0887"
             ],
             [
              0.1111111111111111,
              "#46039f"
             ],
             [
              0.2222222222222222,
              "#7201a8"
             ],
             [
              0.3333333333333333,
              "#9c179e"
             ],
             [
              0.4444444444444444,
              "#bd3786"
             ],
             [
              0.5555555555555556,
              "#d8576b"
             ],
             [
              0.6666666666666666,
              "#ed7953"
             ],
             [
              0.7777777777777778,
              "#fb9f3a"
             ],
             [
              0.8888888888888888,
              "#fdca26"
             ],
             [
              1,
              "#f0f921"
             ]
            ],
            "type": "histogram2dcontour"
           }
          ],
          "mesh3d": [
           {
            "colorbar": {
             "outlinewidth": 0,
             "ticks": ""
            },
            "type": "mesh3d"
           }
          ],
          "parcoords": [
           {
            "line": {
             "colorbar": {
              "outlinewidth": 0,
              "ticks": ""
             }
            },
            "type": "parcoords"
           }
          ],
          "pie": [
           {
            "automargin": true,
            "type": "pie"
           }
          ],
          "scatter": [
           {
            "fillpattern": {
             "fillmode": "overlay",
             "size": 10,
             "solidity": 0.2
            },
            "type": "scatter"
           }
          ],
          "scatter3d": [
           {
            "line": {
             "colorbar": {
              "outlinewidth": 0,
              "ticks": ""
             }
            },
            "marker": {
             "colorbar": {
              "outlinewidth": 0,
              "ticks": ""
             }
            },
            "type": "scatter3d"
           }
          ],
          "scattercarpet": [
           {
            "marker": {
             "colorbar": {
              "outlinewidth": 0,
              "ticks": ""
             }
            },
            "type": "scattercarpet"
           }
          ],
          "scattergeo": [
           {
            "marker": {
             "colorbar": {
              "outlinewidth": 0,
              "ticks": ""
             }
            },
            "type": "scattergeo"
           }
          ],
          "scattergl": [
           {
            "marker": {
             "colorbar": {
              "outlinewidth": 0,
              "ticks": ""
             }
            },
            "type": "scattergl"
           }
          ],
          "scattermapbox": [
           {
            "marker": {
             "colorbar": {
              "outlinewidth": 0,
              "ticks": ""
             }
            },
            "type": "scattermapbox"
           }
          ],
          "scatterpolar": [
           {
            "marker": {
             "colorbar": {
              "outlinewidth": 0,
              "ticks": ""
             }
            },
            "type": "scatterpolar"
           }
          ],
          "scatterpolargl": [
           {
            "marker": {
             "colorbar": {
              "outlinewidth": 0,
              "ticks": ""
             }
            },
            "type": "scatterpolargl"
           }
          ],
          "scatterternary": [
           {
            "marker": {
             "colorbar": {
              "outlinewidth": 0,
              "ticks": ""
             }
            },
            "type": "scatterternary"
           }
          ],
          "surface": [
           {
            "colorbar": {
             "outlinewidth": 0,
             "ticks": ""
            },
            "colorscale": [
             [
              0,
              "#0d0887"
             ],
             [
              0.1111111111111111,
              "#46039f"
             ],
             [
              0.2222222222222222,
              "#7201a8"
             ],
             [
              0.3333333333333333,
              "#9c179e"
             ],
             [
              0.4444444444444444,
              "#bd3786"
             ],
             [
              0.5555555555555556,
              "#d8576b"
             ],
             [
              0.6666666666666666,
              "#ed7953"
             ],
             [
              0.7777777777777778,
              "#fb9f3a"
             ],
             [
              0.8888888888888888,
              "#fdca26"
             ],
             [
              1,
              "#f0f921"
             ]
            ],
            "type": "surface"
           }
          ],
          "table": [
           {
            "cells": {
             "fill": {
              "color": "#EBF0F8"
             },
             "line": {
              "color": "white"
             }
            },
            "header": {
             "fill": {
              "color": "#C8D4E3"
             },
             "line": {
              "color": "white"
             }
            },
            "type": "table"
           }
          ]
         },
         "layout": {
          "annotationdefaults": {
           "arrowcolor": "#2a3f5f",
           "arrowhead": 0,
           "arrowwidth": 1
          },
          "autotypenumbers": "strict",
          "coloraxis": {
           "colorbar": {
            "outlinewidth": 0,
            "ticks": ""
           }
          },
          "colorscale": {
           "diverging": [
            [
             0,
             "#8e0152"
            ],
            [
             0.1,
             "#c51b7d"
            ],
            [
             0.2,
             "#de77ae"
            ],
            [
             0.3,
             "#f1b6da"
            ],
            [
             0.4,
             "#fde0ef"
            ],
            [
             0.5,
             "#f7f7f7"
            ],
            [
             0.6,
             "#e6f5d0"
            ],
            [
             0.7,
             "#b8e186"
            ],
            [
             0.8,
             "#7fbc41"
            ],
            [
             0.9,
             "#4d9221"
            ],
            [
             1,
             "#276419"
            ]
           ],
           "sequential": [
            [
             0,
             "#0d0887"
            ],
            [
             0.1111111111111111,
             "#46039f"
            ],
            [
             0.2222222222222222,
             "#7201a8"
            ],
            [
             0.3333333333333333,
             "#9c179e"
            ],
            [
             0.4444444444444444,
             "#bd3786"
            ],
            [
             0.5555555555555556,
             "#d8576b"
            ],
            [
             0.6666666666666666,
             "#ed7953"
            ],
            [
             0.7777777777777778,
             "#fb9f3a"
            ],
            [
             0.8888888888888888,
             "#fdca26"
            ],
            [
             1,
             "#f0f921"
            ]
           ],
           "sequentialminus": [
            [
             0,
             "#0d0887"
            ],
            [
             0.1111111111111111,
             "#46039f"
            ],
            [
             0.2222222222222222,
             "#7201a8"
            ],
            [
             0.3333333333333333,
             "#9c179e"
            ],
            [
             0.4444444444444444,
             "#bd3786"
            ],
            [
             0.5555555555555556,
             "#d8576b"
            ],
            [
             0.6666666666666666,
             "#ed7953"
            ],
            [
             0.7777777777777778,
             "#fb9f3a"
            ],
            [
             0.8888888888888888,
             "#fdca26"
            ],
            [
             1,
             "#f0f921"
            ]
           ]
          },
          "colorway": [
           "#636efa",
           "#EF553B",
           "#00cc96",
           "#ab63fa",
           "#FFA15A",
           "#19d3f3",
           "#FF6692",
           "#B6E880",
           "#FF97FF",
           "#FECB52"
          ],
          "font": {
           "color": "#2a3f5f"
          },
          "geo": {
           "bgcolor": "white",
           "lakecolor": "white",
           "landcolor": "#E5ECF6",
           "showlakes": true,
           "showland": true,
           "subunitcolor": "white"
          },
          "hoverlabel": {
           "align": "left"
          },
          "hovermode": "closest",
          "mapbox": {
           "style": "light"
          },
          "paper_bgcolor": "white",
          "plot_bgcolor": "#E5ECF6",
          "polar": {
           "angularaxis": {
            "gridcolor": "white",
            "linecolor": "white",
            "ticks": ""
           },
           "bgcolor": "#E5ECF6",
           "radialaxis": {
            "gridcolor": "white",
            "linecolor": "white",
            "ticks": ""
           }
          },
          "scene": {
           "xaxis": {
            "backgroundcolor": "#E5ECF6",
            "gridcolor": "white",
            "gridwidth": 2,
            "linecolor": "white",
            "showbackground": true,
            "ticks": "",
            "zerolinecolor": "white"
           },
           "yaxis": {
            "backgroundcolor": "#E5ECF6",
            "gridcolor": "white",
            "gridwidth": 2,
            "linecolor": "white",
            "showbackground": true,
            "ticks": "",
            "zerolinecolor": "white"
           },
           "zaxis": {
            "backgroundcolor": "#E5ECF6",
            "gridcolor": "white",
            "gridwidth": 2,
            "linecolor": "white",
            "showbackground": true,
            "ticks": "",
            "zerolinecolor": "white"
           }
          },
          "shapedefaults": {
           "line": {
            "color": "#2a3f5f"
           }
          },
          "ternary": {
           "aaxis": {
            "gridcolor": "white",
            "linecolor": "white",
            "ticks": ""
           },
           "baxis": {
            "gridcolor": "white",
            "linecolor": "white",
            "ticks": ""
           },
           "bgcolor": "#E5ECF6",
           "caxis": {
            "gridcolor": "white",
            "linecolor": "white",
            "ticks": ""
           }
          },
          "title": {
           "x": 0.05
          },
          "xaxis": {
           "automargin": true,
           "gridcolor": "white",
           "linecolor": "white",
           "ticks": "",
           "title": {
            "standoff": 15
           },
           "zerolinecolor": "white",
           "zerolinewidth": 2
          },
          "yaxis": {
           "automargin": true,
           "gridcolor": "white",
           "linecolor": "white",
           "ticks": "",
           "title": {
            "standoff": 15
           },
           "zerolinecolor": "white",
           "zerolinewidth": 2
          }
         }
        },
        "title": {
         "text": "Missed Wins from the Raptors where they Lost the EFG Differential"
        }
       }
      }
     },
     "metadata": {},
     "output_type": "display_data"
    },
    {
     "data": {
      "text/markdown": [
       "Uploading report and associated data - *please wait...*"
      ],
      "text/plain": [
       "<IPython.core.display.Markdown object>"
      ]
     },
     "metadata": {},
     "output_type": "display_data"
    },
    {
     "data": {
      "text/markdown": [
       "Your report only contains a single element - did you know you can include additional plots, tables and text in a single report? More info <a href='https://docs.datapane.com/reports/blocks/layout-pages-and-selects' target='_blank'>here</a>"
      ],
      "text/plain": [
       "<IPython.core.display.Markdown object>"
      ]
     },
     "metadata": {},
     "output_type": "display_data"
    },
    {
     "data": {
      "text/markdown": [
       "Report successfully uploaded. View and share your report <a href='https://datapane.com/reports/0keDR57/missed-wins-efg-games/' target='_blank'>here</a>, or edit your report <a href='https://datapane.com/reports/0keDR57/missed-wins-efg-games/edit/' target='_blank'>here</a>."
      ],
      "text/plain": [
       "<IPython.core.display.Markdown object>"
      ]
     },
     "metadata": {},
     "output_type": "display_data"
    }
   ],
   "source": [
    "lost_efg = go.Figure(data=[go.Table(\n",
    "    header=dict(values=['Date','Game', 'EFG% Diff', 'TOV% Diff', 'OREB% Diff','FTR Diff', 'Probability'],\n",
    "                fill_color='paleturquoise',\n",
    "                align='left'),\n",
    "    cells=dict(values=[not_efg['GAME_DATE'],not_efg['MATCHUP'], np.round(not_efg['EFG_Diff'],4), np.round(not_efg['TOV_PCT_Diff'],4),np.round(not_efg['OREB_PCT_Diff'],4),np.round(not_efg['FT_RATE_Diff'],4), np.round(not_efg['Win Probability'],4)],\n",
    "               fill_color='lavender',\n",
    "               align='left'))\n",
    "])\n",
    "\n",
    "lost_efg.update_layout(title_text = \"Missed Wins from the Raptors where they Lost the EFG Differential\")\n",
    "lost_efg.show()\n",
    "report = dp.Report(\n",
    "    dp.Plot(lost_efg)\n",
    "    )\n",
    "\n",
    "\n",
    "\n",
    "report.upload(formatting = dp.ReportFormatting(width=dp.ReportWidth.FULL, text_alignment=dp.TextAlignment.LEFT),name='Missed Wins EFG Games', publicly_visible=True)"
   ]
  },
  {
   "cell_type": "code",
   "execution_count": 34,
   "id": "9b28d359",
   "metadata": {},
   "outputs": [
    {
     "data": {
      "text/html": [
       "<div>\n",
       "<style scoped>\n",
       "    .dataframe tbody tr th:only-of-type {\n",
       "        vertical-align: middle;\n",
       "    }\n",
       "\n",
       "    .dataframe tbody tr th {\n",
       "        vertical-align: top;\n",
       "    }\n",
       "\n",
       "    .dataframe thead th {\n",
       "        text-align: right;\n",
       "    }\n",
       "</style>\n",
       "<table border=\"1\" class=\"dataframe\">\n",
       "  <thead>\n",
       "    <tr style=\"text-align: right;\">\n",
       "      <th></th>\n",
       "      <th>GAME_ID</th>\n",
       "      <th>GAME_DATE</th>\n",
       "      <th>MATCHUP</th>\n",
       "      <th>PLUS_MINUS</th>\n",
       "      <th>EFG_PCT</th>\n",
       "      <th>OPP_EFG_PCT</th>\n",
       "      <th>EFG_Diff</th>\n",
       "      <th>TOV_PCT_Diff</th>\n",
       "      <th>TOV Margin</th>\n",
       "      <th>OREB_PCT_Diff</th>\n",
       "      <th>Oreb Diff</th>\n",
       "      <th>FT_RATE_Diff</th>\n",
       "      <th>Win Probability</th>\n",
       "    </tr>\n",
       "  </thead>\n",
       "  <tbody>\n",
       "    <tr>\n",
       "      <th>7</th>\n",
       "      <td>0022100099</td>\n",
       "      <td>2021-11-01</td>\n",
       "      <td>TOR @ NYK</td>\n",
       "      <td>9.0</td>\n",
       "      <td>0.505</td>\n",
       "      <td>0.566</td>\n",
       "      <td>-0.061</td>\n",
       "      <td>0.087</td>\n",
       "      <td>8.0</td>\n",
       "      <td>0.032</td>\n",
       "      <td>6.0</td>\n",
       "      <td>-0.175</td>\n",
       "      <td>0.075420</td>\n",
       "    </tr>\n",
       "    <tr>\n",
       "      <th>70</th>\n",
       "      <td>0022101069</td>\n",
       "      <td>2022-03-20</td>\n",
       "      <td>TOR @ PHI</td>\n",
       "      <td>5.0</td>\n",
       "      <td>0.414</td>\n",
       "      <td>0.459</td>\n",
       "      <td>-0.045</td>\n",
       "      <td>0.013</td>\n",
       "      <td>1.0</td>\n",
       "      <td>0.176</td>\n",
       "      <td>15.0</td>\n",
       "      <td>-0.137</td>\n",
       "      <td>0.127028</td>\n",
       "    </tr>\n",
       "    <tr>\n",
       "      <th>79</th>\n",
       "      <td>0022101197</td>\n",
       "      <td>2022-04-07</td>\n",
       "      <td>TOR vs. PHI</td>\n",
       "      <td>5.0</td>\n",
       "      <td>0.577</td>\n",
       "      <td>0.620</td>\n",
       "      <td>-0.043</td>\n",
       "      <td>0.063</td>\n",
       "      <td>6.0</td>\n",
       "      <td>0.020</td>\n",
       "      <td>6.0</td>\n",
       "      <td>-0.135</td>\n",
       "      <td>0.133808</td>\n",
       "    </tr>\n",
       "    <tr>\n",
       "      <th>28</th>\n",
       "      <td>0022100430</td>\n",
       "      <td>2022-02-03</td>\n",
       "      <td>TOR vs. CHI</td>\n",
       "      <td>7.0</td>\n",
       "      <td>0.487</td>\n",
       "      <td>0.544</td>\n",
       "      <td>-0.057</td>\n",
       "      <td>0.050</td>\n",
       "      <td>5.0</td>\n",
       "      <td>0.068</td>\n",
       "      <td>12.0</td>\n",
       "      <td>-0.099</td>\n",
       "      <td>0.113247</td>\n",
       "    </tr>\n",
       "    <tr>\n",
       "      <th>39</th>\n",
       "      <td>0022100599</td>\n",
       "      <td>2022-01-09</td>\n",
       "      <td>TOR vs. NOP</td>\n",
       "      <td>4.0</td>\n",
       "      <td>0.506</td>\n",
       "      <td>0.533</td>\n",
       "      <td>-0.027</td>\n",
       "      <td>-0.001</td>\n",
       "      <td>0.0</td>\n",
       "      <td>0.062</td>\n",
       "      <td>8.0</td>\n",
       "      <td>-0.098</td>\n",
       "      <td>0.215261</td>\n",
       "    </tr>\n",
       "    <tr>\n",
       "      <th>6</th>\n",
       "      <td>0022100081</td>\n",
       "      <td>2021-10-30</td>\n",
       "      <td>TOR @ IND</td>\n",
       "      <td>3.0</td>\n",
       "      <td>0.484</td>\n",
       "      <td>0.512</td>\n",
       "      <td>-0.028</td>\n",
       "      <td>0.026</td>\n",
       "      <td>2.0</td>\n",
       "      <td>-0.022</td>\n",
       "      <td>4.0</td>\n",
       "      <td>-0.068</td>\n",
       "      <td>0.234715</td>\n",
       "    </tr>\n",
       "    <tr>\n",
       "      <th>66</th>\n",
       "      <td>0022101009</td>\n",
       "      <td>2022-03-12</td>\n",
       "      <td>TOR @ DEN</td>\n",
       "      <td>12.0</td>\n",
       "      <td>0.529</td>\n",
       "      <td>0.622</td>\n",
       "      <td>-0.093</td>\n",
       "      <td>0.111</td>\n",
       "      <td>11.0</td>\n",
       "      <td>0.086</td>\n",
       "      <td>14.0</td>\n",
       "      <td>-0.063</td>\n",
       "      <td>0.057023</td>\n",
       "    </tr>\n",
       "    <tr>\n",
       "      <th>80</th>\n",
       "      <td>0022101206</td>\n",
       "      <td>2022-04-08</td>\n",
       "      <td>TOR vs. HOU</td>\n",
       "      <td>2.0</td>\n",
       "      <td>0.495</td>\n",
       "      <td>0.593</td>\n",
       "      <td>-0.098</td>\n",
       "      <td>0.086</td>\n",
       "      <td>9.0</td>\n",
       "      <td>0.025</td>\n",
       "      <td>6.0</td>\n",
       "      <td>-0.056</td>\n",
       "      <td>0.052140</td>\n",
       "    </tr>\n",
       "    <tr>\n",
       "      <th>12</th>\n",
       "      <td>0022100171</td>\n",
       "      <td>2021-11-11</td>\n",
       "      <td>TOR @ PHI</td>\n",
       "      <td>6.0</td>\n",
       "      <td>0.510</td>\n",
       "      <td>0.517</td>\n",
       "      <td>-0.007</td>\n",
       "      <td>-0.000</td>\n",
       "      <td>0.0</td>\n",
       "      <td>0.025</td>\n",
       "      <td>7.0</td>\n",
       "      <td>-0.039</td>\n",
       "      <td>0.373428</td>\n",
       "    </tr>\n",
       "    <tr>\n",
       "      <th>25</th>\n",
       "      <td>0022100385</td>\n",
       "      <td>2021-12-10</td>\n",
       "      <td>TOR vs. NYK</td>\n",
       "      <td>3.0</td>\n",
       "      <td>0.414</td>\n",
       "      <td>0.414</td>\n",
       "      <td>0.000</td>\n",
       "      <td>0.076</td>\n",
       "      <td>7.0</td>\n",
       "      <td>-0.124</td>\n",
       "      <td>-2.0</td>\n",
       "      <td>-0.032</td>\n",
       "      <td>0.423539</td>\n",
       "    </tr>\n",
       "    <tr>\n",
       "      <th>4</th>\n",
       "      <td>0022100058</td>\n",
       "      <td>2021-10-27</td>\n",
       "      <td>TOR vs. IND</td>\n",
       "      <td>18.0</td>\n",
       "      <td>0.530</td>\n",
       "      <td>0.544</td>\n",
       "      <td>-0.014</td>\n",
       "      <td>0.114</td>\n",
       "      <td>11.0</td>\n",
       "      <td>-0.081</td>\n",
       "      <td>7.0</td>\n",
       "      <td>-0.025</td>\n",
       "      <td>0.347296</td>\n",
       "    </tr>\n",
       "    <tr>\n",
       "      <th>50</th>\n",
       "      <td>0022100767</td>\n",
       "      <td>2022-01-31</td>\n",
       "      <td>TOR @ ATL</td>\n",
       "      <td>6.0</td>\n",
       "      <td>0.528</td>\n",
       "      <td>0.531</td>\n",
       "      <td>-0.003</td>\n",
       "      <td>0.072</td>\n",
       "      <td>7.0</td>\n",
       "      <td>-0.045</td>\n",
       "      <td>1.0</td>\n",
       "      <td>-0.007</td>\n",
       "      <td>0.432875</td>\n",
       "    </tr>\n",
       "    <tr>\n",
       "      <th>38</th>\n",
       "      <td>0022100584</td>\n",
       "      <td>2022-01-07</td>\n",
       "      <td>TOR vs. UTA</td>\n",
       "      <td>14.0</td>\n",
       "      <td>0.510</td>\n",
       "      <td>0.586</td>\n",
       "      <td>-0.076</td>\n",
       "      <td>0.115</td>\n",
       "      <td>12.0</td>\n",
       "      <td>0.055</td>\n",
       "      <td>12.0</td>\n",
       "      <td>0.028</td>\n",
       "      <td>0.123518</td>\n",
       "    </tr>\n",
       "    <tr>\n",
       "      <th>65</th>\n",
       "      <td>0022101003</td>\n",
       "      <td>2022-03-11</td>\n",
       "      <td>TOR @ PHX</td>\n",
       "      <td>5.0</td>\n",
       "      <td>0.521</td>\n",
       "      <td>0.563</td>\n",
       "      <td>-0.042</td>\n",
       "      <td>-0.007</td>\n",
       "      <td>-1.0</td>\n",
       "      <td>0.035</td>\n",
       "      <td>7.0</td>\n",
       "      <td>0.030</td>\n",
       "      <td>0.251780</td>\n",
       "    </tr>\n",
       "    <tr>\n",
       "      <th>61</th>\n",
       "      <td>0022100928</td>\n",
       "      <td>2022-03-01</td>\n",
       "      <td>TOR vs. BKN</td>\n",
       "      <td>1.0</td>\n",
       "      <td>0.494</td>\n",
       "      <td>0.560</td>\n",
       "      <td>-0.066</td>\n",
       "      <td>-0.011</td>\n",
       "      <td>-1.0</td>\n",
       "      <td>0.111</td>\n",
       "      <td>9.0</td>\n",
       "      <td>0.030</td>\n",
       "      <td>0.154846</td>\n",
       "    </tr>\n",
       "    <tr>\n",
       "      <th>67</th>\n",
       "      <td>0022101028</td>\n",
       "      <td>2022-03-14</td>\n",
       "      <td>TOR @ LAL</td>\n",
       "      <td>11.0</td>\n",
       "      <td>0.458</td>\n",
       "      <td>0.466</td>\n",
       "      <td>-0.008</td>\n",
       "      <td>0.002</td>\n",
       "      <td>0.0</td>\n",
       "      <td>0.131</td>\n",
       "      <td>10.0</td>\n",
       "      <td>0.042</td>\n",
       "      <td>0.456833</td>\n",
       "    </tr>\n",
       "    <tr>\n",
       "      <th>68</th>\n",
       "      <td>0022101044</td>\n",
       "      <td>2022-03-16</td>\n",
       "      <td>TOR @ LAC</td>\n",
       "      <td>3.0</td>\n",
       "      <td>0.524</td>\n",
       "      <td>0.558</td>\n",
       "      <td>-0.034</td>\n",
       "      <td>0.036</td>\n",
       "      <td>3.0</td>\n",
       "      <td>0.021</td>\n",
       "      <td>3.0</td>\n",
       "      <td>0.061</td>\n",
       "      <td>0.321917</td>\n",
       "    </tr>\n",
       "    <tr>\n",
       "      <th>45</th>\n",
       "      <td>0022100689</td>\n",
       "      <td>2022-01-21</td>\n",
       "      <td>TOR @ WAS</td>\n",
       "      <td>4.0</td>\n",
       "      <td>0.528</td>\n",
       "      <td>0.571</td>\n",
       "      <td>-0.043</td>\n",
       "      <td>0.102</td>\n",
       "      <td>10.0</td>\n",
       "      <td>-0.121</td>\n",
       "      <td>0.0</td>\n",
       "      <td>0.071</td>\n",
       "      <td>0.283471</td>\n",
       "    </tr>\n",
       "    <tr>\n",
       "      <th>5</th>\n",
       "      <td>0022100071</td>\n",
       "      <td>2021-10-29</td>\n",
       "      <td>TOR vs. ORL</td>\n",
       "      <td>1.0</td>\n",
       "      <td>0.552</td>\n",
       "      <td>0.563</td>\n",
       "      <td>-0.011</td>\n",
       "      <td>0.088</td>\n",
       "      <td>9.0</td>\n",
       "      <td>-0.151</td>\n",
       "      <td>-3.0</td>\n",
       "      <td>0.072</td>\n",
       "      <td>0.471993</td>\n",
       "    </tr>\n",
       "    <tr>\n",
       "      <th>34</th>\n",
       "      <td>0022100534</td>\n",
       "      <td>2021-12-31</td>\n",
       "      <td>TOR vs. LAC</td>\n",
       "      <td>8.0</td>\n",
       "      <td>0.474</td>\n",
       "      <td>0.583</td>\n",
       "      <td>-0.109</td>\n",
       "      <td>0.065</td>\n",
       "      <td>6.0</td>\n",
       "      <td>0.183</td>\n",
       "      <td>15.0</td>\n",
       "      <td>0.100</td>\n",
       "      <td>0.078220</td>\n",
       "    </tr>\n",
       "    <tr>\n",
       "      <th>78</th>\n",
       "      <td>0022101182</td>\n",
       "      <td>2022-04-05</td>\n",
       "      <td>TOR vs. ATL</td>\n",
       "      <td>10.0</td>\n",
       "      <td>0.480</td>\n",
       "      <td>0.532</td>\n",
       "      <td>-0.052</td>\n",
       "      <td>-0.005</td>\n",
       "      <td>-1.0</td>\n",
       "      <td>0.124</td>\n",
       "      <td>10.0</td>\n",
       "      <td>0.179</td>\n",
       "      <td>0.340231</td>\n",
       "    </tr>\n",
       "  </tbody>\n",
       "</table>\n",
       "</div>"
      ],
      "text/plain": [
       "       GAME_ID   GAME_DATE      MATCHUP  PLUS_MINUS  EFG_PCT  OPP_EFG_PCT  \\\n",
       "7   0022100099  2021-11-01    TOR @ NYK         9.0    0.505        0.566   \n",
       "70  0022101069  2022-03-20    TOR @ PHI         5.0    0.414        0.459   \n",
       "79  0022101197  2022-04-07  TOR vs. PHI         5.0    0.577        0.620   \n",
       "28  0022100430  2022-02-03  TOR vs. CHI         7.0    0.487        0.544   \n",
       "39  0022100599  2022-01-09  TOR vs. NOP         4.0    0.506        0.533   \n",
       "6   0022100081  2021-10-30    TOR @ IND         3.0    0.484        0.512   \n",
       "66  0022101009  2022-03-12    TOR @ DEN        12.0    0.529        0.622   \n",
       "80  0022101206  2022-04-08  TOR vs. HOU         2.0    0.495        0.593   \n",
       "12  0022100171  2021-11-11    TOR @ PHI         6.0    0.510        0.517   \n",
       "25  0022100385  2021-12-10  TOR vs. NYK         3.0    0.414        0.414   \n",
       "4   0022100058  2021-10-27  TOR vs. IND        18.0    0.530        0.544   \n",
       "50  0022100767  2022-01-31    TOR @ ATL         6.0    0.528        0.531   \n",
       "38  0022100584  2022-01-07  TOR vs. UTA        14.0    0.510        0.586   \n",
       "65  0022101003  2022-03-11    TOR @ PHX         5.0    0.521        0.563   \n",
       "61  0022100928  2022-03-01  TOR vs. BKN         1.0    0.494        0.560   \n",
       "67  0022101028  2022-03-14    TOR @ LAL        11.0    0.458        0.466   \n",
       "68  0022101044  2022-03-16    TOR @ LAC         3.0    0.524        0.558   \n",
       "45  0022100689  2022-01-21    TOR @ WAS         4.0    0.528        0.571   \n",
       "5   0022100071  2021-10-29  TOR vs. ORL         1.0    0.552        0.563   \n",
       "34  0022100534  2021-12-31  TOR vs. LAC         8.0    0.474        0.583   \n",
       "78  0022101182  2022-04-05  TOR vs. ATL        10.0    0.480        0.532   \n",
       "\n",
       "    EFG_Diff  TOV_PCT_Diff  TOV Margin  OREB_PCT_Diff  Oreb Diff  \\\n",
       "7     -0.061         0.087         8.0          0.032        6.0   \n",
       "70    -0.045         0.013         1.0          0.176       15.0   \n",
       "79    -0.043         0.063         6.0          0.020        6.0   \n",
       "28    -0.057         0.050         5.0          0.068       12.0   \n",
       "39    -0.027        -0.001         0.0          0.062        8.0   \n",
       "6     -0.028         0.026         2.0         -0.022        4.0   \n",
       "66    -0.093         0.111        11.0          0.086       14.0   \n",
       "80    -0.098         0.086         9.0          0.025        6.0   \n",
       "12    -0.007        -0.000         0.0          0.025        7.0   \n",
       "25     0.000         0.076         7.0         -0.124       -2.0   \n",
       "4     -0.014         0.114        11.0         -0.081        7.0   \n",
       "50    -0.003         0.072         7.0         -0.045        1.0   \n",
       "38    -0.076         0.115        12.0          0.055       12.0   \n",
       "65    -0.042        -0.007        -1.0          0.035        7.0   \n",
       "61    -0.066        -0.011        -1.0          0.111        9.0   \n",
       "67    -0.008         0.002         0.0          0.131       10.0   \n",
       "68    -0.034         0.036         3.0          0.021        3.0   \n",
       "45    -0.043         0.102        10.0         -0.121        0.0   \n",
       "5     -0.011         0.088         9.0         -0.151       -3.0   \n",
       "34    -0.109         0.065         6.0          0.183       15.0   \n",
       "78    -0.052        -0.005        -1.0          0.124       10.0   \n",
       "\n",
       "    FT_RATE_Diff  Win Probability  \n",
       "7         -0.175         0.075420  \n",
       "70        -0.137         0.127028  \n",
       "79        -0.135         0.133808  \n",
       "28        -0.099         0.113247  \n",
       "39        -0.098         0.215261  \n",
       "6         -0.068         0.234715  \n",
       "66        -0.063         0.057023  \n",
       "80        -0.056         0.052140  \n",
       "12        -0.039         0.373428  \n",
       "25        -0.032         0.423539  \n",
       "4         -0.025         0.347296  \n",
       "50        -0.007         0.432875  \n",
       "38         0.028         0.123518  \n",
       "65         0.030         0.251780  \n",
       "61         0.030         0.154846  \n",
       "67         0.042         0.456833  \n",
       "68         0.061         0.321917  \n",
       "45         0.071         0.283471  \n",
       "5          0.072         0.471993  \n",
       "34         0.100         0.078220  \n",
       "78         0.179         0.340231  "
      ]
     },
     "execution_count": 34,
     "metadata": {},
     "output_type": "execute_result"
    }
   ],
   "source": [
    "not_efg"
   ]
  },
  {
   "cell_type": "code",
   "execution_count": 27,
   "id": "45e19831",
   "metadata": {},
   "outputs": [
    {
     "data": {
      "text/plain": [
       "10"
      ]
     },
     "execution_count": 27,
     "metadata": {},
     "output_type": "execute_result"
    }
   ],
   "source": [
    "len(wins_df[(wins_df['EFG_Diff']<0)& (wins_df['OREB_PCT_Diff']>0) & (wins_df['TOV_PCT_Diff']>0)])"
   ]
  },
  {
   "cell_type": "code",
   "execution_count": 28,
   "id": "acd4928a",
   "metadata": {},
   "outputs": [
    {
     "data": {
      "text/plain": [
       "5"
      ]
     },
     "execution_count": 28,
     "metadata": {},
     "output_type": "execute_result"
    }
   ],
   "source": [
    "len(wins_df[(wins_df['EFG_Diff']<0)& (wins_df['OREB_PCT_Diff']<=0) & (wins_df['TOV_PCT_Diff']>0)])"
   ]
  },
  {
   "cell_type": "code",
   "execution_count": 29,
   "id": "74ba14c5",
   "metadata": {},
   "outputs": [
    {
     "data": {
      "text/plain": [
       "5"
      ]
     },
     "execution_count": 29,
     "metadata": {},
     "output_type": "execute_result"
    }
   ],
   "source": [
    "len(wins_df[(wins_df['EFG_Diff']<0)& (wins_df['OREB_PCT_Diff']>0) & (wins_df['TOV_PCT_Diff']<=0)])"
   ]
  },
  {
   "cell_type": "markdown",
   "id": "41107d80",
   "metadata": {},
   "source": [
    "* In 14 of the 15 wins that the model did not predict, the Raptors won the offensive rebounding percent differential. In the one game that they did not against the Pacers on October 30th, they still won the raw offensive rebounding battle by 4 rebounds. \n",
    "\n",
    "* In every single one of these games, the Raptors were outshot in terms of effective field goal percentage. \n",
    "\n",
    "* In all of these games, the Raptors either won the Turnover percentage differential, or lost it by less than 2%. Further, they never lost the raw turnover battle by more than 1 turnover.\n",
    "\n",
    "* Typically, in games when the Raptors are far behind in the free throw rate differential, they manage to win both the turnover percentage and offensive rebounding differential. It doesn't seem however, that free throw rate has a huge impact in either direction on prediction as there's many games where the Raptors had a higher and lower free throw rate than their opponent. \n",
    "\n",
    "* So what we see is that when the Raptors are winning these games where they get outshot by forcing turnovers and hitting the offensive boards. These wins show that maybe this model overvalues shooting and undervalues turnover percentage difference for the Raptors, specifically. In other words, it seems like under these parameters, the 2021-2022 Raptors are not representative of the general NBA population relative to other teams.  \n",
    "\n"
   ]
  }
 ],
 "metadata": {
  "kernelspec": {
   "display_name": "Python 3.9.12 ('base')",
   "language": "python",
   "name": "python3"
  },
  "language_info": {
   "codemirror_mode": {
    "name": "ipython",
    "version": 3
   },
   "file_extension": ".py",
   "mimetype": "text/x-python",
   "name": "python",
   "nbconvert_exporter": "python",
   "pygments_lexer": "ipython3",
   "version": "3.9.12"
  },
  "vscode": {
   "interpreter": {
    "hash": "396bc984c26c20e972fc76dff58d22292875450b5bb51a6c2646ad8739cca8e0"
   }
  }
 },
 "nbformat": 4,
 "nbformat_minor": 5
}
